{
 "cells": [
  {
   "cell_type": "markdown",
   "id": "53d0eaf1",
   "metadata": {},
   "source": [
    "### Exercise 1: Class Definition\n",
    "\n",
    "Define a class called `AIAssistant` that represents an AI-powered virtual assistant. The class should have an attribute `name` to store the assistant's name and a method `greet()` that prints a welcome message like \"Hello! I'm ai_assistant_name, your AI assistant.\"."
   ]
  },
  {
   "cell_type": "code",
   "execution_count": null,
   "id": "2796f695",
   "metadata": {},
   "outputs": [],
   "source": [
    "# TODO: Define the AIAssistant class\n",
    "class AIAssistant:\n",
    "    def __init__(self, name):\n",
    "        # TODO: Set up the name of the assistant\n",
    "    \n",
    "    # TODO: Implement the greet method"
   ]
  },
  {
   "cell_type": "markdown",
   "id": "8c00fdaa",
   "metadata": {},
   "source": [
    "### Exercise 2: Objects and Object Instantiation\n",
    "\n",
    "Create a class called `NeuralNetwork` to represent a basic artificial neural network. The class should have attributes `input_size`, `hidden_size`, and `output_size`. Implement a method `train()` that simulates the training process of the neural network by printing 'Training the neural network...'."
   ]
  },
  {
   "cell_type": "code",
   "execution_count": null,
   "id": "4e68003b",
   "metadata": {},
   "outputs": [],
   "source": [
    "class NeuralNetwork:\n",
    "    # TODO: Define the NeuralNetwork class\n",
    "\n",
    "    # TODO: Implement the train method\n",
    "\n",
    "# TODO: Create an object of the NeuralNetwork class with input_siz 10, hidden_size 150, and output_size 3\n",
    "# TODO: Call the train method"
   ]
  },
  {
   "cell_type": "markdown",
   "id": "73c63884",
   "metadata": {},
   "source": [
    "### Exercise 3: Class Constructor\n",
    "\n",
    "Create a class called `ImageProcessor` that represents an image processing utility. The class should have a constructor that takes the filename of an image as an argument and initializes the object's filename."
   ]
  },
  {
   "cell_type": "code",
   "execution_count": 24,
   "id": "a2b5c328",
   "metadata": {},
   "outputs": [],
   "source": [
    "# TODO: Define the ImageProcessor class\n",
    "\n",
    "# TODO: Create an object of the ImageProcessor class with a sample image file \"./images/image.jpg\""
   ]
  },
  {
   "cell_type": "markdown",
   "id": "3960e63f",
   "metadata": {},
   "source": [
    "### Exercise 4: Class Methods\n",
    "\n",
    "Extend the `ImageProcessor` class from the previous exercise. Add a method `resize()` that simulates resizing the image to a specified width and height by printing \"Resizing filename to width x height pixels\"."
   ]
  },
  {
   "cell_type": "code",
   "execution_count": 25,
   "id": "24b2b575",
   "metadata": {},
   "outputs": [],
   "source": [
    "# TODO: Extend the ImageProcessor class with a resize method\n",
    "\n",
    "# TODO: Create an object of the ImageProcessor class with filename \"./images/image.jpg\"\n",
    "\n",
    "# TODO: Call the resize method with parameters width 800, and height 600"
   ]
  },
  {
   "cell_type": "markdown",
   "id": "69d520bf",
   "metadata": {},
   "source": [
    "### Exercise 5: Inheritance in Python Class\n",
    "\n",
    "Create a class called `Chatbot` that represents a chatbot. Extend the `Chatbot` class to create a specialized class `AIChatbot` that inherits from `Chatbot`. Add a method `process_message()` to the AIChatbot class that processes and responds to user messages using AI algorithms."
   ]
  },
  {
   "cell_type": "code",
   "execution_count": 26,
   "id": "00e258ad",
   "metadata": {},
   "outputs": [],
   "source": [
    "# TODO: Define the Chatbot class with constructor that sets the attribute name and greet() method that greets \"Hi, I am x, you AI Chatbot.\"\n",
    "\n",
    "# TODO: Extend the Chatbot class with the AIChatbot class and implement the process_message() method that prints \"Processing message: message ...\"\n",
    "\n",
    "# TODO: Create an object of the AIChatbot class\n",
    "\n",
    "# TODO: Call the greet and process_message methods"
   ]
  },
  {
   "cell_type": "markdown",
   "id": "5da073b2",
   "metadata": {},
   "source": [
    "### Exercise 6: Encapsulation\n",
    "\n",
    "Create a class called `Person` that represents a person. Encapsulate the attributes `name`, `age`, and `email` to ensure they can only be accessed through getter and setter methods."
   ]
  },
  {
   "cell_type": "code",
   "execution_count": 27,
   "id": "22d58be7",
   "metadata": {},
   "outputs": [],
   "source": [
    "# TODO: Define the Person class with encapsulated attributes\n",
    "class Person:\n",
    "    def __init__(self, name, age, email):\n",
    "        self._name = name\n",
    "        self._age = age\n",
    "        self._email = email\n",
    "\n",
    "    # TODO: Implement the getter of name\n",
    "\n",
    "    # TODO: Implement the setter of name\n",
    "\n",
    "    # TODO: Implement the getter of age\n",
    "\n",
    "    # TODO: Implement the setter of age\n",
    "\n",
    "    # TODO: Implement the getter of email\n",
    "\n",
    "    # TODO: Implement the setter of email\n",
    "\n",
    "# TODO: Create an object of the Person class\n",
    "\n",
    "# TODO: Modify the object's name, age and email using the setter method\n",
    "\n",
    "# TODO: Demonstrate encapsulation by printing its name, age and email using the getter method"
   ]
  },
  {
   "cell_type": "markdown",
   "id": "3b9bc9f6",
   "metadata": {},
   "source": [
    "### Exercise 7: Polymorphism\n",
    "\n",
    "Create a class called `Shape` that represents a geometric shape. Define a method `area()` in the `Shape` class. Extend the `Shape` class to create specialized classes `Rectangle` and `Circle` that override the `area()` method to calculate the area of a rectangle and circle, respectively."
   ]
  },
  {
   "cell_type": "code",
   "execution_count": 28,
   "id": "3cdf4cbf",
   "metadata": {},
   "outputs": [],
   "source": [
    "# TODO: Define the Shape class with only one method area() that returns \"The area of this shape is unkown\"\n",
    "\n",
    "# TODO: Extend the Shape class with the Rectangle class, with width and height attributes\n",
    "\n",
    "# TODO: Define in the class the area() method as the product of width and height\n",
    "\n",
    "# TODO: Extend the Shape class with the Circle class, with radius attribute\n",
    "\n",
    "# TODO: Define in the class the area() method as 3.14 x radius**2\n",
    "\n",
    "# TODO: Extend the Shape class with the Triangle class, with triangle_type attribute\n",
    "\n",
    "# TODO: Create objects of the Rectangle, Circle and Triangle classes\n",
    "\n",
    "# TODO: Demonstrate polymorphism by calling the area() method"
   ]
  }
 ],
 "metadata": {
  "kernelspec": {
   "display_name": "Python 3 (ipykernel)",
   "language": "python",
   "name": "python3"
  },
  "language_info": {
   "codemirror_mode": {
    "name": "ipython",
    "version": 3
   },
   "file_extension": ".py",
   "mimetype": "text/x-python",
   "name": "python",
   "nbconvert_exporter": "python",
   "pygments_lexer": "ipython3",
   "version": "3.10.9"
  }
 },
 "nbformat": 4,
 "nbformat_minor": 5
}
