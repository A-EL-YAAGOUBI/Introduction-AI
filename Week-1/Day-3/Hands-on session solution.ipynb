{
 "cells": [
  {
   "cell_type": "markdown",
   "id": "53d0eaf1",
   "metadata": {},
   "source": [
    "### Exercise 1: Class Definition\n",
    "\n",
    "Define a class called `AIAssistant` that represents an AI-powered virtual assistant. The class should have an attribute `name` to store the assistant's name and a method `greet()` that prints a welcome message like \"Hello! I'm ai_assistant_name, your AI assistant.\"."
   ]
  },
  {
   "cell_type": "code",
   "execution_count": 1,
   "id": "2796f695",
   "metadata": {},
   "outputs": [
    {
     "name": "stdout",
     "output_type": "stream",
     "text": [
      "Hello! I'm AI_Bot, your AI assistant.\n"
     ]
    }
   ],
   "source": [
    "# TODO: Define the AIAssistant class\n",
    "class AIAssistant:\n",
    "    def __init__(self, name):\n",
    "        self.name = name\n",
    "    \n",
    "    # TODO: Implement the greet method\n",
    "    def greet(self):\n",
    "        print(f\"Hello! I'm {self.name}, your AI assistant.\")\n",
    "\n",
    "# TODO: Create an object of the AIAssistant class and call the greet method\n",
    "assistant = AIAssistant(\"AI_Bot\")\n",
    "assistant.greet()"
   ]
  },
  {
   "cell_type": "markdown",
   "id": "8c00fdaa",
   "metadata": {},
   "source": [
    "### Exercise 2: Objects and Object Instantiation\n",
    "\n",
    "Create a class called `NeuralNetwork` to represent a basic artificial neural network. The class should have attributes `input_size`, `hidden_size`, and `output_size`. Implement a method `train()` that simulates the training process of the neural network by printing 'Training the neural network...'."
   ]
  },
  {
   "cell_type": "code",
   "execution_count": 2,
   "id": "4e68003b",
   "metadata": {},
   "outputs": [
    {
     "name": "stdout",
     "output_type": "stream",
     "text": [
      "Training the neural network...\n"
     ]
    }
   ],
   "source": [
    "# TODO: Define the NeuralNetwork class\n",
    "class NeuralNetwork:\n",
    "    def __init__(self, input_size, hidden_size, output_size):\n",
    "        self.input_size = input_size\n",
    "        self.hidden_size = hidden_size\n",
    "        self.output_size = output_size\n",
    "\n",
    "    # TODO: Implement the train method\n",
    "    def train(self):\n",
    "        print(\"Training the neural network...\")\n",
    "\n",
    "# TODO: Create an object of the NeuralNetwork class with input_siz 10, hidden_size 150, and output_size 3\n",
    "network = NeuralNetwork(10, 150, 3)\n",
    "\n",
    "# TODO: Call the train method\n",
    "network.train()"
   ]
  },
  {
   "cell_type": "markdown",
   "id": "73c63884",
   "metadata": {},
   "source": [
    "### Exercise 3: Class Constructor\n",
    "\n",
    "Create a class called `ImageProcessor` that represents an image processing utility. The class should have a constructor that takes the filename of an image as an argument and initializes the object with the image data."
   ]
  },
  {
   "cell_type": "code",
   "execution_count": 3,
   "id": "a2b5c328",
   "metadata": {},
   "outputs": [],
   "source": [
    "# TODO: Define the ImageProcessor class\n",
    "class ImageProcessor:\n",
    "    def __init__(self, filename):\n",
    "        self.filename = filename\n",
    "\n",
    "# TODO: Create an object of the ImageProcessor class with a sample image file \"./images/image.jpg\"\n",
    "processor = ImageProcessor(\"./images/image.jpg\")"
   ]
  },
  {
   "cell_type": "markdown",
   "id": "3960e63f",
   "metadata": {},
   "source": [
    "### Exercise 4: Class Methods\n",
    "\n",
    "Add the resize method and `filename`, `width`, `height` to `ImageProcessor` class from the previous exercise. The `resize()` method simulates resizing the image to a specified width and height by printing \"Resizing filename to width x height pixels\"."
   ]
  },
  {
   "cell_type": "code",
   "execution_count": 4,
   "id": "24b2b575",
   "metadata": {},
   "outputs": [
    {
     "name": "stdout",
     "output_type": "stream",
     "text": [
      "Object details before resize: \n",
      "File name:  ./images/image.jpg\n",
      "Image width :  1080\n",
      "Image height :  1920\n",
      "\n",
      "Resizing ./images/image.jpg to 800x600 pixels.\n",
      "\n",
      "Object details after resize: \n",
      "File name:  ./images/image.jpg\n",
      "Image width :  800\n",
      "Image height :  600\n"
     ]
    }
   ],
   "source": [
    "# TODO: Add the resize method and filename, width, height attributes to ImageProcessor class\n",
    "class ImageProcessor:\n",
    "    def __init__(self, filename, width, height):\n",
    "        self.filename = filename\n",
    "        self.width = width\n",
    "        self.height = height\n",
    "        \n",
    "    def resize(self, width, height):\n",
    "        print(f\"\\nResizing {self.filename} to {width}x{height} pixels.\")\n",
    "        self.width = width\n",
    "        self.height = height\n",
    "\n",
    "# TODO: Create an object of the ImageProcessor class and call the resize method\n",
    "processor = ImageProcessor(\"./images/image.jpg\", 1080, 1920)\n",
    "\n",
    "print(\"Object details before resize: \")\n",
    "print(\"File name: \", processor.filename)\n",
    "print(\"Image width : \", processor.width)\n",
    "print(\"Image height : \", processor.height)\n",
    "\n",
    "# TODO: Call the resize method with parameters width 800, and height 600\n",
    "processor.resize(800, 600)\n",
    "\n",
    "print(\"\\nObject details after resize: \")\n",
    "print(\"File name: \", processor.filename)\n",
    "print(\"Image width : \", processor.width)\n",
    "print(\"Image height : \", processor.height)"
   ]
  },
  {
   "cell_type": "markdown",
   "id": "69d520bf",
   "metadata": {},
   "source": [
    "### Exercise 5: Inheritance in Python Class\n",
    "\n",
    "Create a class called `Chatbot` that represents a chatbot. Extend the `Chatbot` class to create a specialized class `AIChatbot` that inherits from `Chatbot`. Add a method `process_message()` to the AIChatbot class that processes and responds to user messages using AI algorithms."
   ]
  },
  {
   "cell_type": "code",
   "execution_count": 5,
   "id": "00e258ad",
   "metadata": {},
   "outputs": [
    {
     "name": "stdout",
     "output_type": "stream",
     "text": [
      "Hello! I'm Smart_AI_Chatbot, your chatbot.\n",
      "Processing message: Hello, how can I help you?\n"
     ]
    }
   ],
   "source": [
    "# TODO: Define the Chatbot class with constructor that sets the attribute name and greet() method that greets \"Hi, I am x, you AI Chatbot.\"\n",
    "class Chatbot:\n",
    "    def __init__(self, name):\n",
    "        self.name = name\n",
    "    \n",
    "    def greet(self):\n",
    "        print(f\"Hello! I'm {self.name}, your chatbot.\")\n",
    "\n",
    "# TODO: Extend the Chatbot class with the AIChatbot class and implement the process_message() method that prints \"Processing message: message ...\"\n",
    "class AIChatbot(Chatbot):\n",
    "    def process_message(self, message):\n",
    "        print(f\"Processing message: {message}\")\n",
    "\n",
    "# TODO: Create an object of the AIChatbot class\n",
    "chatbot = AIChatbot(\"Smart_AI_Chatbot\")\n",
    "\n",
    "# TODO: Call the greet and process_message methods\n",
    "chatbot.greet()\n",
    "chatbot.process_message(\"Hello, how can I help you?\")"
   ]
  },
  {
   "cell_type": "markdown",
   "id": "5da073b2",
   "metadata": {},
   "source": [
    "### Exercise 6: Encapsulation\n",
    "\n",
    "Create a class called `Person` that represents a person. Encapsulate the attributes `name`, `age`, and `email` to ensure they can only be accessed through getter and setter methods."
   ]
  },
  {
   "cell_type": "code",
   "execution_count": 6,
   "id": "22d58be7",
   "metadata": {},
   "outputs": [
    {
     "name": "stdout",
     "output_type": "stream",
     "text": [
      "Abdullah\n",
      "30\n",
      "abdullah@kaust.edu.sa\n"
     ]
    }
   ],
   "source": [
    "# TODO: Define the Person class with encapsulated attributes\n",
    "class Person:\n",
    "    def __init__(self, name, age, email):\n",
    "        self._name = name\n",
    "        self._age = age\n",
    "        self._email = email\n",
    "\n",
    "    # TODO: Implement the getter of name\n",
    "    def get_name(self):\n",
    "        return self._name\n",
    "\n",
    "    # TODO: Implement the setter of name\n",
    "    def set_name(self, name):\n",
    "        self._name = name\n",
    "\n",
    "    # TODO: Implement the getter of age\n",
    "    def get_age(self):\n",
    "        return self._age\n",
    "\n",
    "    # TODO: Implement the setter of age\n",
    "    def set_age(self, age):\n",
    "        self._age = age\n",
    "\n",
    "    # TODO: Implement the getter of email\n",
    "    def get_email(self):\n",
    "        return self._email\n",
    "\n",
    "    # TODO: Implement the setter of email\n",
    "    def set_email(self, email):\n",
    "        self._email = email\n",
    "\n",
    "# TODO: Create an object of the Person class\n",
    "person = Person(\"Ali\", 27, \"ali@kaust.edu.sa\")\n",
    "\n",
    "# TODO: Modify the object's name, age and email using the setter method\n",
    "person.set_name(\"Abdullah\")\n",
    "person.set_age(30)\n",
    "person.set_email(\"abdullah@kaust.edu.sa\")\n",
    "\n",
    "# TODO: Demonstrate encapsulation by printing its name, age and email using the getter method\n",
    "print(person.get_name())\n",
    "print(person.get_age())\n",
    "print(person.get_email())"
   ]
  },
  {
   "cell_type": "markdown",
   "id": "3b9bc9f6",
   "metadata": {},
   "source": [
    "### Exercise 7: Polymorphism\n",
    "\n",
    "Create a class called `Shape` that represents a geometric shape. Define a method `area()` in the `Shape` class. Extend the `Shape` class to create specialized classes `Rectangle` and `Circle` that override the `area()` method to calculate the area of a rectangle and circle, respectively."
   ]
  },
  {
   "cell_type": "code",
   "execution_count": 7,
   "id": "3cdf4cbf",
   "metadata": {},
   "outputs": [
    {
     "name": "stdout",
     "output_type": "stream",
     "text": [
      "15\n",
      "3.14\n",
      "The area of this shape is unkown\n"
     ]
    }
   ],
   "source": [
    "# TODO: Define the Shape class with only one method area() that returns \"The area of this shape is unkown\"\n",
    "class Shape:\n",
    "    def area(self):\n",
    "        return \"The area of this shape is unkown\"\n",
    "\n",
    "# TODO: Extend the Shape class with the Rectangle class, with width and height attributes\n",
    "class Rectangle(Shape):\n",
    "    def __init__(self, width, height):\n",
    "        self.width = width\n",
    "        self.height = height\n",
    "    \n",
    "    # TODO: Define in the class the area() method as the product of width and height\n",
    "    def area(self):\n",
    "        return self.width * self.height\n",
    "\n",
    "# TODO: Extend the Shape class with the Circle class, with radius attribute\n",
    "class Circle(Shape):\n",
    "    def __init__(self, radius):\n",
    "        self.radius = radius\n",
    "    \n",
    "    # TODO: Define in the class the area() method as 3.14 x radius**2\n",
    "    def area(self):\n",
    "        return 3.14 * self.radius * self.radius\n",
    "\n",
    "# TODO: Extend the Shape class with the Triangle class, with triangle_type attribute\n",
    "class Triangle(Shape):\n",
    "    def __init__(self, triangle_type):\n",
    "        self.triangle_type = triangle_type\n",
    "\n",
    "# TODO: Create objects of the Rectangle, Circle and Triangle classes\n",
    "rectangle = Rectangle(3, 5)\n",
    "circle = Circle(1)\n",
    "triangle = Triangle(\"Rectangular\")\n",
    "\n",
    "# TODO: Demonstrate polymorphism by calling the area() method\n",
    "print(rectangle.area())\n",
    "print(circle.area())\n",
    "print(triangle.area())"
   ]
  }
 ],
 "metadata": {
  "kernelspec": {
   "display_name": "Python 3 (ipykernel)",
   "language": "python",
   "name": "python3"
  },
  "language_info": {
   "codemirror_mode": {
    "name": "ipython",
    "version": 3
   },
   "file_extension": ".py",
   "mimetype": "text/x-python",
   "name": "python",
   "nbconvert_exporter": "python",
   "pygments_lexer": "ipython3",
   "version": "3.10.9"
  }
 },
 "nbformat": 4,
 "nbformat_minor": 5
}
