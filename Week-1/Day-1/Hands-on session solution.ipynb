{
 "cells": [
  {
   "cell_type": "markdown",
   "id": "53d0eaf1",
   "metadata": {},
   "source": [
    "### Exercise 1: Integers and Floating-Point Numbers in Python\n",
    "\n",
    "Write a program that prompts the user to enter two numbers (an integer and a floating-point number) and calculates their sum. Display the result."
   ]
  },
  {
   "cell_type": "code",
   "execution_count": 1,
   "id": "2796f695",
   "metadata": {},
   "outputs": [
    {
     "name": "stdout",
     "output_type": "stream",
     "text": [
      "Enter an integer: 1\n",
      "Enter a floating-point number: 2.14\n",
      "The sum is: 3.14\n"
     ]
    }
   ],
   "source": [
    "# Prompt the user to enter an integer\n",
    "integer_input = int(input(\"Enter an integer: \"))\n",
    "\n",
    "# Prompt the user to enter a floating-point number\n",
    "float_input = float(input(\"Enter a floating-point number: \"))\n",
    "\n",
    "# TODO: Calculate the sum of the two numbers\n",
    "result = integer_input + float_input\n",
    "\n",
    "# Display the result\n",
    "print(\"The sum is:\", result)"
   ]
  },
  {
   "cell_type": "markdown",
   "id": "8c00fdaa",
   "metadata": {},
   "source": [
    "### Exercise 2: Strings in Python\n",
    "\n",
    "Write a program that asks the user to enter a string and then displays the string reversed."
   ]
  },
  {
   "cell_type": "code",
   "execution_count": 2,
   "id": "4e68003b",
   "metadata": {},
   "outputs": [
    {
     "name": "stdout",
     "output_type": "stream",
     "text": [
      "Enter a string: Welcome\n",
      "Reversed string: emocleW\n"
     ]
    }
   ],
   "source": [
    "# Prompt the user to enter a string\n",
    "user_string = input(\"Enter a string: \")\n",
    "\n",
    "# TODO: Reverse the string\n",
    "reversed_string = user_string[::-1]\n",
    "\n",
    "# Display the reversed string\n",
    "print(\"Reversed string:\", reversed_string)"
   ]
  },
  {
   "cell_type": "markdown",
   "id": "73c63884",
   "metadata": {},
   "source": [
    "### Exercise 3: Boolean Values in Python\n",
    "\n",
    "Write a program that checks if a given number is even or odd. Prompt the user to enter a number, and display whether it is even or odd."
   ]
  },
  {
   "cell_type": "code",
   "execution_count": 3,
   "id": "a2b5c328",
   "metadata": {},
   "outputs": [
    {
     "name": "stdout",
     "output_type": "stream",
     "text": [
      "Enter a number: 13\n",
      "13 is odd.\n"
     ]
    }
   ],
   "source": [
    "# Prompt the user to enter a number\n",
    "number = int(input(\"Enter a number: \"))\n",
    "\n",
    "# TODO: Check if the number is even or odd\n",
    "if number % 2 == 0:\n",
    "    is_even = True\n",
    "else:\n",
    "    is_even = False\n",
    "\n",
    "# or you can make it shorter\n",
    "is_even = True if number % 2 == 0 else False\n",
    "\n",
    "# or you can even make it shorter\n",
    "is_even = number % 2 == 0\n",
    "\n",
    "# Display the result\n",
    "if is_even:\n",
    "    print(number, \"is even.\")\n",
    "else:\n",
    "    print(number, \"is odd.\")"
   ]
  },
  {
   "cell_type": "markdown",
   "id": "3960e63f",
   "metadata": {},
   "source": [
    "### Exercise 4: Arithmetic Operators in Python\n",
    "\n",
    "Write a program that prompts the user to enter two numbers and performs the following operations: addition, subtraction, multiplication, and division. Display the results for each operation."
   ]
  },
  {
   "cell_type": "code",
   "execution_count": 4,
   "id": "24b2b575",
   "metadata": {},
   "outputs": [
    {
     "name": "stdout",
     "output_type": "stream",
     "text": [
      "Enter the first number: 17\n",
      "Enter the second number: 13\n",
      "Addition: 30.0\n",
      "Subtraction: 4.0\n",
      "Multiplication: 221.0\n",
      "Division: 1.3076923076923077\n"
     ]
    }
   ],
   "source": [
    "# Prompt the user to enter two numbers\n",
    "num1 = float(input(\"Enter the first number: \"))\n",
    "num2 = float(input(\"Enter the second number: \"))\n",
    "\n",
    "# TODO: Perform addition, subtraction, multiplication, and division\n",
    "result_addition = num1 + num2\n",
    "result_subtraction = num1 - num2\n",
    "result_multiplication = num1 * num2\n",
    "result_division = num1 / num2\n",
    "\n",
    "# Display the results\n",
    "print(\"Addition:\", result_addition)\n",
    "print(\"Subtraction:\", result_subtraction)\n",
    "print(\"Multiplication:\", result_multiplication)\n",
    "print(\"Division:\", result_division)"
   ]
  },
  {
   "cell_type": "markdown",
   "id": "69d520bf",
   "metadata": {},
   "source": [
    "### Exercise 5: Comparison Operator in Python\n",
    "\n",
    "Write a program that prompts the user to enter two numbers and checks if they are equal or not. Display the result."
   ]
  },
  {
   "cell_type": "code",
   "execution_count": 5,
   "id": "00e258ad",
   "metadata": {},
   "outputs": [
    {
     "name": "stdout",
     "output_type": "stream",
     "text": [
      "Enter the first number: 2\n",
      "Enter the second number: 3\n",
      "The numbers are not equal.\n"
     ]
    }
   ],
   "source": [
    "# Prompt the user to enter two numbers\n",
    "num1 = float(input(\"Enter the first number: \"))\n",
    "num2 = float(input(\"Enter the second number: \"))\n",
    "\n",
    "# TODO: Check if the numbers are equal\n",
    "if num1 == num2:\n",
    "    are_equal = True\n",
    "else:\n",
    "    are_equal = False\n",
    "\n",
    "# or you can make it shorter\n",
    "are_equal = True if num1 == num2 else False\n",
    "\n",
    "# or you can make it even shorter\n",
    "are_equal = (num1 == num2)\n",
    "    \n",
    "# Display the result\n",
    "if are_equal:\n",
    "    print(\"The numbers are equal.\")\n",
    "else:\n",
    "    print(\"The numbers are not equal.\")"
   ]
  },
  {
   "cell_type": "markdown",
   "id": "5da073b2",
   "metadata": {},
   "source": [
    "### Exercise 6: Logical Operators in Python\n",
    "\n",
    "Write a program that prompts the user to enter their age. The program should check if the age is between 18 and 65 (inclusive). Display whether the user is eligible or not."
   ]
  },
  {
   "cell_type": "code",
   "execution_count": 6,
   "id": "22d58be7",
   "metadata": {},
   "outputs": [
    {
     "name": "stdout",
     "output_type": "stream",
     "text": [
      "Enter your age: 21\n",
      "You are eligible.\n"
     ]
    }
   ],
   "source": [
    "# Prompt the user to enter their age\n",
    "age = int(input(\"Enter your age: \"))\n",
    "\n",
    "# TODO: Check if the age is between 18 and 65 (inclusive)\n",
    "if age >= 18 and age <= 65:\n",
    "    is_eligible = True\n",
    "else:\n",
    "    is_eligible = False\n",
    "\n",
    "# or you can make it shorter\n",
    "is_eligible = True if age >= 18 and age <= 65 else False\n",
    "\n",
    "# or you can make it even shorter\n",
    "is_eligible = age >= 18 and age <= 65\n",
    "\n",
    "# Display the result\n",
    "if is_eligible:\n",
    "    print(\"You are eligible.\")\n",
    "else:\n",
    "    print(\"You are not eligible.\")"
   ]
  },
  {
   "cell_type": "markdown",
   "id": "3b9bc9f6",
   "metadata": {},
   "source": [
    "### Exercise 7: Membership Operator in Python\n",
    "\n",
    "Write a program that prompts the user to enter their username. The program should check if the username is in a predefined list of usernames. Display whether the username is valid or not."
   ]
  },
  {
   "cell_type": "code",
   "execution_count": 7,
   "id": "3cdf4cbf",
   "metadata": {},
   "outputs": [
    {
     "name": "stdout",
     "output_type": "stream",
     "text": [
      "Enter your username: Reda\n",
      "Username is invalid.\n"
     ]
    }
   ],
   "source": [
    "# Predefined list of usernames\n",
    "usernames = [\"Ali\", \"Reem\", \"Daoud\", \"Mariam\"]\n",
    "\n",
    "# Prompt the user to enter their username\n",
    "username = input(\"Enter your username: \")\n",
    "\n",
    "# TODO: Check if the username is in the list of usernames\n",
    "is_valid = True if username in usernames else False\n",
    "\n",
    "# or you can make it shorter\n",
    "is_valid = username in usernames\n",
    "\n",
    "# Display the result\n",
    "if is_valid:\n",
    "    print(\"Username is valid.\")\n",
    "else:\n",
    "    print(\"Username is invalid.\")"
   ]
  },
  {
   "cell_type": "markdown",
   "id": "fcb7aac3",
   "metadata": {},
   "source": [
    "### Exercise 8: If Else Statements\n",
    "\n",
    "Write a program that prompts the user to enter their age. If the age is greater than or equal to 18, display a message saying they are an adult. Otherwise, display a message saying they are a minor."
   ]
  },
  {
   "cell_type": "code",
   "execution_count": 8,
   "id": "a7f9f34e",
   "metadata": {},
   "outputs": [
    {
     "name": "stdout",
     "output_type": "stream",
     "text": [
      "Enter your age: 17\n",
      "You are a minor.\n"
     ]
    }
   ],
   "source": [
    "# Prompt the user to enter their age\n",
    "age = int(input(\"Enter your age: \"))\n",
    "\n",
    "# TODO: Check if the age is greater than or equal to 18\n",
    "is_adult = True if age >= 18 else False\n",
    "\n",
    "# or you can make it shorter\n",
    "is_adult = age >= 18\n",
    "\n",
    "# Display the result\n",
    "if is_adult:\n",
    "    print(\"You are an adult.\")\n",
    "else:\n",
    "    print(\"You are a minor.\")"
   ]
  },
  {
   "cell_type": "markdown",
   "id": "aca3d905",
   "metadata": {},
   "source": [
    "### Exercise 9: Range Function\n",
    "\n",
    "Write a program that uses the range() function to display all even numbers between 0 and a given number (inclusive). Prompt the user to enter a number and display the even numbers."
   ]
  },
  {
   "cell_type": "code",
   "execution_count": 9,
   "id": "01300ea3",
   "metadata": {},
   "outputs": [
    {
     "name": "stdout",
     "output_type": "stream",
     "text": [
      "Enter a number: 6\n",
      "Even numbers:\n",
      "0\n",
      "2\n",
      "4\n",
      "6\n"
     ]
    }
   ],
   "source": [
    "# Prompt the user to enter a number\n",
    "number = int(input(\"Enter a number: \"))\n",
    "\n",
    "# TODO: Use the range() function to display even numbers between 0 and the given number\n",
    "even_numbers = range(0, number+1, 2)\n",
    "\n",
    "# Display the even numbers\n",
    "print(\"Even numbers:\")\n",
    "for even_number in even_numbers:\n",
    "    print(even_number)"
   ]
  }
 ],
 "metadata": {
  "kernelspec": {
   "display_name": "Python 3 (ipykernel)",
   "language": "python",
   "name": "python3"
  },
  "language_info": {
   "codemirror_mode": {
    "name": "ipython",
    "version": 3
   },
   "file_extension": ".py",
   "mimetype": "text/x-python",
   "name": "python",
   "nbconvert_exporter": "python",
   "pygments_lexer": "ipython3",
   "version": "3.10.9"
  }
 },
 "nbformat": 4,
 "nbformat_minor": 5
}
