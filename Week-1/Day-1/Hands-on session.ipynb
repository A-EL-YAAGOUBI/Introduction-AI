{
 "cells": [
  {
   "cell_type": "markdown",
   "id": "53d0eaf1",
   "metadata": {},
   "source": [
    "### Exercise 1: Integers and Floating-Point Numbers in Python\n",
    "\n",
    "Write a program that prompts the user to enter two numbers (an integer and a floating-point number) and calculates their sum. Display the result."
   ]
  },
  {
   "cell_type": "code",
   "execution_count": null,
   "id": "2796f695",
   "metadata": {},
   "outputs": [],
   "source": [
    "# Prompt the user to enter an integer\n",
    "integer_input = int(input(\"Enter an integer: \"))\n",
    "\n",
    "# Prompt the user to enter a floating-point number\n",
    "float_input = float(input(\"Enter a floating-point number: \"))\n",
    "\n",
    "# TODO: Calculate the sum of the two numbers\n",
    "\n",
    "# Display the result\n",
    "print(\"The sum is:\", result)"
   ]
  },
  {
   "cell_type": "markdown",
   "id": "8c00fdaa",
   "metadata": {},
   "source": [
    "### Exercise 2: Strings in Python\n",
    "\n",
    "Write a program that asks the user to enter a string and then displays the string reversed."
   ]
  },
  {
   "cell_type": "code",
   "execution_count": null,
   "id": "4e68003b",
   "metadata": {},
   "outputs": [],
   "source": [
    "# Prompt the user to enter a string\n",
    "user_string = input(\"Enter a string: \")\n",
    "\n",
    "# TODO: Reverse the string\n",
    "\n",
    "# Display the reversed string\n",
    "print(\"Reversed string:\", reversed_string)\n"
   ]
  },
  {
   "cell_type": "markdown",
   "id": "73c63884",
   "metadata": {},
   "source": [
    "### Exercise 3: Boolean Values in Python\n",
    "\n",
    "Write a program that checks if a given number is even or odd. Prompt the user to enter a number, and display whether it is even or odd."
   ]
  },
  {
   "cell_type": "code",
   "execution_count": null,
   "id": "a2b5c328",
   "metadata": {},
   "outputs": [],
   "source": [
    "# Prompt the user to enter a number\n",
    "number = int(input(\"Enter a number: \"))\n",
    "\n",
    "# TODO: Check if the number is even or odd\n",
    "\n",
    "# Display the result\n",
    "if is_even:\n",
    "    print(number, \"is even.\")\n",
    "else:\n",
    "    print(number, \"is odd.\")"
   ]
  },
  {
   "cell_type": "markdown",
   "id": "3960e63f",
   "metadata": {},
   "source": [
    "### Exercise 4: Arithmetic Operators in Python\n",
    "\n",
    "Write a program that prompts the user to enter two numbers and performs the following operations: addition, subtraction, multiplication, and division. Display the results for each operation."
   ]
  },
  {
   "cell_type": "code",
   "execution_count": null,
   "id": "24b2b575",
   "metadata": {},
   "outputs": [],
   "source": [
    "# Prompt the user to enter two numbers\n",
    "num1 = float(input(\"Enter the first number: \"))\n",
    "num2 = float(input(\"Enter the second number: \"))\n",
    "\n",
    "# TODO: Perform addition, subtraction, multiplication, and division\n",
    "\n",
    "# Display the results\n",
    "print(\"Addition:\", result_addition)\n",
    "print(\"Subtraction:\", result_subtraction)\n",
    "print(\"Multiplication:\", result_multiplication)\n",
    "print(\"Division:\", result_division)"
   ]
  },
  {
   "cell_type": "markdown",
   "id": "69d520bf",
   "metadata": {},
   "source": [
    "### Exercise 5: Comparison Operator in Python\n",
    "\n",
    "Write a program that prompts the user to enter two numbers and checks if they are equal or not. Display the result."
   ]
  },
  {
   "cell_type": "code",
   "execution_count": null,
   "id": "00e258ad",
   "metadata": {},
   "outputs": [],
   "source": [
    "# Prompt the user to enter two numbers\n",
    "num1 = float(input(\"Enter the first number: \"))\n",
    "num2 = float(input(\"Enter the second number: \"))\n",
    "\n",
    "# TODO: Check if the numbers are equal\n",
    "\n",
    "# Display the result\n",
    "if are_equal:\n",
    "    print(\"The numbers are equal.\")\n",
    "else:\n",
    "    print(\"The numbers are not equal.\")"
   ]
  },
  {
   "cell_type": "markdown",
   "id": "5da073b2",
   "metadata": {},
   "source": [
    "### Exercise 6: Logical Operators in Python\n",
    "\n",
    "Write a program that prompts the user to enter their age. The program should check if the age is between 18 and 65 (inclusive). Display whether the user is eligible or not."
   ]
  },
  {
   "cell_type": "code",
   "execution_count": null,
   "id": "22d58be7",
   "metadata": {},
   "outputs": [],
   "source": [
    "# Prompt the user to enter their age\n",
    "age = int(input(\"Enter your age: \"))\n",
    "\n",
    "# TODO: Check if the age is between 18 and 65 (inclusive)\n",
    "\n",
    "# Display the result\n",
    "if is_eligible:\n",
    "    print(\"You are eligible.\")\n",
    "else:\n",
    "    print(\"You are not eligible.\")"
   ]
  },
  {
   "cell_type": "markdown",
   "id": "3b9bc9f6",
   "metadata": {},
   "source": [
    "### Exercise 7: Membership Operator in Python\n",
    "\n",
    "Write a program that prompts the user to enter their username. The program should check if the username is in a predefined list of usernames. Display whether the username is valid or not."
   ]
  },
  {
   "cell_type": "code",
   "execution_count": null,
   "id": "3cdf4cbf",
   "metadata": {},
   "outputs": [],
   "source": [
    "# Predefined list of usernames\n",
    "usernames = [\"alice\", \"bob\", \"charlie\", \"dave\"]\n",
    "\n",
    "# Prompt the user to enter their username\n",
    "username = input(\"Enter your username: \")\n",
    "\n",
    "# TODO: Check if the username is in the list of usernames\n",
    "\n",
    "# Display the result\n",
    "if is_valid:\n",
    "    print(\"Username is valid.\")\n",
    "else:\n",
    "    print(\"Username is invalid.\")"
   ]
  },
  {
   "cell_type": "markdown",
   "id": "fcb7aac3",
   "metadata": {},
   "source": [
    "### Exercise 8: If Else Statements\n",
    "\n",
    "Write a program that prompts the user to enter their age. If the age is greater than or equal to 18, display a message saying they are an adult. Otherwise, display a message saying they are a minor."
   ]
  },
  {
   "cell_type": "code",
   "execution_count": null,
   "id": "a7f9f34e",
   "metadata": {},
   "outputs": [],
   "source": [
    "# Prompt the user to enter their age\n",
    "age = int(input(\"Enter your age: \"))\n",
    "\n",
    "# TODO: Check if the age is greater than or equal to 18\n",
    "\n",
    "# Display the result\n",
    "if is_adult:\n",
    "    print(\"You are an adult.\")\n",
    "else:\n",
    "    print(\"You are a minor.\")"
   ]
  },
  {
   "cell_type": "markdown",
   "id": "aca3d905",
   "metadata": {},
   "source": [
    "### Exercise 9: Range Function\n",
    "\n",
    "Write a program that uses the range() function to display all even numbers between 0 and a given number (inclusive). Prompt the user to enter a number and display the even numbers."
   ]
  },
  {
   "cell_type": "code",
   "execution_count": null,
   "id": "01300ea3",
   "metadata": {},
   "outputs": [],
   "source": [
    "# Prompt the user to enter a number\n",
    "number = int(input(\"Enter a number: \"))\n",
    "\n",
    "# TODO: Use the range() function to display even numbers between 0 and the given number\n",
    "\n",
    "# Display the even numbers\n",
    "print(\"Even numbers:\")\n",
    "for even_number in even_numbers:\n",
    "    print(even_number)"
   ]
  }
 ],
 "metadata": {
  "kernelspec": {
   "display_name": "Python 3 (ipykernel)",
   "language": "python",
   "name": "python3"
  },
  "language_info": {
   "codemirror_mode": {
    "name": "ipython",
    "version": 3
   },
   "file_extension": ".py",
   "mimetype": "text/x-python",
   "name": "python",
   "nbconvert_exporter": "python",
   "pygments_lexer": "ipython3",
   "version": "3.10.9"
  }
 },
 "nbformat": 4,
 "nbformat_minor": 5
}
