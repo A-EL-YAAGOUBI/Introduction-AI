{
 "cells": [
  {
   "cell_type": "markdown",
   "id": "53d0eaf1",
   "metadata": {},
   "source": [
    "### Exercise 1: Introduction to pip and Installing AI-related Libraries\n",
    "\n",
    "In this exercise, you will familiarize yourself with pip, the package installer for Python, and install several AI-related libraries. You will use pip to install the following libraries: numpy, pandas, scikit-learn, and tensorflow. These libraries are commonly used in AI applications for data manipulation, machine learning, and deep learning."
   ]
  },
  {
   "cell_type": "code",
   "execution_count": 1,
   "id": "04e6d8dc",
   "metadata": {},
   "outputs": [
    {
     "name": "stdout",
     "output_type": "stream",
     "text": [
      "pip 23.1.2 from C:\\Users\\bourakay\\AppData\\Local\\anaconda3\\lib\\site-packages\\pip (python 3.10)\n",
      "\n"
     ]
    }
   ],
   "source": [
    "# What is pip? What is ! used for?\n",
    "!pip --version"
   ]
  },
  {
   "cell_type": "code",
   "execution_count": 2,
   "id": "052e4d95",
   "metadata": {},
   "outputs": [
    {
     "name": "stdout",
     "output_type": "stream",
     "text": [
      "Requirement already satisfied: numpy in c:\\users\\bourakay\\appdata\\local\\anaconda3\\lib\\site-packages (1.23.5)\n",
      "Requirement already satisfied: pandas in c:\\users\\bourakay\\appdata\\local\\anaconda3\\lib\\site-packages (1.5.3)\n",
      "Requirement already satisfied: scikit-learn in c:\\users\\bourakay\\appdata\\local\\anaconda3\\lib\\site-packages (1.2.0)\n",
      "Requirement already satisfied: tensorflow in c:\\users\\bourakay\\appdata\\local\\anaconda3\\lib\\site-packages (2.12.0)\n",
      "Requirement already satisfied: python-dateutil>=2.8.1 in c:\\users\\bourakay\\appdata\\local\\anaconda3\\lib\\site-packages (from pandas) (2.8.2)\n",
      "Requirement already satisfied: pytz>=2020.1 in c:\\users\\bourakay\\appdata\\local\\anaconda3\\lib\\site-packages (from pandas) (2022.7)\n",
      "Requirement already satisfied: scipy>=1.3.2 in c:\\users\\bourakay\\appdata\\local\\anaconda3\\lib\\site-packages (from scikit-learn) (1.10.0)\n",
      "Requirement already satisfied: joblib>=1.1.1 in c:\\users\\bourakay\\appdata\\local\\anaconda3\\lib\\site-packages (from scikit-learn) (1.1.1)\n",
      "Requirement already satisfied: threadpoolctl>=2.0.0 in c:\\users\\bourakay\\appdata\\local\\anaconda3\\lib\\site-packages (from scikit-learn) (2.2.0)\n",
      "Requirement already satisfied: tensorflow-intel==2.12.0 in c:\\users\\bourakay\\appdata\\local\\anaconda3\\lib\\site-packages (from tensorflow) (2.12.0)\n",
      "Requirement already satisfied: absl-py>=1.0.0 in c:\\users\\bourakay\\appdata\\local\\anaconda3\\lib\\site-packages (from tensorflow-intel==2.12.0->tensorflow) (1.4.0)\n",
      "Requirement already satisfied: astunparse>=1.6.0 in c:\\users\\bourakay\\appdata\\local\\anaconda3\\lib\\site-packages (from tensorflow-intel==2.12.0->tensorflow) (1.6.3)\n",
      "Requirement already satisfied: flatbuffers>=2.0 in c:\\users\\bourakay\\appdata\\local\\anaconda3\\lib\\site-packages (from tensorflow-intel==2.12.0->tensorflow) (23.5.26)\n",
      "Requirement already satisfied: gast<=0.4.0,>=0.2.1 in c:\\users\\bourakay\\appdata\\local\\anaconda3\\lib\\site-packages (from tensorflow-intel==2.12.0->tensorflow) (0.4.0)\n",
      "Requirement already satisfied: google-pasta>=0.1.1 in c:\\users\\bourakay\\appdata\\local\\anaconda3\\lib\\site-packages (from tensorflow-intel==2.12.0->tensorflow) (0.2.0)\n",
      "Requirement already satisfied: h5py>=2.9.0 in c:\\users\\bourakay\\appdata\\local\\anaconda3\\lib\\site-packages (from tensorflow-intel==2.12.0->tensorflow) (3.7.0)\n",
      "Requirement already satisfied: jax>=0.3.15 in c:\\users\\bourakay\\appdata\\local\\anaconda3\\lib\\site-packages (from tensorflow-intel==2.12.0->tensorflow) (0.4.12)\n",
      "Requirement already satisfied: libclang>=13.0.0 in c:\\users\\bourakay\\appdata\\local\\anaconda3\\lib\\site-packages (from tensorflow-intel==2.12.0->tensorflow) (16.0.0)\n",
      "Requirement already satisfied: opt-einsum>=2.3.2 in c:\\users\\bourakay\\appdata\\local\\anaconda3\\lib\\site-packages (from tensorflow-intel==2.12.0->tensorflow) (3.3.0)\n",
      "Requirement already satisfied: packaging in c:\\users\\bourakay\\appdata\\local\\anaconda3\\lib\\site-packages (from tensorflow-intel==2.12.0->tensorflow) (22.0)\n",
      "Requirement already satisfied: protobuf!=4.21.0,!=4.21.1,!=4.21.2,!=4.21.3,!=4.21.4,!=4.21.5,<5.0.0dev,>=3.20.3 in c:\\users\\bourakay\\appdata\\local\\anaconda3\\lib\\site-packages (from tensorflow-intel==2.12.0->tensorflow) (4.23.2)\n",
      "Requirement already satisfied: setuptools in c:\\users\\bourakay\\appdata\\local\\anaconda3\\lib\\site-packages (from tensorflow-intel==2.12.0->tensorflow) (67.8.0)\n",
      "Requirement already satisfied: six>=1.12.0 in c:\\users\\bourakay\\appdata\\local\\anaconda3\\lib\\site-packages (from tensorflow-intel==2.12.0->tensorflow) (1.16.0)\n",
      "Requirement already satisfied: termcolor>=1.1.0 in c:\\users\\bourakay\\appdata\\local\\anaconda3\\lib\\site-packages (from tensorflow-intel==2.12.0->tensorflow) (2.3.0)\n",
      "Requirement already satisfied: typing-extensions>=3.6.6 in c:\\users\\bourakay\\appdata\\local\\anaconda3\\lib\\site-packages (from tensorflow-intel==2.12.0->tensorflow) (4.4.0)\n",
      "Requirement already satisfied: wrapt<1.15,>=1.11.0 in c:\\users\\bourakay\\appdata\\local\\anaconda3\\lib\\site-packages (from tensorflow-intel==2.12.0->tensorflow) (1.14.1)\n",
      "Requirement already satisfied: grpcio<2.0,>=1.24.3 in c:\\users\\bourakay\\appdata\\local\\anaconda3\\lib\\site-packages (from tensorflow-intel==2.12.0->tensorflow) (1.54.2)\n",
      "Requirement already satisfied: tensorboard<2.13,>=2.12 in c:\\users\\bourakay\\appdata\\local\\anaconda3\\lib\\site-packages (from tensorflow-intel==2.12.0->tensorflow) (2.12.3)\n",
      "Requirement already satisfied: tensorflow-estimator<2.13,>=2.12.0 in c:\\users\\bourakay\\appdata\\local\\anaconda3\\lib\\site-packages (from tensorflow-intel==2.12.0->tensorflow) (2.12.0)\n",
      "Requirement already satisfied: keras<2.13,>=2.12.0 in c:\\users\\bourakay\\appdata\\local\\anaconda3\\lib\\site-packages (from tensorflow-intel==2.12.0->tensorflow) (2.12.0)\n",
      "Requirement already satisfied: tensorflow-io-gcs-filesystem>=0.23.1 in c:\\users\\bourakay\\appdata\\local\\anaconda3\\lib\\site-packages (from tensorflow-intel==2.12.0->tensorflow) (0.31.0)\n",
      "Requirement already satisfied: wheel<1.0,>=0.23.0 in c:\\users\\bourakay\\appdata\\local\\anaconda3\\lib\\site-packages (from astunparse>=1.6.0->tensorflow-intel==2.12.0->tensorflow) (0.40.0)\n",
      "Requirement already satisfied: ml-dtypes>=0.1.0 in c:\\users\\bourakay\\appdata\\local\\anaconda3\\lib\\site-packages (from jax>=0.3.15->tensorflow-intel==2.12.0->tensorflow) (0.2.0)\n",
      "Requirement already satisfied: google-auth<3,>=1.6.3 in c:\\users\\bourakay\\appdata\\local\\anaconda3\\lib\\site-packages (from tensorboard<2.13,>=2.12->tensorflow-intel==2.12.0->tensorflow) (2.19.1)\n",
      "Requirement already satisfied: google-auth-oauthlib<1.1,>=0.5 in c:\\users\\bourakay\\appdata\\local\\anaconda3\\lib\\site-packages (from tensorboard<2.13,>=2.12->tensorflow-intel==2.12.0->tensorflow) (1.0.0)\n",
      "Requirement already satisfied: markdown>=2.6.8 in c:\\users\\bourakay\\appdata\\local\\anaconda3\\lib\\site-packages (from tensorboard<2.13,>=2.12->tensorflow-intel==2.12.0->tensorflow) (3.4.1)\n",
      "Requirement already satisfied: requests<3,>=2.21.0 in c:\\users\\bourakay\\appdata\\local\\anaconda3\\lib\\site-packages (from tensorboard<2.13,>=2.12->tensorflow-intel==2.12.0->tensorflow) (2.28.1)\n",
      "Requirement already satisfied: tensorboard-data-server<0.8.0,>=0.7.0 in c:\\users\\bourakay\\appdata\\local\\anaconda3\\lib\\site-packages (from tensorboard<2.13,>=2.12->tensorflow-intel==2.12.0->tensorflow) (0.7.0)\n",
      "Requirement already satisfied: werkzeug>=1.0.1 in c:\\users\\bourakay\\appdata\\local\\anaconda3\\lib\\site-packages (from tensorboard<2.13,>=2.12->tensorflow-intel==2.12.0->tensorflow) (2.2.2)\n",
      "Requirement already satisfied: cachetools<6.0,>=2.0.0 in c:\\users\\bourakay\\appdata\\local\\anaconda3\\lib\\site-packages (from google-auth<3,>=1.6.3->tensorboard<2.13,>=2.12->tensorflow-intel==2.12.0->tensorflow) (5.3.1)\n",
      "Requirement already satisfied: pyasn1-modules>=0.2.1 in c:\\users\\bourakay\\appdata\\local\\anaconda3\\lib\\site-packages (from google-auth<3,>=1.6.3->tensorboard<2.13,>=2.12->tensorflow-intel==2.12.0->tensorflow) (0.2.8)\n",
      "Requirement already satisfied: rsa<5,>=3.1.4 in c:\\users\\bourakay\\appdata\\local\\anaconda3\\lib\\site-packages (from google-auth<3,>=1.6.3->tensorboard<2.13,>=2.12->tensorflow-intel==2.12.0->tensorflow) (4.9)\n",
      "Requirement already satisfied: urllib3<2.0 in c:\\users\\bourakay\\appdata\\local\\anaconda3\\lib\\site-packages (from google-auth<3,>=1.6.3->tensorboard<2.13,>=2.12->tensorflow-intel==2.12.0->tensorflow) (1.26.14)\n",
      "Requirement already satisfied: requests-oauthlib>=0.7.0 in c:\\users\\bourakay\\appdata\\local\\anaconda3\\lib\\site-packages (from google-auth-oauthlib<1.1,>=0.5->tensorboard<2.13,>=2.12->tensorflow-intel==2.12.0->tensorflow) (1.3.1)\n",
      "Requirement already satisfied: charset-normalizer<3,>=2 in c:\\users\\bourakay\\appdata\\local\\anaconda3\\lib\\site-packages (from requests<3,>=2.21.0->tensorboard<2.13,>=2.12->tensorflow-intel==2.12.0->tensorflow) (2.0.4)\n",
      "Requirement already satisfied: idna<4,>=2.5 in c:\\users\\bourakay\\appdata\\local\\anaconda3\\lib\\site-packages (from requests<3,>=2.21.0->tensorboard<2.13,>=2.12->tensorflow-intel==2.12.0->tensorflow) (3.4)\n",
      "Requirement already satisfied: certifi>=2017.4.17 in c:\\users\\bourakay\\appdata\\local\\anaconda3\\lib\\site-packages (from requests<3,>=2.21.0->tensorboard<2.13,>=2.12->tensorflow-intel==2.12.0->tensorflow) (2022.12.7)\n",
      "Requirement already satisfied: MarkupSafe>=2.1.1 in c:\\users\\bourakay\\appdata\\local\\anaconda3\\lib\\site-packages (from werkzeug>=1.0.1->tensorboard<2.13,>=2.12->tensorflow-intel==2.12.0->tensorflow) (2.1.1)\n",
      "Requirement already satisfied: pyasn1<0.5.0,>=0.4.6 in c:\\users\\bourakay\\appdata\\local\\anaconda3\\lib\\site-packages (from pyasn1-modules>=0.2.1->google-auth<3,>=1.6.3->tensorboard<2.13,>=2.12->tensorflow-intel==2.12.0->tensorflow) (0.4.8)\n",
      "Requirement already satisfied: oauthlib>=3.0.0 in c:\\users\\bourakay\\appdata\\local\\anaconda3\\lib\\site-packages (from requests-oauthlib>=0.7.0->google-auth-oauthlib<1.1,>=0.5->tensorboard<2.13,>=2.12->tensorflow-intel==2.12.0->tensorflow) (3.2.2)\n"
     ]
    }
   ],
   "source": [
    "# TODO: Install the AI-related libraries using pip\n",
    "!pip install numpy pandas scikit-learn tensorflow"
   ]
  },
  {
   "cell_type": "code",
   "execution_count": 3,
   "id": "2796f695",
   "metadata": {},
   "outputs": [
    {
     "name": "stdout",
     "output_type": "stream",
     "text": [
      "numpy version: 1.23.5\n",
      "pandas version: 1.5.3\n",
      "scikit-learn version: 1.2.0\n",
      "tensorflow version: 2.12.0\n"
     ]
    }
   ],
   "source": [
    "# TODO: Import the installed libraries\n",
    "import numpy\n",
    "import pandas\n",
    "import sklearn\n",
    "import tensorflow\n",
    "\n",
    "# Test the installations\n",
    "print(\"numpy version:\", numpy.__version__)\n",
    "print(\"pandas version:\", pandas.__version__)\n",
    "print(\"scikit-learn version:\", sklearn.__version__)\n",
    "print(\"tensorflow version:\", tensorflow.__version__)"
   ]
  },
  {
   "cell_type": "markdown",
   "id": "8c00fdaa",
   "metadata": {},
   "source": [
    "### Exercise 3: Importing AI-related Libraries\n",
    "\n",
    "In this exercise, you will practice importing different AI-related libraries and using their functionalities. You will import three popular libraries: numpy, pandas. These libraries are commonly used in AI applications for numerical operations, data manipulation, and machine learning tasks."
   ]
  },
  {
   "cell_type": "code",
   "execution_count": 5,
   "id": "4e68003b",
   "metadata": {},
   "outputs": [
    {
     "name": "stdout",
     "output_type": "stream",
     "text": [
      "[1 2 3 4 5]\n",
      "Mean: 3.0\n",
      "Filtered DataFrame:\n",
      "     Name  Age Country\n",
      "2    Omar   35  Jordan\n",
      "4  Hassan   32     UAE\n"
     ]
    }
   ],
   "source": [
    "# Import numpy and alias it as np\n",
    "import numpy as np\n",
    "\n",
    "# Import pandas and alias it as pd\n",
    "import pandas as pd\n",
    "\n",
    "# What is an alias? why is it used?\n",
    "\n",
    "# TODO: Try to perform some basic operations/tasks using the imported libraries\n",
    "\n",
    "# Example: Create a numpy array\n",
    "numbers = np.array([1, 2, 3, 4, 5])\n",
    "print(numbers)\n",
    "\n",
    "# Example: Create a pandas DataFrame\n",
    "data = {'Name': ['Ali', 'Aisha', 'Omar', 'Zahra', 'Hassan'],\n",
    "        'Age': [25, 30, 35, 28, 32],\n",
    "        'Country': ['Egypt', 'Saudi Arabia', 'Jordan', 'Lebanon', 'UAE']}\n",
    "df = pd.DataFrame(data)\n",
    "\n",
    "\n",
    "# TODO: Perform additional operations or tasks using numpy and pandas\n",
    "\n",
    "# Example: Compute the mean of the numpy array\n",
    "mean = np.mean(numbers)\n",
    "print(\"Mean:\", mean)\n",
    "\n",
    "# Example: Filter the pandas DataFrame based on a condition\n",
    "filtered_df = df[df['Age'] > 30]\n",
    "print(\"Filtered DataFrame:\")\n",
    "print(filtered_df)"
   ]
  },
  {
   "cell_type": "markdown",
   "id": "f865531d",
   "metadata": {},
   "source": [
    "### Exercise 4: Importing Modules in Python\n",
    "\n",
    "In this exercise, you will explore the difference between the `import` and `from import` statements in Python when importing modules. You will work with the `math` module to perform mathematical calculations. Follow the instructions below to complete the exercise."
   ]
  },
  {
   "cell_type": "code",
   "execution_count": 6,
   "id": "8df8193e",
   "metadata": {},
   "outputs": [
    {
     "name": "stdout",
     "output_type": "stream",
     "text": [
      "4.0 4.0\n"
     ]
    }
   ],
   "source": [
    "# TODO: Import the math module using the import statement\n",
    "import math\n",
    "\n",
    "# TODO: Calculate the square root of a number\n",
    "root_16 = math.sqrt(16)\n",
    "\n",
    "# TODO: Import the sqrt function from the math module using the from import statement\n",
    "from math import sqrt\n",
    "\n",
    "# TODO: Calculate the square root of a number using the sqrt function\n",
    "root_16_2 = sqrt(16)\n",
    "\n",
    "# Display both results\n",
    "print(root_16, root_16_2)"
   ]
  },
  {
   "cell_type": "markdown",
   "id": "73c63884",
   "metadata": {},
   "source": [
    "### Exercise 5: Importing and inheriting classes\n",
    "\n",
    "Import the `torch` library and write a program that defines a custom neural network class by inheriting from `torch.nn.Module`. Implement the necessary methods and use the custom network to train on a given dataset."
   ]
  },
  {
   "cell_type": "code",
   "execution_count": 7,
   "id": "a2b5c328",
   "metadata": {},
   "outputs": [
    {
     "name": "stdout",
     "output_type": "stream",
     "text": [
      "Output: tensor([[ 0.1355,  0.3157,  0.4508, -0.0371, -0.5901]],\n",
      "       grad_fn=<AddmmBackward0>)\n"
     ]
    }
   ],
   "source": [
    "# What is the difference between the two lines?\n",
    "import torch\n",
    "import torch.nn as nn\n",
    "\n",
    "# What is this line doing?\n",
    "class CustomNetwork(nn.Module):\n",
    "    # How do we call the __init__ function?\n",
    "    def __init__(self, input_dim, output_dim):\n",
    "        # What the next lines doing?        \n",
    "        super(CustomNetwork, self).__init__()\n",
    "        self.input_dim = input_dim\n",
    "        self.output_dim = output_dim\n",
    "        # Define the network layers\n",
    "        self.fc1 = nn.Linear(self.input_dim, 64)\n",
    "        self.fc2 = nn.Linear(64, self.output_dim)  # Output layer with 2 units\n",
    "\n",
    "    def forward(self, x):\n",
    "        x = torch.relu(self.fc1(x))\n",
    "        x = self.fc2(x)\n",
    "        return x\n",
    "\n",
    "# What is this line doing? in terms of OOP?\n",
    "network = CustomNetwork(10, 5)\n",
    "\n",
    "# Example: Generate random input data\n",
    "input_data = torch.randn(1, 10)\n",
    "\n",
    "# Pass the input through the network\n",
    "output = network(input_data)\n",
    "\n",
    "# Display the output\n",
    "print(\"Output:\", output)"
   ]
  },
  {
   "cell_type": "markdown",
   "id": "66419ddf",
   "metadata": {},
   "source": [
    "### Exercise 6: Creating Your First Python AI Module\n",
    "\n",
    "In this exercise, you will play the role of a data scientist and create your first Python module for AI. You will implement two simple functions and two simple classes that mimic AI models and machine learning techniques. Follow the instructions below to complete the exercise."
   ]
  },
  {
   "cell_type": "markdown",
   "id": "6456885d",
   "metadata": {},
   "source": [
    "#### Implement the basic methods and classes in the notebook:\n",
    "\n",
    "Function 1: `def preprocess_data(data):`\n",
    "- This function takes in a data set as input and performs some preprocessing tasks such as data cleaning, normalization, or feature engineering. Feel free to implement any basic preprocessing steps you would like."
   ]
  },
  {
   "cell_type": "code",
   "execution_count": 8,
   "id": "970d6a56",
   "metadata": {},
   "outputs": [],
   "source": [
    "# TODO: Implement the function preprocess_data()\n",
    "def preprocess_data(data):\n",
    "    \n",
    "    processed_data = (data - np.mean(data)) / np.std(data)\n",
    "    \n",
    "    return processed_data"
   ]
  },
  {
   "cell_type": "markdown",
   "id": "1a704a2d",
   "metadata": {},
   "source": [
    "Function 2: `def train_model(data, labels):`\n",
    "- This function takes in the preprocessed data and corresponding labels as input and trains a simple AI model. You can choose any simple model, such as a linear regression model or a decision tree model. Implement the training steps and return the trained model."
   ]
  },
  {
   "cell_type": "code",
   "execution_count": 9,
   "id": "0d247d00",
   "metadata": {},
   "outputs": [],
   "source": [
    "# TODO: Implement the function train_model()\n",
    "def train_model(data, labels):\n",
    "    print(\"Training AI model in progress ...\")"
   ]
  },
  {
   "cell_type": "markdown",
   "id": "d81889cc",
   "metadata": {},
   "source": [
    "Class 1: `class AIModel:`\n",
    "- This class represents an AI model and provides methods to load the trained model, make predictions on new data, and evaluate the model's performance."
   ]
  },
  {
   "cell_type": "code",
   "execution_count": 10,
   "id": "d836fbf3",
   "metadata": {},
   "outputs": [],
   "source": [
    "# TODO: Implement the class AIModel\n",
    "class AIModel:\n",
    "    def __init__(self):\n",
    "        print(\"Constructing AI model ...\")\n",
    "    \n",
    "    def predict(self):\n",
    "        print(\"Making predictions ...\")"
   ]
  },
  {
   "cell_type": "markdown",
   "id": "cdf3c297",
   "metadata": {},
   "source": [
    "Class 2: `class DataProcessor:`\n",
    "- This class provides methods to load raw data, preprocess the data using the `preprocess_data` function, and split the data into training and testing sets."
   ]
  },
  {
   "cell_type": "code",
   "execution_count": 11,
   "id": "c7d5c949",
   "metadata": {},
   "outputs": [],
   "source": [
    "# TODO: Implement the class DataProcessor\n",
    "class DataProcessor:\n",
    "    def load_data(self, data_path):\n",
    "        print(f\"Loading data from {data_path} in progress ...\")\n",
    "    \n",
    "    def preprocess_data(self):\n",
    "        print(f\"Preprocessing in progress ...\")"
   ]
  },
  {
   "cell_type": "markdown",
   "id": "093de996",
   "metadata": {},
   "source": [
    "Store the implemented functions and classes in a .py file with an interesting name for the module, such as ai_utils.py. Make sure to save the file in the same directory as your notebook."
   ]
  },
  {
   "cell_type": "code",
   "execution_count": 12,
   "id": "c3bb94ed",
   "metadata": {},
   "outputs": [],
   "source": [
    "# Import the module:\n",
    "# TODO: Use the import statement to import the entire module in your notebook.\n",
    "import ai_utils\n",
    "\n",
    "# Import a function using the from import statement:\n",
    "# TODO: Use the from import statement to import the train_model function from the module.\n",
    "from ai_utils import train_model"
   ]
  },
  {
   "cell_type": "code",
   "execution_count": 13,
   "id": "cbaa94db",
   "metadata": {},
   "outputs": [
    {
     "name": "stdout",
     "output_type": "stream",
     "text": [
      "Loading data from ./data/train_data/ in progress ...\n",
      "Preprocessing in progress ...\n",
      "Constructing AI model ...\n",
      "Making predictions ...\n"
     ]
    }
   ],
   "source": [
    "# TODO: Test if everything is working properly as expected\n",
    "# Import the necessary functions and classes from ai_utils module\n",
    "from ai_utils import preprocess_data, train_model, AIModel, DataProcessor\n",
    "from ai_utils import *\n",
    "\n",
    "# Create an instance of DataProcessor\n",
    "data_processor = DataProcessor()\n",
    "\n",
    "# Loading data\n",
    "data_processor.load_data(\"./data/train_data/\")\n",
    "\n",
    "# Preprocessing data\n",
    "data_processor.preprocess_data()\n",
    "\n",
    "# Create an instance of AIModel\n",
    "ai_model = AIModel()\n",
    "\n",
    "# Make predictions using the trained model\n",
    "predictions = ai_model.predict()"
   ]
  },
  {
   "cell_type": "markdown",
   "id": "1f395a76",
   "metadata": {},
   "source": [
    "Congratulations! You have successfully created your first Python AI module ..."
   ]
  }
 ],
 "metadata": {
  "kernelspec": {
   "display_name": "Python 3 (ipykernel)",
   "language": "python",
   "name": "python3"
  },
  "language_info": {
   "codemirror_mode": {
    "name": "ipython",
    "version": 3
   },
   "file_extension": ".py",
   "mimetype": "text/x-python",
   "name": "python",
   "nbconvert_exporter": "python",
   "pygments_lexer": "ipython3",
   "version": "3.10.9"
  }
 },
 "nbformat": 4,
 "nbformat_minor": 5
}
