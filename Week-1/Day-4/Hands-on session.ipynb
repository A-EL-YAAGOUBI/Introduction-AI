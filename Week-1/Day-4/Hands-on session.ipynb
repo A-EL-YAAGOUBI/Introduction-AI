{
 "cells": [
  {
   "cell_type": "markdown",
   "id": "53d0eaf1",
   "metadata": {},
   "source": [
    "### Exercise 1: Introduction to pip and Installing AI-related Libraries\n",
    "\n",
    "In this exercise, you will familiarize yourself with pip, the package installer for Python, and install several AI-related libraries. You will use pip to install the following libraries: numpy, pandas, scikit-learn, and tensorflow. These libraries are commonly used in AI applications for data manipulation, machine learning, and deep learning."
   ]
  },
  {
   "cell_type": "code",
   "execution_count": null,
   "id": "04e6d8dc",
   "metadata": {},
   "outputs": [],
   "source": [
    "# What is pip? What is ! used for?\n",
    "!pip --version"
   ]
  },
  {
   "cell_type": "code",
   "execution_count": null,
   "id": "052e4d95",
   "metadata": {},
   "outputs": [],
   "source": [
    "# TODO: Install the AI-related libraries using pip\n",
    "!pip install numpy pandas scikit-learn tensorflow"
   ]
  },
  {
   "cell_type": "code",
   "execution_count": null,
   "id": "2796f695",
   "metadata": {},
   "outputs": [],
   "source": [
    "# TODO: Import the installed libraries\n",
    "\n",
    "# Test the installations\n",
    "print(\"numpy version:\", numpy.__version__)\n",
    "print(\"pandas version:\", pandas.__version__)\n",
    "print(\"scikit-learn version:\", sklearn.__version__)\n",
    "print(\"tensorflow version:\", tensorflow.__version__)"
   ]
  },
  {
   "cell_type": "markdown",
   "id": "8c00fdaa",
   "metadata": {},
   "source": [
    "### Exercise 3: Importing AI-related Libraries\n",
    "\n",
    "In this exercise, you will practice importing different AI-related libraries and using their functionalities. You will import three popular libraries: numpy, pandas. These libraries are commonly used in AI applications for numerical operations, data manipulation, and machine learning tasks."
   ]
  },
  {
   "cell_type": "code",
   "execution_count": null,
   "id": "4e68003b",
   "metadata": {},
   "outputs": [],
   "source": [
    "# Import numpy and alias it as np\n",
    "import numpy as np\n",
    "\n",
    "# Import pandas and alias it as pd\n",
    "import pandas as pd\n",
    "\n",
    "# What is an alias? why is it used?\n",
    "\n",
    "# TODO: Try to perform some basic operations/tasks using the imported libraries"
   ]
  },
  {
   "cell_type": "markdown",
   "id": "f865531d",
   "metadata": {},
   "source": [
    "### Exercise 4: Importing Modules in Python\n",
    "\n",
    "In this exercise, you will explore the difference between the `import` and `from import` statements in Python when importing modules. You will work with the `math` module to perform mathematical calculations. Follow the instructions below to complete the exercise."
   ]
  },
  {
   "cell_type": "code",
   "execution_count": null,
   "id": "8df8193e",
   "metadata": {},
   "outputs": [],
   "source": [
    "# TODO: Import the math module using the import statement\n",
    "\n",
    "# TODO: Calculate the square root of a number\n",
    "\n",
    "# TODO: Import the sqrt function from the math module using the from import statement\n",
    "\n",
    "# TODO: Calculate the square root of a number using the sqrt function\n",
    "\n",
    "# Display both results"
   ]
  },
  {
   "cell_type": "markdown",
   "id": "73c63884",
   "metadata": {},
   "source": [
    "### Exercise 5: Importing and inheriting classes\n",
    "\n",
    "Import the `torch` library and write a program that defines a custom neural network class by inheriting from `torch.nn.Module`. Implement the necessary methods and use the custom network to train on a given dataset."
   ]
  },
  {
   "cell_type": "code",
   "execution_count": null,
   "id": "a2b5c328",
   "metadata": {},
   "outputs": [],
   "source": [
    "# What is the difference between the two lines?\n",
    "import torch\n",
    "import torch.nn as nn\n",
    "\n",
    "# What is this line doing?\n",
    "class CustomNetwork(nn.Module):\n",
    "    # How do we call the __init__ function?\n",
    "    def __init__(self, input_dim, output_dim):\n",
    "        # What the next lines doing?        \n",
    "        super(CustomNetwork, self).__init__()\n",
    "        self.input_dim = input_dim\n",
    "        self.output_dim = output_dim\n",
    "        # Define the network layers\n",
    "        self.fc1 = nn.Linear(self.input_dim, 64)\n",
    "        self.fc2 = nn.Linear(64, self.output_dim)  # Output layer with 2 units\n",
    "\n",
    "    def forward(self, x):\n",
    "        x = torch.relu(self.fc1(x))\n",
    "        x = self.fc2(x)\n",
    "        return x\n",
    "\n",
    "# What is this line doing? in terms of OOP?\n",
    "network = CustomNetwork(10, 5)\n",
    "\n",
    "# Example: Generate random input data\n",
    "input_data = torch.randn(1, 10)\n",
    "\n",
    "# Pass the input through the network\n",
    "output = network(input_data)\n",
    "\n",
    "# Display the output\n",
    "print(\"Output:\", output)"
   ]
  },
  {
   "cell_type": "markdown",
   "id": "66419ddf",
   "metadata": {},
   "source": [
    "### Exercise 6: Creating Your First Python AI Module\n",
    "\n",
    "In this exercise, you will play the role of a data scientist and create your first Python module for AI. You will implement two simple functions and two simple classes that mimic AI models and machine learning techniques. Follow the instructions below to complete the exercise."
   ]
  },
  {
   "cell_type": "markdown",
   "id": "6456885d",
   "metadata": {},
   "source": [
    "#### Implement the basic methods and classes in the notebook:\n",
    "\n",
    " Function 1: `def preprocess_data(data):`\n",
    "-This function takes in a data set as input and performs some preprocessing tasks such as data cleaning, normalization, or feature engineering. Feel free to implement any basic preprocessing steps you would like."
   ]
  },
  {
   "cell_type": "code",
   "execution_count": null,
   "id": "970d6a56",
   "metadata": {},
   "outputs": [],
   "source": [
    "# TODO: Implement the function preprocess_data()"
   ]
  },
  {
   "cell_type": "markdown",
   "id": "1a704a2d",
   "metadata": {},
   "source": [
    "Function 2: `def train_model(data, labels):`\n",
    "- This function takes in the preprocessed data and corresponding labels as input and trains a simple AI model. You can choose any simple model, such as a linear regression model or a decision tree model. Implement the training steps and return the trained model."
   ]
  },
  {
   "cell_type": "code",
   "execution_count": null,
   "id": "0d247d00",
   "metadata": {},
   "outputs": [],
   "source": [
    "# TODO: Implement the function train_model()"
   ]
  },
  {
   "cell_type": "markdown",
   "id": "d81889cc",
   "metadata": {},
   "source": [
    "Class 1: `class AIModel:`\n",
    "- This class represents an AI model and provides methods to load the trained model, make predictions on new data, and evaluate the model's performance."
   ]
  },
  {
   "cell_type": "code",
   "execution_count": null,
   "id": "d836fbf3",
   "metadata": {},
   "outputs": [],
   "source": [
    "# TODO: Implement the class AIModel"
   ]
  },
  {
   "cell_type": "markdown",
   "id": "cdf3c297",
   "metadata": {},
   "source": [
    "Class 2: `class DataProcessor:`\n",
    "- This class provides methods to load raw data, preprocess the data using the `preprocess_data` function, and split the data into training and testing sets."
   ]
  },
  {
   "cell_type": "code",
   "execution_count": null,
   "id": "c7d5c949",
   "metadata": {},
   "outputs": [],
   "source": [
    "# TODO: Implement the class DataProcessor"
   ]
  },
  {
   "cell_type": "markdown",
   "id": "093de996",
   "metadata": {},
   "source": [
    "Store the implemented functions and classes in a .py file with an interesting name for the module, such as ai_utils.py. Make sure to save the file in the same directory as your notebook."
   ]
  },
  {
   "cell_type": "code",
   "execution_count": null,
   "id": "c3bb94ed",
   "metadata": {},
   "outputs": [],
   "source": [
    "# Import the module:\n",
    "# TODO: Use the import statement to import the entire module in your notebook.\n",
    "\n",
    "# Import a function using the from import statement:\n",
    "# TODO: Use the from import statement to import the train_model function from the module."
   ]
  },
  {
   "cell_type": "code",
   "execution_count": null,
   "id": "cbaa94db",
   "metadata": {},
   "outputs": [],
   "source": [
    "# TODO: Test if everything is working properly as expected"
   ]
  },
  {
   "cell_type": "markdown",
   "id": "1f395a76",
   "metadata": {},
   "source": [
    "Congratulations! You have successfully created your first Python AI module ..."
   ]
  }
 ],
 "metadata": {
  "kernelspec": {
   "display_name": "Python 3 (ipykernel)",
   "language": "python",
   "name": "python3"
  },
  "language_info": {
   "codemirror_mode": {
    "name": "ipython",
    "version": 3
   },
   "file_extension": ".py",
   "mimetype": "text/x-python",
   "name": "python",
   "nbconvert_exporter": "python",
   "pygments_lexer": "ipython3",
   "version": "3.10.9"
  }
 },
 "nbformat": 4,
 "nbformat_minor": 5
}
