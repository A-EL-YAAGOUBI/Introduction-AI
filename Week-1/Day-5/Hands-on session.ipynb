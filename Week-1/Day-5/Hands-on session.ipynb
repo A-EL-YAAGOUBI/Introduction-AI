{
 "cells": [
  {
   "cell_type": "markdown",
   "id": "53d0eaf1",
   "metadata": {},
   "source": [
    "### Exercise 1: Writing clean Code is very important!\n",
    "\n",
    "1. Identify the issues with the given code snippet that exhibits extremely poor coding practices and lacks readability.\n",
    "2. Rewrite the code by applying best coding practices and improving its readability.\n",
    "3. Make necessary changes and improvements directly in the code."
   ]
  },
  {
   "cell_type": "code",
   "execution_count": null,
   "id": "2796f695",
   "metadata": {},
   "outputs": [],
   "source": [
    "def func(A):\n",
    " result=0\n",
    "  for i in range(len(A)):\n",
    "  if A[i]==1:result+=1\n",
    "  return result\n",
    "A = [1, 0, 1, 1, 0, 1]\n",
    "print(func(A))  # Call the function\n",
    "\n",
    "# TODO: Add proper indentation to the code.\n",
    "# TODO: Add spaces around the assignment operator and after commas in the function.\n",
    "# TODO: Use more descriptive variable and function names.\n",
    "# TODO: Properly format the code by adding line breaks and following Python style conventions."
   ]
  },
  {
   "cell_type": "markdown",
   "id": "8c00fdaa",
   "metadata": {},
   "source": [
    "### Exercise 2: Always strive to write efficient Code\n",
    "\n",
    "1. Identify the inefficiencies in the given code snippet and explain why it is highly inefficient.\n",
    "2. Rewrite the code to improve its performance.\n",
    "3. Make necessary changes and improvements directly in the code."
   ]
  },
  {
   "cell_type": "code",
   "execution_count": null,
   "id": "4e68003b",
   "metadata": {},
   "outputs": [],
   "source": [
    "def fibonacci(n):\n",
    "    if n <= 1:\n",
    "        return n\n",
    "    else:\n",
    "        return fibonacci(n - 1) + fibonacci(n - 2)\n",
    "\n",
    "n = 40\n",
    "result = fibonacci(n)\n",
    "print(result)  # Print the result\n",
    "\n",
    "# TODO: Implement a more efficient approach to calculate the Fibonacci sequence.\n",
    "# TODO: Use memoization or dynamic programming to avoid redundant calculations.\n",
    "# TODO: Consider using an iterative approach instead of recursion for better performance."
   ]
  },
  {
   "cell_type": "markdown",
   "id": "73c63884",
   "metadata": {},
   "source": [
    "### Exercise 3: Always use good coding conventions \n",
    "\n",
    "1. Identify the violations of coding conventions in the given code snippet.\n",
    "2. Rewrite the code following the standard coding conventions.\n",
    "3. Make necessary changes and improvements directly in the code."
   ]
  },
  {
   "cell_type": "code",
   "execution_count": null,
   "id": "a2b5c328",
   "metadata": {},
   "outputs": [],
   "source": [
    "def AIPrediction(Data):\n",
    "    RES = []\n",
    "    for i in range(len(Data)):\n",
    "        if i%2==1:pass\n",
    "        else:RES.append(Data[i]+' AI predicted')\n",
    "    return RES\n",
    "\n",
    "ANIMData=['Cat','Dog','Horse','Bird']\n",
    "ResuLT=AIPrediction(ANIMData)\n",
    "print(ResuLT)\n",
    "\n",
    "# TODO: Change the function name to follow proper naming conventions.\n",
    "# TODO: Use consistent variable naming conventions (e.g., use lowercase).\n",
    "# TODO: Add proper spacing and indentation for readability.\n",
    "# TODO: Correct the variable names to adhere to coding conventions (e.g., 'RES' to 'result', 'IMData' to 'image_data').\n",
    "# TODO: Add docstring to describe the purpose, parameters, and return value of the function.\n",
    "# TODO: Improve the conditional statement for more meaningful AI predictions."
   ]
  },
  {
   "cell_type": "markdown",
   "id": "3960e63f",
   "metadata": {},
   "source": [
    "### Exercise 4: Documenting Code with Docstrings\n",
    "\n",
    "Improve the code by adding appropriate docstrings to describe the purpose, parameters, and return value of the `calc_acc` function. Also, ensure that the code follows good naming conventions and handles cases where the input lists are empty."
   ]
  },
  {
   "cell_type": "code",
   "execution_count": 17,
   "id": "24b2b575",
   "metadata": {},
   "outputs": [],
   "source": [
    "def calc_acc(pred, targ):\n",
    "    correct = 0\n",
    "    total = len(pred)\n",
    "    for p, t in zip(pred, targ):\n",
    "        if p == t:\n",
    "            correct += 1\n",
    "    acc = correct / total\n",
    "    return acc\n",
    "\n",
    "# TODO: Add a docstring to describe the purpose, parameters, and return value of the function.\n",
    "# TODO: Use more descriptive names for the function and variable parameters.\n",
    "# TODO: Consider handling cases where the input lists are empty to avoid division by zero."
   ]
  },
  {
   "cell_type": "markdown",
   "id": "69d520bf",
   "metadata": {},
   "source": [
    "### Exercise 5: Handling Errors with Try-Except\n",
    "\n",
    "Modify the code to improve error handling in the `divide` function. Replace the generic except block with specific exception types and provide informative error messages. Consider returning a default value or raising a custom exception when an error occurs to enhance error handling and feedback."
   ]
  },
  {
   "cell_type": "code",
   "execution_count": null,
   "id": "00e258ad",
   "metadata": {},
   "outputs": [],
   "source": [
    "def divide(a, b):\n",
    "    try:\n",
    "        result = a / b\n",
    "    except:\n",
    "        result = None\n",
    "    return result\n",
    "\n",
    "# TODO: Replace the generic except block with specific exception types (e.g., ZeroDivisionError).\n",
    "# TODO: Add appropriate error messages or logging to indicate the type of error that occurred.\n",
    "# TODO: Consider returning a default value or raising a custom exception when an error occurs."
   ]
  }
 ],
 "metadata": {
  "kernelspec": {
   "display_name": "Python 3 (ipykernel)",
   "language": "python",
   "name": "python3"
  },
  "language_info": {
   "codemirror_mode": {
    "name": "ipython",
    "version": 3
   },
   "file_extension": ".py",
   "mimetype": "text/x-python",
   "name": "python",
   "nbconvert_exporter": "python",
   "pygments_lexer": "ipython3",
   "version": "3.10.9"
  }
 },
 "nbformat": 4,
 "nbformat_minor": 5
}
