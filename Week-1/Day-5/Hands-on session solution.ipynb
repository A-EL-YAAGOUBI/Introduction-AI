{
 "cells": [
  {
   "cell_type": "markdown",
   "id": "53d0eaf1",
   "metadata": {},
   "source": [
    "### Exercise 1: Writing clean Code is very important!\n",
    "\n",
    "1. Identify the issues with the given code snippet that exhibits extremely poor coding practices and lacks readability.\n",
    "2. Rewrite the code by applying best coding practices and improving its readability.\n",
    "3. Make necessary changes and improvements directly in the code."
   ]
  },
  {
   "cell_type": "code",
   "execution_count": 1,
   "id": "2796f695",
   "metadata": {},
   "outputs": [
    {
     "name": "stdout",
     "output_type": "stream",
     "text": [
      "4\n"
     ]
    }
   ],
   "source": [
    "def count_ones(a_list):\n",
    "    count = 0\n",
    "    for i in range(len(a_list)):\n",
    "        if a_list[i] == 1:\n",
    "            count += 1\n",
    "\n",
    "    return count\n",
    "\n",
    "# list to be searched\n",
    "my_list = [1, 0, 1, 1, 0, 1]\n",
    "\n",
    "# Call the function\n",
    "count = count_ones(my_list)\n",
    "print(count)"
   ]
  },
  {
   "cell_type": "markdown",
   "id": "8c00fdaa",
   "metadata": {},
   "source": [
    "### Exercise 2: Always strive to write efficient Code\n",
    "\n",
    "1. Identify the inefficiencies in the given code snippet and explain why it is highly inefficient.\n",
    "2. Rewrite the code to improve its performance.\n",
    "3. Make necessary changes and improvements directly in the code."
   ]
  },
  {
   "cell_type": "code",
   "execution_count": 2,
   "id": "4e68003b",
   "metadata": {
    "scrolled": true
   },
   "outputs": [
    {
     "name": "stdout",
     "output_type": "stream",
     "text": [
      "832040\n"
     ]
    }
   ],
   "source": [
    "def fibonacci(n):\n",
    "    if n <= 1:\n",
    "        return n  # Base case: return n if n is 0 or 1\n",
    "    else:\n",
    "        # Recursive case: compute the sum of the two previous Fibonacci numbers\n",
    "        return fibonacci(n - 1) + fibonacci(n - 2)\n",
    "\n",
    "n = 30\n",
    "result = fibonacci(n)  # Calculate the Fibonacci number for n\n",
    "print(result)  # Print the result"
   ]
  },
  {
   "cell_type": "code",
   "execution_count": 3,
   "id": "dc33df51",
   "metadata": {},
   "outputs": [
    {
     "name": "stdout",
     "output_type": "stream",
     "text": [
      "280571172992510140037611932413038677189525\n"
     ]
    }
   ],
   "source": [
    "# TODO: Consider using an iterative approach instead of recursion for better performance.\n",
    "def fibonacci(n):\n",
    "    fibo = [0, 1]  # Initialize a list with the first two Fibonacci numbers\n",
    "    \n",
    "    for i in range(1, n):\n",
    "        temp = fibo[-1] + fibo[-2]  # Calculate the next Fibonacci number by summing the last two\n",
    "        \n",
    "        fibo[-2] = fibo[-1]  # Update the second-to-last Fibonacci number\n",
    "        fibo[-1] = temp  # Update the last Fibonacci number\n",
    "    \n",
    "    return fibo[-1]  # Return the nth Fibonacci number\n",
    "        \n",
    "n = 200\n",
    "result = fibonacci(n)  # Calculate the 200th Fibonacci number\n",
    "print(result)  # Print the result"
   ]
  },
  {
   "cell_type": "code",
   "execution_count": 4,
   "id": "707de7d2",
   "metadata": {},
   "outputs": [],
   "source": [
    "# TODO: Use memoization or dynamic programming to avoid redundant calculations.\n",
    "fibo_cache = {0:0, 1:1}"
   ]
  },
  {
   "cell_type": "code",
   "execution_count": 5,
   "id": "438fd860",
   "metadata": {},
   "outputs": [
    {
     "name": "stdout",
     "output_type": "stream",
     "text": [
      "280571172992510140037611932413038677189525\n"
     ]
    }
   ],
   "source": [
    "# TODO: Implement a more efficient approach to calculate the Fibonacci sequence.\n",
    "def fibonacci(n):\n",
    "    if n in fibo_cache:  # Check if the Fibonacci number is already in the cache\n",
    "        return fibo_cache[n]  # Return the cached value\n",
    "    else:\n",
    "        # Calculate the (n-2)th Fibonacci number\n",
    "        fibo_n_minus_two = fibonacci(n - 2)\n",
    "        fibo_cache[n-2] = fibo_n_minus_two  # Cache the value\n",
    "        \n",
    "        # Calculate the (n-1)th Fibonacci number\n",
    "        fibo_n_minus_one = fibonacci(n - 1)\n",
    "        fibo_cache[n-1] = fibo_n_minus_one  # Cache the value\n",
    "        \n",
    "        return fibo_n_minus_one + fibo_n_minus_two  # Return the sum of the last two Fibonacci numbers\n",
    "\n",
    "n = 200\n",
    "result = fibonacci(n)  # Calculate the 200th Fibonacci number\n",
    "print(result)  # Print the result"
   ]
  },
  {
   "cell_type": "markdown",
   "id": "73c63884",
   "metadata": {},
   "source": [
    "### Exercise 3: Always use good coding conventions \n",
    "\n",
    "1. Identify the violations of coding conventions in the given code snippet.\n",
    "2. Rewrite the code following the standard coding conventions.\n",
    "3. Make necessary changes and improvements directly in the code."
   ]
  },
  {
   "cell_type": "code",
   "execution_count": 6,
   "id": "a2b5c328",
   "metadata": {},
   "outputs": [
    {
     "name": "stdout",
     "output_type": "stream",
     "text": [
      "['Cat AI predicted', 'Horse AI predicted']\n"
     ]
    }
   ],
   "source": [
    "def ai_prediction(data):\n",
    "    \"\"\"\n",
    "    Generate AI predictions based on input data.\n",
    "\n",
    "    Args:\n",
    "        data (list): A list of input data.\n",
    "\n",
    "    Returns:\n",
    "        list: A list of AI predictions generated from the input data.\n",
    "    \"\"\"\n",
    "    predictions = []\n",
    "    for i in range(len(data)):\n",
    "        if i % 2 == 0:\n",
    "            predictions.append(data[i] + ' AI predicted')\n",
    "    \n",
    "    return predictions\n",
    "\n",
    "\n",
    "animal_data = ['Cat', 'Dog', 'Horse', 'Bird']\n",
    "predictions = ai_prediction(animal_data)\n",
    "print(predictions)"
   ]
  },
  {
   "cell_type": "markdown",
   "id": "3960e63f",
   "metadata": {},
   "source": [
    "### Exercise 4: Documenting Code with Docstrings\n",
    "\n",
    "Improve the code by adding appropriate docstrings to describe the purpose, parameters, and return value of the `calc_acc` function. Also, ensure that the code follows good naming conventions and handles cases where the input lists are empty."
   ]
  },
  {
   "cell_type": "code",
   "execution_count": 7,
   "id": "24b2b575",
   "metadata": {},
   "outputs": [],
   "source": [
    "def calculate_accuracy(predictions, targets):\n",
    "    \"\"\"\n",
    "    Calculate the accuracy of a set of predictions compared to the corresponding targets.\n",
    "\n",
    "    Args:\n",
    "        predictions (list): A list of predicted values.\n",
    "        targets (list): A list of target values.\n",
    "\n",
    "    Returns:\n",
    "        float: The accuracy of the predictions, represented as a value between 0 and 1.\n",
    "    \n",
    "    Raises:\n",
    "        ValueError: If either the predictions or targets lists are empty.\n",
    "    \"\"\"\n",
    "    if len(predictions) == 0 or len(targets) == 0:\n",
    "        raise ValueError(\"Input lists cannot be empty.\")\n",
    "\n",
    "    correct = 0\n",
    "    total = len(predictions)\n",
    "    for pred, target in zip(predictions, targets):\n",
    "        if pred == target:\n",
    "            correct += 1\n",
    "    accuracy = correct / total\n",
    "    return accuracy"
   ]
  },
  {
   "cell_type": "markdown",
   "id": "69d520bf",
   "metadata": {},
   "source": [
    "### Exercise 5: Handling Errors with Try-Except\n",
    "\n",
    "Modify the code to improve error handling in the `divide` function. Replace the generic except block with specific exception types and provide informative error messages. Consider returning a default value or raising a custom exception when an error occurs to enhance error handling and feedback."
   ]
  },
  {
   "cell_type": "code",
   "execution_count": 8,
   "id": "00e258ad",
   "metadata": {},
   "outputs": [],
   "source": [
    "def divide(numerator, denominator):\n",
    "    \"\"\"\n",
    "    Divide two numbers and handle potential division by zero.\n",
    "\n",
    "    Args:\n",
    "        numerator (float or int): The numerator of the division.\n",
    "        denominator (float or int): The denominator of the division.\n",
    "        \n",
    "    Returns:\n",
    "        float or None: The result of the division, or None if division by zero occurs or an error happens.\n",
    "    \"\"\"\n",
    "    try:\n",
    "        result = numerator / denominator\n",
    "    except ZeroDivisionError:\n",
    "        # Handle the case where division by zero occurs\n",
    "        result = None\n",
    "        print(\"Error: Division by zero!\")\n",
    "    except Exception as e:\n",
    "        # Handle other types of exceptions\n",
    "        result = None\n",
    "        print(f\"Error: {type(e).__name__} - {e}\")\n",
    "    return result"
   ]
  }
 ],
 "metadata": {
  "kernelspec": {
   "display_name": "Python 3 (ipykernel)",
   "language": "python",
   "name": "python3"
  },
  "language_info": {
   "codemirror_mode": {
    "name": "ipython",
    "version": 3
   },
   "file_extension": ".py",
   "mimetype": "text/x-python",
   "name": "python",
   "nbconvert_exporter": "python",
   "pygments_lexer": "ipython3",
   "version": "3.10.9"
  }
 },
 "nbformat": 4,
 "nbformat_minor": 5
}
