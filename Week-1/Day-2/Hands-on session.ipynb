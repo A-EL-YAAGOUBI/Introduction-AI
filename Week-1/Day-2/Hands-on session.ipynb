{
 "cells": [
  {
   "cell_type": "markdown",
   "id": "667ad415",
   "metadata": {},
   "source": [
    "## List Manipulation:\n"
   ]
  },
  {
   "cell_type": "markdown",
   "id": "53d0eaf1",
   "metadata": {},
   "source": [
    "### Exercise 1:\n",
    "\n",
    "Write a program that performs various operations on a list."
   ]
  },
  {
   "cell_type": "code",
   "execution_count": 1,
   "id": "2796f695",
   "metadata": {},
   "outputs": [],
   "source": [
    "# List Manipulation\n",
    "# TODO: Initialize an empty list called \"my_list\"\n",
    "\n",
    "# TODO: Append the numbers 1, 2, 4, and 5 to the list\n",
    "\n",
    "# TODO: Print the list\n",
    "\n",
    "# TODO: Append the number 6 to the beginning of the list\n",
    "\n",
    "# TODO: Print the list\n",
    "\n",
    "# TODO: Remove the last element from the list using the pop() function\n",
    "\n",
    "# TODO: Print the list\n",
    "\n",
    "# TODO: Remove the first element from the list using the pop() function\n",
    "\n",
    "# TODO: Print the list\n",
    "\n",
    "# TODO: Remove the element at index 2 from the list using the del statement\n",
    "\n",
    "# What is the difference between the pop function and the del statement?\n",
    "\n",
    "# TODO: Print the list\n",
    "\n",
    "# TODO: Retrieve and print the element at index 1 from the list\n",
    "\n",
    "# TODO: Print the list using slicing to display only the first three elements\n",
    "\n",
    "# TODO: Print the list using slicing to display only the last two elements\n",
    "\n",
    "# TODO: Print the list using slicing to display only the elements at odd indices"
   ]
  },
  {
   "cell_type": "markdown",
   "id": "8c00fdaa",
   "metadata": {},
   "source": [
    "### Exercise 2:\n",
    "\n",
    "Write a Python program that demonstrates how a list can mix different types of elements such as strings and integers."
   ]
  },
  {
   "cell_type": "code",
   "execution_count": null,
   "id": "4e68003b",
   "metadata": {},
   "outputs": [],
   "source": [
    "# Create an empty list\n",
    "mixed_list = []\n",
    "\n",
    "# Add elements to the list\n",
    "# TODO: Add the following elements to the mixed_list in the correct order:\n",
    "# - The string \"Hello\"\n",
    "# - The integer 42\n",
    "# - The string \"World\"\n",
    "# - The float 3.14\n",
    "# - The boolean value True\n",
    "\n",
    "# TODO: Print the mixed_list\n",
    "\n",
    "# Access and modify elements in the list\n",
    "# TODO: Print the element at index 2 in the mixed_list\n",
    "\n",
    "# TODO: Modify the element at index 1 to the string \"Python\"\n",
    "\n",
    "# TODO: Print the modified mixed_list\n",
    "\n",
    "# TODO: Append the integer 7 to the end of the mixed_list\n",
    "\n",
    "# TODO: Print the mixed_list\n",
    "\n",
    "# TODO: Remove the boolean value True from the mixed_list\n",
    "\n",
    "# TODO: Print the mixed_list\n",
    "\n",
    "# TODO: Check if the string \"Hello\" is in the mixed_list and print the result\n",
    "\n",
    "# TODO: Check if the float 2.71 is not in the mixed_list and print the result"
   ]
  },
  {
   "cell_type": "markdown",
   "id": "46f92514",
   "metadata": {},
   "source": [
    "## Exploring Tuples:"
   ]
  },
  {
   "cell_type": "markdown",
   "id": "73c63884",
   "metadata": {},
   "source": [
    "### Exercise 3:\n",
    "\n",
    "Write a Python program that demonstrates the characteristics and limitations of tuples."
   ]
  },
  {
   "cell_type": "code",
   "execution_count": null,
   "id": "a2b5c328",
   "metadata": {},
   "outputs": [],
   "source": [
    "# Create a tuple\n",
    "my_tuple = (1, 2, 3, \"apple\", \"banana\")\n",
    "\n",
    "# TODO: Print the tuple\n",
    "\n",
    "# Accessing elements in a tuple\n",
    "# TODO: Print the element at index 2\n",
    "\n",
    "# TODO: Print the elements from index 1 to index 3 using slicing\n",
    "\n",
    "# TODO: Attempt to modify the element at index 0 to the value 5\n",
    "# Uncomment the line below and run the code to see the result\n",
    "# my_tuple[0] = 5\n",
    "\n",
    "# Concatenating tuples\n",
    "# TODO: Create a new tuple called second_tuple with elements (4, 5, 6)\n",
    "\n",
    "# TODO: Concatenate my_tuple and second_tuple into a new tuple called combined_tuple\n",
    "\n",
    "# TODO: Print the combined_tuple\n",
    "\n",
    "# Tuple unpacking\n",
    "# TODO: Unpack the elements of combined_tuple into separate variables\n",
    "\n",
    "# TODO: Print the unpacked variables\n",
    "\n",
    "# Comparing tuples\n",
    "# TODO: Create two tuples called tuple1 and tuple2 with the same elements as my_tuple\n",
    "\n",
    "# TODO: Compare tuple1 and tuple2 using the equality operator (==) and print the result\n",
    "\n",
    "# TODO: Compare tuple1 and tuple2 using the greater than operator (>) and print the result\n",
    "\n",
    "# Modifying elements indirectly\n",
    "# TODO: Convert my_tuple to a list\n",
    "\n",
    "# TODO: Modify the first element of the list\n",
    "\n",
    "# TODO: Convert the list back to a tuple\n",
    "\n",
    "# TODO: Print the modified tuple\n",
    "\n",
    "# Tuple limitations\n",
    "# TODO: Attempt to append an element to my_tuple\n",
    "# Uncomment the line below and run the code to see the result\n",
    "# my_tuple.append(4)\n",
    "\n",
    "# TODO: Attempt to delete an element from my_tuple\n",
    "# Uncomment the line below and run the code to see the result\n",
    "# del my_tuple[2]"
   ]
  },
  {
   "cell_type": "markdown",
   "id": "3960e63f",
   "metadata": {},
   "source": [
    "### Exercise 4:\n",
    "\n",
    "You are given a list of tuples representing the scores of students in a class. Each tuple contains the student's name and their score. Your task is to sort the list of tuples based on the scores in descending order."
   ]
  },
  {
   "cell_type": "code",
   "execution_count": null,
   "id": "24b2b575",
   "metadata": {},
   "outputs": [],
   "source": [
    "# List of tuples representing student scores\n",
    "student_scores = [(\"Ahmad\", 85), (\"Fatima\", 90), (\"Mohammed\", 75), (\"Layla\", 92), (\"Ali\", 80)]\n",
    "\n",
    "# TODO: Sort the list of tuples based on scores in descending order\n",
    "# For this you can use the sorted function with a lambda expression\n",
    "# sorted_scores = sorted(student_scores, key=lambda x: x[1], reverse=True)\n",
    "\n",
    "# Print the sorted list of tuples\n",
    "for student in sorted_scores:\n",
    "    print(f\"Student: {student[0]}, Score: {student[1]}\")\n",
    "\n",
    "# TODO: Sort the list of tuples based on the student names in ascending order\n",
    "\n",
    "# Print the sorted list of tuples\n",
    "for student in sorted_scores:\n",
    "    print(f\"Student: {student[0]}, Score: {student[1]}\")"
   ]
  },
  {
   "cell_type": "markdown",
   "id": "8a587ab9",
   "metadata": {},
   "source": [
    "## Understanding Dictionaries:"
   ]
  },
  {
   "cell_type": "markdown",
   "id": "69d520bf",
   "metadata": {},
   "source": [
    "### Exercise 5:\n",
    "\n",
    "Create an empty dictionary called contacts. Prompt the user to enter a name and phone number, and add them as a key-value pair to the dictionary. Repeat this process for two more contacts. Finally, remove the second contact from the dictionary. Display the updated dictionary."
   ]
  },
  {
   "cell_type": "code",
   "execution_count": null,
   "id": "00e258ad",
   "metadata": {},
   "outputs": [],
   "source": [
    "# TODO: Create an empty dictionary called contacts\n",
    "\n",
    "# Prompt the user to enter three contacts and add them to the dictionary\n",
    "for i in range(3):\n",
    "    name = input(\"Enter a name: \")\n",
    "    phone_number = input(\"Enter a phone number: \")\n",
    "    \n",
    "    # TODO: Add the information as a key-value pair to the dictionary contacts\n",
    "\n",
    "# Display the dictionary\n",
    "print(\"Contacts:\", contacts)\n",
    "\n",
    "# TODO: Remove the second contact from the dictionary\n",
    "\n",
    "# Display the updated dictionary\n",
    "print(\"Updated contacts:\", contacts)"
   ]
  },
  {
   "cell_type": "markdown",
   "id": "5da073b2",
   "metadata": {},
   "source": [
    "### Exercise 6:\n",
    "\n",
    "Given a dictionary of book titles and their authors, prompt the user to enter a book title. If the title is found in the dictionary, display the corresponding author. Otherwise, display a message stating that the book title is not found."
   ]
  },
  {
   "cell_type": "code",
   "execution_count": null,
   "id": "22d58be7",
   "metadata": {},
   "outputs": [],
   "source": [
    "# Dictionary of book titles and authors\n",
    "books = {\n",
    "    \"Book1\": \"Author1\",\n",
    "    \"Book2\": \"Author2\",\n",
    "    \"Book3\": \"Author3\"\n",
    "}\n",
    "\n",
    "# Prompt the user to enter a book title\n",
    "book_title = input(\"Enter a book title: \")\n",
    "\n",
    "# TODO: Check if the book title is found in the dictionary\n",
    "\n",
    "# Display the author if the book title is found, or a message if not found\n",
    "if book_title in books:\n",
    "    print(\"Author:\", books[book_title])\n",
    "else:\n",
    "    print(\"Book title not found.\")"
   ]
  },
  {
   "cell_type": "markdown",
   "id": "2a078fa6",
   "metadata": {},
   "source": [
    "## Advantage of Using Dictionaries"
   ]
  },
  {
   "cell_type": "markdown",
   "id": "e751632f",
   "metadata": {},
   "source": [
    "### Exercise 7\n",
    "\n",
    "You are given a large dictionary and a large list, both containing 100,000 elements. Your task is to check if 10,000 randomly chosen elements are present in both the dictionary and the list, and compare the time taken for each operation."
   ]
  },
  {
   "cell_type": "code",
   "execution_count": null,
   "id": "8c76208e",
   "metadata": {},
   "outputs": [],
   "source": [
    "import random\n",
    "import time\n",
    "\n",
    "# Create a large dictionary\n",
    "my_dict = {i: f\"value_{i}\" for i in range(100000)}\n",
    "\n",
    "# Create a large list\n",
    "my_list = [f\"value_{i}\" for i in range(100000)]\n",
    "\n",
    "# Generate a list of 10,000 random elements\n",
    "random_elements = random.sample(range(100000), 10000)\n",
    "\n",
    "# Check presence of random elements in the dictionary and measure the time taken\n",
    "start_time_dict = time.time()\n",
    "\n",
    "# TODO: Check if each element is present in the my_dict\n",
    "\n",
    "end_time_dict = time.time()\n",
    "\n",
    "# Check presence of random elements in the list and measure the time taken\n",
    "start_time_list = time.time()\n",
    "\n",
    "# TODO: Check if each element is present in the my_list\n",
    "\n",
    "end_time_list = time.time()\n",
    "\n",
    "# Calculate the time taken for dictionary operations with 5 decimal places\n",
    "time_taken_dict = round(end_time_dict - start_time_dict, 5)\n",
    "\n",
    "# Calculate the time taken for list operations with two decimal places\n",
    "time_taken_list = round(end_time_list - start_time_list, 5)\n",
    "\n",
    "# Print the results\n",
    "print(f\"Time taken for dictionary operations: {time_taken_dict:.2f} seconds\")\n",
    "print(f\"Time taken for list operations: {time_taken_list:.2f} seconds\")"
   ]
  },
  {
   "cell_type": "markdown",
   "id": "c11fa8db",
   "metadata": {},
   "source": [
    "## Looping through data structures"
   ]
  },
  {
   "cell_type": "markdown",
   "id": "3b9bc9f6",
   "metadata": {},
   "source": [
    "### Exercise 8: \n",
    "\n",
    "In this exercise, you will practice looping through tuples, lists, and dictionaries using different techniques. You will first loop through the data structures without using `enumerate()` and `zip()`, and then you will loop through them using `enumerate()` and `zip()`."
   ]
  },
  {
   "cell_type": "code",
   "execution_count": null,
   "id": "3cdf4cbf",
   "metadata": {},
   "outputs": [],
   "source": [
    "# Tuple\n",
    "fruits_tuple = (\"apple\", \"banana\", \"cherry\")\n",
    "\n",
    "# TODO: Loop through the fruits_tuple without using enumerate()\n",
    "#       Display the index and fruit in each iteration\n",
    "\n",
    "# List\n",
    "fruits_list = [\"apple\", \"banana\", \"cherry\"]\n",
    "\n",
    "# TODO: Loop through the fruits_list without using enumerate()\n",
    "#       Display the index and fruit in each iteration\n",
    "\n",
    "# Dictionary\n",
    "fruits_dict = {\n",
    "    \"fruit1\": \"apple\",\n",
    "    \"fruit2\": \"banana\",\n",
    "    \"fruit3\": \"cherry\"\n",
    "}\n",
    "\n",
    "# TODO: Loop through the fruits_dict without using zip()\n",
    "#       Display the key and value in each iteration\n",
    "\n",
    "# TODO: Add a separator for better readability\n",
    "print(\"-\" * 20)\n",
    "\n",
    "# TODO: Loop through the fruits_tuple using enumerate()\n",
    "#       Display the index and fruit in each iteration\n",
    "\n",
    "# TODO: Loop through the fruits_list using enumerate()\n",
    "#       Display the index and fruit in each iteration\n",
    "\n",
    "# TODO: Loop through the fruits_dict using zip()\n",
    "#       Display the key and value in each iteration"
   ]
  }
 ],
 "metadata": {
  "kernelspec": {
   "display_name": "Python 3 (ipykernel)",
   "language": "python",
   "name": "python3"
  },
  "language_info": {
   "codemirror_mode": {
    "name": "ipython",
    "version": 3
   },
   "file_extension": ".py",
   "mimetype": "text/x-python",
   "name": "python",
   "nbconvert_exporter": "python",
   "pygments_lexer": "ipython3",
   "version": "3.10.9"
  }
 },
 "nbformat": 4,
 "nbformat_minor": 5
}
