{
 "cells": [
  {
   "cell_type": "markdown",
   "id": "052e749d",
   "metadata": {},
   "source": [
    "# Unsuppervised learning: K-Means Clustering\n",
    "\n",
    "In this exercise, you will practice implementing the k-means clustering algorithm on a synthetic dataset. You will use the k-means algorithm to group data points into clusters based on their similarities. The goal is to understand how the algorithm works and how the number of clusters affects the clustering results."
   ]
  },
  {
   "cell_type": "code",
   "execution_count": null,
   "id": "48b78a05",
   "metadata": {},
   "outputs": [],
   "source": [
    "import numpy as np\n",
    "import matplotlib.pyplot as plt\n",
    "from sklearn.datasets import make_blobs\n",
    "from sklearn.cluster import KMeans"
   ]
  },
  {
   "cell_type": "code",
   "execution_count": null,
   "id": "1be412b8",
   "metadata": {},
   "outputs": [],
   "source": [
    "# Generate synthetic data for clustering using make_blobs with parameters n_samples=300, centers=3\n",
    "X, _ = # TODO\n",
    "\n",
    "# TODO: Implement k-means clustering algorithm\n",
    "def k_means_clustering(X, num_clusters):\n",
    "    \"\"\"\n",
    "    Perform k-means clustering on the input data.\n",
    "\n",
    "    Parameters:\n",
    "    X (numpy.ndarray): Feature matrix of shape (n_samples, n_features).\n",
    "    num_clusters (int): Number of clusters to form.\n",
    "\n",
    "    Returns:\n",
    "    kmeans (KMeans): Trained k-means model.\n",
    "    \"\"\"\n",
    "\n",
    "    # TODO: Initialize k-means with the specified number of clusters using KMeans and n_clusters parameter\n",
    "    kmeans = # TODO\n",
    "\n",
    "    # TODO: Fit the k-means model to the data\n",
    "\n",
    "    return kmeans\n",
    "\n",
    "# TODO: Set the number of clusters for k-means\n",
    "num_clusters = # TODO\n",
    "\n",
    "# TODO: Perform k-means clustering on the data\n",
    "kmeans_model = # TODO\n",
    "\n",
    "# TODO: Get cluster centers and labels from the trained model (use attributes)\n",
    "cluster_centers = # TODO\n",
    "labels = # TODO"
   ]
  },
  {
   "cell_type": "code",
   "execution_count": null,
   "id": "2058e477",
   "metadata": {},
   "outputs": [],
   "source": [
    "# Visualize the clustered data\n",
    "plt.figure(figsize=(8, 4))\n",
    "\n",
    "plt.scatter(X[:, 0], X[:, 1], c=# TODO, cmap='viridis', edgecolor='black', linewidth=1)\n",
    "plt.scatter(cluster_centers[:, 0], cluster_centers[:, 1], marker='X', s=200, color='red', label='Cluster Centers')\n",
    "\n",
    "plt.title('K-Means Clustering')\n",
    "plt.xlabel('Feature 1')\n",
    "plt.ylabel('Feature 2')\n",
    "plt.legend()\n",
    "plt.grid()\n",
    "\n",
    "plt.show()"
   ]
  },
  {
   "cell_type": "markdown",
   "id": "b7d32ba9",
   "metadata": {},
   "source": [
    "# Unsuppervised learning: Hierarchical Clustering (HCA)\n",
    "\n",
    "In this exercise, you will practice implementing the Hierarchical Clustering Algorithm (HCA) on a synthetic dataset. Hierarchical Clustering is an unsupervised learning algorithm that creates a hierarchy of clusters by iteratively merging or dividing them based on their similarities. The goal is to understand how the HCA algorithm works and visualize the resulting hierarchical clusters."
   ]
  },
  {
   "cell_type": "code",
   "execution_count": null,
   "id": "1c6ddc92",
   "metadata": {},
   "outputs": [],
   "source": [
    "import numpy as np\n",
    "import matplotlib.pyplot as plt\n",
    "from scipy.cluster.hierarchy import dendrogram, linkage, fcluster\n",
    "from sklearn.datasets import make_blobs"
   ]
  },
  {
   "cell_type": "code",
   "execution_count": null,
   "id": "0bc4632d",
   "metadata": {},
   "outputs": [],
   "source": [
    "# TODO: Generate synthetic data for clustering using make_blobs and parameters n_samples=50, centers=3\n",
    "X, _ = # TODO\n",
    "\n",
    "# TODO: Implement Hierarchical Clustering Algorithm (HCA)\n",
    "def hierarchical_clustering(X):\n",
    "    \"\"\"\n",
    "    Perform Hierarchical Clustering on the input data.\n",
    "\n",
    "    Parameters:\n",
    "    X (numpy.ndarray): Feature matrix of shape (n_samples, n_features).\n",
    "\n",
    "    Returns:\n",
    "    Z (numpy.ndarray): The linkage matrix containing hierarchical clustering information.\n",
    "    \"\"\"\n",
    "\n",
    "    # TODO: Compute the linkage matrix using 'ward' method\n",
    "    Z = # TODO\n",
    "\n",
    "    return Z\n",
    "\n",
    "# TODO: Perform Hierarchical Clustering on the data\n",
    "Z = # TODO"
   ]
  },
  {
   "cell_type": "code",
   "execution_count": null,
   "id": "ac554fd2",
   "metadata": {},
   "outputs": [],
   "source": [
    "# TODO: Visualize the hierarchical clustering as a dendrogram\n",
    "plt.figure(figsize=(10, 4))\n",
    "\n",
    "dendrogram(# TODO, leaf_rotation=90., leaf_font_size=8., labels=np.arange(len(X)))\n",
    "\n",
    "plt.title('Hierarchical Clustering Dendrogram')\n",
    "plt.xlabel('Data Points')\n",
    "plt.ylabel('Distance')\n",
    "plt.grid()\n",
    "\n",
    "plt.show()"
   ]
  },
  {
   "cell_type": "code",
   "execution_count": null,
   "id": "c69def3a",
   "metadata": {},
   "outputs": [],
   "source": [
    "# TODO: Cut the dendrogram at a distance level of 30 using fcluster using criterion='distance'\n",
    "max_d = # TODO\n",
    "clusters = # TODO"
   ]
  },
  {
   "cell_type": "code",
   "execution_count": null,
   "id": "17725606",
   "metadata": {},
   "outputs": [],
   "source": [
    "# TODO: Visualize the clustered data\n",
    "plt.figure(figsize=(8, 4))\n",
    "\n",
    "plt.scatter(X[:, 0], X[:, 1], c=#TODO, cmap='viridis', edgecolor='black', linewidth=1)\n",
    "\n",
    "plt.title('K-Means Clustering')\n",
    "plt.xlabel('Feature 1')\n",
    "plt.ylabel('Feature 2')\n",
    "plt.legend()\n",
    "plt.grid()\n",
    "\n",
    "plt.show()"
   ]
  }
 ],
 "metadata": {
  "kernelspec": {
   "display_name": "Python 3 (ipykernel)",
   "language": "python",
   "name": "python3"
  },
  "language_info": {
   "codemirror_mode": {
    "name": "ipython",
    "version": 3
   },
   "file_extension": ".py",
   "mimetype": "text/x-python",
   "name": "python",
   "nbconvert_exporter": "python",
   "pygments_lexer": "ipython3",
   "version": "3.10.9"
  }
 },
 "nbformat": 4,
 "nbformat_minor": 5
}
