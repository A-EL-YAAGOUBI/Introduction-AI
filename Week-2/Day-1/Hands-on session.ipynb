{
 "cells": [
  {
   "cell_type": "markdown",
   "id": "58f46af0",
   "metadata": {},
   "source": [
    "## Understanding multi-dimensional arrays and their operations in NumPy"
   ]
  },
  {
   "cell_type": "markdown",
   "id": "53d0eaf1",
   "metadata": {},
   "source": [
    "### Exercise 1: Create an Array\n",
    "\n",
    "You are working on an image processing project and need to create a NumPy array to represent an image. Create a 2-dimensional array with dimensions (32, 32) and initialize it with random values between 0 and 255."
   ]
  },
  {
   "cell_type": "code",
   "execution_count": null,
   "id": "2796f695",
   "metadata": {},
   "outputs": [],
   "source": [
    "import numpy as np\n",
    "\n",
    "# TODO: Create a 2-dimensional array with dimensions (32, 32) and initialize it with random values between 0 and 255"
   ]
  },
  {
   "cell_type": "markdown",
   "id": "8c00fdaa",
   "metadata": {},
   "source": [
    "### Exercise 2: Element-wise Operations\n",
    "\n",
    "You are implementing a machine learning algorithm and need to perform element-wise operations on arrays. Given two arrays of the same shape, calculate the element-wise sum, difference, and product."
   ]
  },
  {
   "cell_type": "code",
   "execution_count": null,
   "id": "4e68003b",
   "metadata": {},
   "outputs": [],
   "source": [
    "# TODO: Define two arrays A and B of the same shape\n",
    "\n",
    "# TODO: Calculate the matrix element-wise sum\n",
    "\n",
    "# TODO: Calculate the matrix element-wise difference\n",
    "\n",
    "# TODO: Calculate the matrix element-wise product"
   ]
  },
  {
   "cell_type": "markdown",
   "id": "73c63884",
   "metadata": {},
   "source": [
    "### Exercise 3: Array Slicing\n",
    "\n",
    "You have a dataset of images stored as a 3-dimensional array of shape (100, 64, 64). Extract a subset of images from the dataset by slicing along the first axis to create a new array of shape (10, 64, 64)."
   ]
  },
  {
   "cell_type": "code",
   "execution_count": null,
   "id": "a2b5c328",
   "metadata": {},
   "outputs": [],
   "source": [
    "# TODO: Extract a subset of images from the dataset by slicing along the first axis to create a new array of shape (10, 64, 64)"
   ]
  },
  {
   "cell_type": "markdown",
   "id": "f6eef950",
   "metadata": {},
   "source": [
    "## Performing basic mathematical and statistical operations using NumPy"
   ]
  },
  {
   "cell_type": "markdown",
   "id": "3960e63f",
   "metadata": {},
   "source": [
    "### Exercise 4: Array Statistics\n",
    "\n",
    "You are analyzing data from a survey and need to compute basic statistical measures. Given an array of survey responses, calculate the mean, median, and standard deviation."
   ]
  },
  {
   "cell_type": "code",
   "execution_count": null,
   "id": "24b2b575",
   "metadata": {},
   "outputs": [],
   "source": [
    "# TODO: Given an array of survey responses, calculate the mean, median, and standard deviation"
   ]
  },
  {
   "cell_type": "markdown",
   "id": "69d520bf",
   "metadata": {},
   "source": [
    "### Exercise 5: Matrix Operations\n",
    "\n",
    "You are working on a linear regression problem and need to perform matrix operations. Given two matrices A and B of appropriate dimensions, calculate the matrix product, matrix transpose, and matrix determinant."
   ]
  },
  {
   "cell_type": "code",
   "execution_count": null,
   "id": "00e258ad",
   "metadata": {},
   "outputs": [],
   "source": [
    "# TODO: Define the matrices A and B\n",
    "\n",
    "# TODO: Calculate the matrix product\n",
    "\n",
    "# TODO: Calculate the matrix transpose\n",
    "\n",
    "# TODO: Calculate the matrix determinant"
   ]
  },
  {
   "cell_type": "markdown",
   "id": "5da073b2",
   "metadata": {},
   "source": [
    "### Exercise 6: Random Sampling\n",
    "\n",
    "You are simulating a data collection process and need to generate random samples. Create a random sample of size 50 from a given array using NumPy's random sampling functions."
   ]
  },
  {
   "cell_type": "code",
   "execution_count": null,
   "id": "22d58be7",
   "metadata": {},
   "outputs": [],
   "source": [
    "# TODO: Create a random sample of size 50 from a given array using NumPy's random sampling functions"
   ]
  },
  {
   "cell_type": "markdown",
   "id": "05c4c03c",
   "metadata": {},
   "source": [
    "## Exploring advanced operations with NumPy arrays"
   ]
  },
  {
   "cell_type": "markdown",
   "id": "3b9bc9f6",
   "metadata": {},
   "source": [
    "### Exercise 7: Array Broadcasting\n",
    "\n",
    "You are working on a neural network project and need to perform element-wise operations between arrays of different shapes. Use array broadcasting to add a 1-dimensional array of shape (3,) to a 2-dimensional array of shape (2, 3)."
   ]
  },
  {
   "cell_type": "code",
   "execution_count": 5,
   "id": "3cdf4cbf",
   "metadata": {},
   "outputs": [],
   "source": [
    "# TODO: Define the 1-dimensional array\n",
    "\n",
    "# TODO: Define the 2-dimensional array\n",
    "\n",
    "# TODO: Use array broadcasting to add a 1-dimensional array of shape (3,) to a 2-dimensional array of shape (2, 3)"
   ]
  },
  {
   "cell_type": "markdown",
   "id": "fcb7aac3",
   "metadata": {},
   "source": [
    "### Exercise 8: Universal Functions (ufuncs)\n",
    "\n",
    "You are working on a signal processing task and need to apply a mathematical function element-wise to an array. Apply the exponential function to each element of a given array."
   ]
  },
  {
   "cell_type": "code",
   "execution_count": null,
   "id": "a7f9f34e",
   "metadata": {},
   "outputs": [],
   "source": [
    "# TODO: Apply the cosine function to each element of a given array"
   ]
  },
  {
   "cell_type": "markdown",
   "id": "aca3d905",
   "metadata": {},
   "source": [
    "### Exercise 9: Indexing and Masking\n",
    "\n",
    "You have a dataset of student scores stored as a 2-dimensional array. Identify and extract the scores of students who scored above a certain threshold."
   ]
  },
  {
   "cell_type": "code",
   "execution_count": null,
   "id": "01300ea3",
   "metadata": {},
   "outputs": [],
   "source": [
    "# TODO: Define the threshold\n",
    "\n",
    "# TODO: Generate an example 2-dimensional array of student scores\n",
    "\n",
    "# TODO: Use boolean indexing to extract scores above the threshold"
   ]
  },
  {
   "cell_type": "markdown",
   "id": "96416362",
   "metadata": {},
   "source": [
    "## Broadcasting and vectorized operations"
   ]
  },
  {
   "cell_type": "markdown",
   "id": "8d365dd1",
   "metadata": {},
   "source": [
    "### Exercise 10: Array Reshaping\n",
    "\n",
    "You have a 1-dimensional array of size 12 and need to reshape it into a 2-dimensional array of shape (3, 4). Reshape the array accordingly."
   ]
  },
  {
   "cell_type": "code",
   "execution_count": null,
   "id": "1f6265d5",
   "metadata": {},
   "outputs": [],
   "source": [
    "# TODO: Reshape the 1-dimensional array into a 2-dimensional array of shape (3, 4)"
   ]
  },
  {
   "cell_type": "markdown",
   "id": "a48385cd",
   "metadata": {},
   "source": [
    "### Exercise 11: Vectorized Functions\n",
    "\n",
    "You are working on an image processing task and need to apply a vectorized function to each pixel of an image. Apply a vectorized grayscale conversion function to a given RGB image."
   ]
  },
  {
   "cell_type": "code",
   "execution_count": null,
   "id": "be4d2152",
   "metadata": {},
   "outputs": [],
   "source": [
    "# TODO: Define the RGB image (example dimensions: height=32, width=32, channels=3)\n",
    "\n",
    "# Define the relative luminance weights for the RGB channels, respectively, in the grayscale conversion formula\n",
    "grayscale_filter = [0.2989, 0.5870, 0.1140]\n",
    "\n",
    "# TODO: Apply vectorized grayscale conversion using the np.dot() function with the image[..., :3] and grayscale_filter"
   ]
  },
  {
   "cell_type": "markdown",
   "id": "dbca12a5",
   "metadata": {},
   "source": [
    "### Exercise 12: Vectorized Arithmetic Operations\n",
    "\n",
    "You have two arrays representing sensor measurements and need to perform element-wise arithmetic operations. Perform addition, subtraction, multiplication, and division between the two arrays."
   ]
  },
  {
   "cell_type": "code",
   "execution_count": null,
   "id": "8643ee3d",
   "metadata": {},
   "outputs": [],
   "source": [
    "# TODO: Define two arrays, A and B, representing sensor measurements\n",
    "\n",
    "# TODO: Compute element-wise addition\n",
    "\n",
    "# TODO: Compute element-wise subtraction\n",
    "\n",
    "# TODO: Compute element-wise multiplication\n",
    "\n",
    "# TODO: Compute element-wise division\n",
    "\n",
    "# TODO: Print the results"
   ]
  },
  {
   "cell_type": "markdown",
   "id": "241cea9b",
   "metadata": {},
   "source": [
    "## Array manipulation techniques"
   ]
  },
  {
   "cell_type": "markdown",
   "id": "c0a10d0c",
   "metadata": {},
   "source": [
    "### Exercise 13: Array Concatenation\n",
    "\n",
    "You have two arrays and need to concatenate them along a specified axis. Concatenate a 1-dimensional array of shape (4,) and a 2-dimensional array of shape (2, 4) along the row axis."
   ]
  },
  {
   "cell_type": "code",
   "execution_count": null,
   "id": "bbca7df8",
   "metadata": {},
   "outputs": [],
   "source": [
    "# TODO: Define a 1-dimensional (4,) array and a 2-dimensional array (2, 4)\n",
    "\n",
    "# TODO: Concatenate along the row axis (axis=0)\n",
    "\n",
    "# TODO: Print the result\n",
    "\n",
    "# What is the new dimensions?\n",
    "\n",
    "# TODO: Try to concatenate along the column axis (axis=1)\n",
    "\n",
    "# What happened? why?"
   ]
  },
  {
   "cell_type": "markdown",
   "id": "084f0905",
   "metadata": {},
   "source": [
    "### Exercise 14: Array Splitting\n",
    "\n",
    "You have an array and need to split it into multiple smaller arrays of equal size. Split a given 1-dimensional array of size 10 into two arrays of size 5."
   ]
  },
  {
   "cell_type": "code",
   "execution_count": null,
   "id": "87aebc11",
   "metadata": {},
   "outputs": [],
   "source": [
    "# TODO: Define a 1-dimensional array of size 10\n",
    "\n",
    "# TODO: Split the array into two arrays of size 5\n",
    "\n",
    "# TODO: Print the split arrays"
   ]
  },
  {
   "cell_type": "markdown",
   "id": "cc1c246e",
   "metadata": {},
   "source": [
    "### Exercise 15: Array Transposition\n",
    "\n",
    "You have a 2-dimensional array and need to transpose it, swapping the rows and columns. Transpose a given 2-dimensional array of shape (3, 4)."
   ]
  },
  {
   "cell_type": "code",
   "execution_count": null,
   "id": "c3aff388",
   "metadata": {},
   "outputs": [],
   "source": [
    "# TODO: Define a 2-dimensional array of shape (3, 4)\n",
    "\n",
    "# TODO: Transpose the array using .T method\n",
    "\n",
    "# TODO: Transpose the array using .transpose() method"
   ]
  },
  {
   "cell_type": "markdown",
   "id": "d5cacfdb",
   "metadata": {},
   "source": [
    "### Exercise 16: Array Transposition\n",
    "\n",
    "You have a 4-dimensional array and need to transpose it, swapping the last two dimensions or the middle two dimensions. Transpose a given 4-dimensional array of shape (2, 3, 4, 5) along the specified dimensions."
   ]
  },
  {
   "cell_type": "code",
   "execution_count": null,
   "id": "54475160",
   "metadata": {},
   "outputs": [],
   "source": [
    "# TODO: Define a 4-dimensional random array of shape (2, 3, 4, 5) using the np.random.randint() method for instance\n",
    "\n",
    "# TODO: Transpose the array along the last two dimensions\n",
    "\n",
    "# TODO: Print the transposed array\n",
    "\n",
    "# TODO: Transpose the array along the middle two dimensions\n",
    "\n",
    "# TODO: Print the transposed array"
   ]
  },
  {
   "cell_type": "markdown",
   "id": "7a1eb9e8",
   "metadata": {},
   "source": [
    "## File I/O with NumPy"
   ]
  },
  {
   "cell_type": "markdown",
   "id": "32e29c37",
   "metadata": {},
   "source": [
    "### Exercise 17: Writing to CSV\n",
    "\n",
    "You have a NumPy array and need to save it as a CSV file. Save a given NumPy array to a CSV file."
   ]
  },
  {
   "cell_type": "code",
   "execution_count": null,
   "id": "6ebd49bc",
   "metadata": {},
   "outputs": [],
   "source": [
    "# Given a NumPy array data\n",
    "data = np.array([[1, 2, 3], [4, 5, 6], [7, 8, 9]])\n",
    "\n",
    "# Given CSV file path\n",
    "csv_file_path = 'data.csv'\n",
    "\n",
    "# TODO: Save the NumPy array to a CSV file. Use the np.savetxt() method"
   ]
  },
  {
   "cell_type": "markdown",
   "id": "0db97018",
   "metadata": {},
   "source": [
    "### Exercise 18: Reading from CSV\n",
    "\n",
    "You have a CSV file containing a dataset and need to read it into a NumPy array. Read the contents of a given CSV file into a NumPy array."
   ]
  },
  {
   "cell_type": "code",
   "execution_count": null,
   "id": "ad5ad11f",
   "metadata": {},
   "outputs": [],
   "source": [
    "# Given CSV file path, make sure such file exists. You can use the previous one or create a new one using excel\n",
    "csv_file_path = 'data.csv'\n",
    "\n",
    "# TODO: Read the CSV file into a NumPy array using the np.loadtxt() method\n",
    "\n",
    "# Print the data array\n",
    "print(data)"
   ]
  },
  {
   "cell_type": "markdown",
   "id": "4a624d9c",
   "metadata": {},
   "source": [
    "### Exercise 19: Loading and Saving NumPy Arrays using .npy files\n",
    "\n",
    "You have a NumPy array and need to save it to a .npy file and then load it back into memory."
   ]
  },
  {
   "cell_type": "code",
   "execution_count": null,
   "id": "be52103c",
   "metadata": {},
   "outputs": [],
   "source": [
    "# Given NumPy array\n",
    "data = np.array([1, 2, 3, 4, 5])\n",
    "\n",
    "# Given .npy file path\n",
    "npy_file = 'output.npy'\n",
    "\n",
    "# TODO: Save the NumPy array to a .npy file using the np.save() method\n",
    "\n",
    "# TODO: Load the .npy file back into memory using the np.load() method\n",
    "\n",
    "# Print the data\n",
    "print(data, loaded_data)"
   ]
  }
 ],
 "metadata": {
  "kernelspec": {
   "display_name": "Python 3 (ipykernel)",
   "language": "python",
   "name": "python3"
  },
  "language_info": {
   "codemirror_mode": {
    "name": "ipython",
    "version": 3
   },
   "file_extension": ".py",
   "mimetype": "text/x-python",
   "name": "python",
   "nbconvert_exporter": "python",
   "pygments_lexer": "ipython3",
   "version": "3.10.9"
  }
 },
 "nbformat": 4,
 "nbformat_minor": 5
}
