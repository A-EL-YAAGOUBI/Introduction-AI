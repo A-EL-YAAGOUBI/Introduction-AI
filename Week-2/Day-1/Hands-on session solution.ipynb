{
 "cells": [
  {
   "cell_type": "markdown",
   "id": "58f46af0",
   "metadata": {},
   "source": [
    "## Understanding multi-dimensional arrays and their operations in NumPy"
   ]
  },
  {
   "cell_type": "markdown",
   "id": "53d0eaf1",
   "metadata": {},
   "source": [
    "### Exercise 1: Create an Array\n",
    "\n",
    "You are working on an image processing project and need to create a NumPy array to represent an image. Create a 2-dimensional array with dimensions (32, 32) and initialize it with random values between 0 and 255."
   ]
  },
  {
   "cell_type": "code",
   "execution_count": 1,
   "id": "2796f695",
   "metadata": {},
   "outputs": [
    {
     "name": "stdout",
     "output_type": "stream",
     "text": [
      "[[ 91  47 148 ... 214 185 182]\n",
      " [219 113 192 ... 250 228  93]\n",
      " [ 33 229  81 ...  34 108  27]\n",
      " ...\n",
      " [  9 224   1 ... 103  60 121]\n",
      " [155 152  49 ...  91 109 145]\n",
      " [ 10 215   8 ...  21  35  64]]\n"
     ]
    }
   ],
   "source": [
    "import numpy as np\n",
    "\n",
    "# TODO: Create a 2-dimensional array with dimensions (32, 32) and initialize it with random values between 0 and 255\n",
    "array_2d = np.random.randint(0, 256, size=(32, 32))\n",
    "\n",
    "print(array_2d)"
   ]
  },
  {
   "cell_type": "markdown",
   "id": "8c00fdaa",
   "metadata": {},
   "source": [
    "### Exercise 2: Element-wise Operations\n",
    "\n",
    "You are implementing a machine learning algorithm and need to perform element-wise operations on arrays. Given two arrays of the same shape, calculate the element-wise sum, difference, and product."
   ]
  },
  {
   "cell_type": "code",
   "execution_count": 2,
   "id": "4e68003b",
   "metadata": {},
   "outputs": [
    {
     "name": "stdout",
     "output_type": "stream",
     "text": [
      "Sum:\n",
      "[[ 6  8]\n",
      " [10 12]]\n",
      "Difference:\n",
      "[[-4 -4]\n",
      " [-4 -4]]\n",
      "Product:\n",
      "[[ 5 12]\n",
      " [21 32]]\n"
     ]
    }
   ],
   "source": [
    "# TODO: Define two arrays A and B of the same shape\n",
    "A = np.array([[1, 2], [3, 4]])\n",
    "B = np.array([[5, 6], [7, 8]])\n",
    "\n",
    "# TODO: Calculate the matrix element-wise sum\n",
    "sum_matrix = A + B\n",
    "\n",
    "# TODO: Calculate the matrix element-wise difference\n",
    "diff_matrix = A - B\n",
    "\n",
    "# TODO: Calculate the matrix element-wise product\n",
    "prod_matrix = A * B\n",
    "\n",
    "print(\"Sum:\")\n",
    "print(sum_matrix)\n",
    "print(\"Difference:\")\n",
    "print(diff_matrix)\n",
    "print(\"Product:\")\n",
    "print(prod_matrix)"
   ]
  },
  {
   "cell_type": "markdown",
   "id": "73c63884",
   "metadata": {},
   "source": [
    "### Exercise 3: Array Slicing\n",
    "\n",
    "You have a dataset of images stored as a 3-dimensional array of shape (100, 64, 64). Extract a subset of images from the dataset by slicing along the first axis to create a new array of shape (10, 64, 64)."
   ]
  },
  {
   "cell_type": "code",
   "execution_count": 3,
   "id": "a2b5c328",
   "metadata": {},
   "outputs": [
    {
     "name": "stdout",
     "output_type": "stream",
     "text": [
      "Shape of subset images: (10, 64, 64)\n"
     ]
    }
   ],
   "source": [
    "# Generate random images\n",
    "image_width = 64\n",
    "image_height = 64\n",
    "num_images = 100\n",
    "random_images = np.random.randint(0, 256, size=(num_images, image_height, image_width), dtype=np.uint8)\n",
    "\n",
    "# TODO: Extract a subset of images from the dataset by slicing along the first axis to create a new array of shape (10, 64, 64)\n",
    "subset_images = random_images[:10]\n",
    "\n",
    "# Print the shape of the subset images\n",
    "print(\"Shape of subset images:\", subset_images.shape)"
   ]
  },
  {
   "cell_type": "markdown",
   "id": "f6eef950",
   "metadata": {},
   "source": [
    "## Performing basic mathematical and statistical operations using NumPy"
   ]
  },
  {
   "cell_type": "markdown",
   "id": "3960e63f",
   "metadata": {},
   "source": [
    "### Exercise 4: Array Statistics\n",
    "\n",
    "You are analyzing data from a survey and need to compute basic statistical measures. Given an array of survey responses, calculate the mean, median, and standard deviation."
   ]
  },
  {
   "cell_type": "code",
   "execution_count": 4,
   "id": "24b2b575",
   "metadata": {},
   "outputs": [
    {
     "name": "stdout",
     "output_type": "stream",
     "text": [
      "Mean: 3.6\n",
      "Median: 4.0\n",
      "Standard Deviation: 1.2806248474865698\n"
     ]
    }
   ],
   "source": [
    "# TODO: Define an array of survey responses\n",
    "survey_responses = np.array([3, 4, 5, 4, 2, 1, 5, 3, 4, 5])\n",
    "\n",
    "# TODO: Calculate the mean, median, and standard deviation\n",
    "mean = np.mean(survey_responses)\n",
    "median = np.median(survey_responses)\n",
    "std_dev = np.std(survey_responses)\n",
    "\n",
    "# Print the mean, median, and standard deviation\n",
    "print(\"Mean:\", mean)\n",
    "print(\"Median:\", median)\n",
    "print(\"Standard Deviation:\", std_dev)"
   ]
  },
  {
   "cell_type": "markdown",
   "id": "69d520bf",
   "metadata": {},
   "source": [
    "### Exercise 5: Matrix Operations\n",
    "\n",
    "You are working on a linear regression problem and need to perform matrix operations. Given two matrices A and B of appropriate dimensions, calculate the matrix product, matrix transpose, and matrix determinant."
   ]
  },
  {
   "cell_type": "code",
   "execution_count": 5,
   "id": "00e258ad",
   "metadata": {},
   "outputs": [
    {
     "name": "stdout",
     "output_type": "stream",
     "text": [
      "Matrix Product:\n",
      " [[ 30  24  18]\n",
      " [ 84  69  54]\n",
      " [138 114  90]]\n",
      "Matrix Transpose:\n",
      " [[1 4 7]\n",
      " [2 5 8]\n",
      " [3 6 9]]\n",
      "Matrix Determinant: -9.51619735392994e-16\n"
     ]
    }
   ],
   "source": [
    "import numpy as np\n",
    "\n",
    "# TODO: Define the matrices A and B\n",
    "A = np.array([[1, 2, 3],\n",
    "              [4, 5, 6],\n",
    "              [7, 8, 9]])\n",
    "\n",
    "B = np.array([[9, 8, 7],\n",
    "              [6, 5, 4],\n",
    "              [3, 2, 1]])\n",
    "\n",
    "# TODO: Calculate the matrix product\n",
    "product = np.dot(A, B) # or use @ operator\n",
    "\n",
    "# TODO: Calculate the matrix transpose\n",
    "transpose = A.T\n",
    "\n",
    "# TODO: Calculate the matrix determinant\n",
    "determinant = np.linalg.det(A)\n",
    "\n",
    "# Print the results\n",
    "print(\"Matrix Product:\\n\", product)\n",
    "print(\"Matrix Transpose:\\n\", transpose)\n",
    "print(\"Matrix Determinant:\", determinant)"
   ]
  },
  {
   "cell_type": "markdown",
   "id": "5da073b2",
   "metadata": {},
   "source": [
    "### Exercise 6: Random Sampling\n",
    "\n",
    "You are simulating a data collection process and need to generate random samples. Create a random sample of size 50 from a given array using NumPy's random sampling functions."
   ]
  },
  {
   "cell_type": "code",
   "execution_count": 6,
   "id": "22d58be7",
   "metadata": {},
   "outputs": [
    {
     "name": "stdout",
     "output_type": "stream",
     "text": [
      "Random Sample: [ 2  6  3  2  7  2  2  4  9  3  3  4  7  2  4  6  4  7  3  5  9  9  9  6\n",
      "  3  8  7  7  1  3  1 10 10  7  5  7  4  5  7  7  4  9  6  7  4  2  4  4\n",
      "  3  7]\n"
     ]
    }
   ],
   "source": [
    "# Defining an array\n",
    "arr = np.array([1, 2, 3, 4, 5, 6, 7, 8, 9, 10])\n",
    "\n",
    "# TODO: Create a random sample of size 50 from a given array using NumPy's random sampling functions\n",
    "random_sample = np.random.choice(arr, size=50)\n",
    "\n",
    "# Print the random sample\n",
    "print(\"Random Sample:\", random_sample)"
   ]
  },
  {
   "cell_type": "markdown",
   "id": "05c4c03c",
   "metadata": {},
   "source": [
    "## Exploring advanced operations with NumPy arrays"
   ]
  },
  {
   "cell_type": "markdown",
   "id": "3b9bc9f6",
   "metadata": {},
   "source": [
    "### Exercise 7: Array Broadcasting\n",
    "\n",
    "You are working on a neural network project and need to perform element-wise operations between arrays of different shapes. Use array broadcasting to add a 1-dimensional array of shape (3,) to a 2-dimensional array of shape (2, 3)."
   ]
  },
  {
   "cell_type": "code",
   "execution_count": 7,
   "id": "3cdf4cbf",
   "metadata": {},
   "outputs": [
    {
     "name": "stdout",
     "output_type": "stream",
     "text": [
      "Result:\n",
      " [[ 5  7  9]\n",
      " [ 8 10 12]]\n"
     ]
    }
   ],
   "source": [
    "# TODO: Define the 1-dimensional array\n",
    "arr1 = np.array([1, 2, 3])\n",
    "\n",
    "# TODO: Define the 2-dimensional array\n",
    "arr2 = np.array([[4, 5, 6], [7, 8, 9]])\n",
    "\n",
    "# TODO: Use array broadcasting to add the 1-dimensional array to the 2-dimensional array\n",
    "result = arr1 + arr2\n",
    "\n",
    "# Print the result\n",
    "print(\"Result:\\n\", result)"
   ]
  },
  {
   "cell_type": "markdown",
   "id": "fcb7aac3",
   "metadata": {},
   "source": [
    "### Exercise 8: Universal Functions (ufuncs)\n",
    "\n",
    "You are working on a signal processing task and need to apply a mathematical function element-wise to an array. Apply the exponential function to each element of a given array."
   ]
  },
  {
   "cell_type": "code",
   "execution_count": 8,
   "id": "a7f9f34e",
   "metadata": {},
   "outputs": [
    {
     "name": "stdout",
     "output_type": "stream",
     "text": [
      "Result: [ 1.00000000e+00  7.07106781e-01  6.12323400e-17 -7.07106781e-01\n",
      " -1.00000000e+00]\n"
     ]
    }
   ],
   "source": [
    "# TODO: Define the array\n",
    "arr = np.array([0, np.pi/4, np.pi/2, 3*np.pi/4, np.pi])\n",
    "\n",
    "# TODO: Apply the cosine function to each element of the array\n",
    "result = np.cos(arr)\n",
    "\n",
    "# Print the result\n",
    "print(\"Result:\", result)"
   ]
  },
  {
   "cell_type": "markdown",
   "id": "aca3d905",
   "metadata": {},
   "source": [
    "### Exercise 9: Indexing and Masking\n",
    "\n",
    "You have a dataset of student scores stored as a 2-dimensional array. Identify and extract the scores of students who scored above a certain threshold."
   ]
  },
  {
   "cell_type": "code",
   "execution_count": 9,
   "id": "01300ea3",
   "metadata": {},
   "outputs": [
    {
     "name": "stdout",
     "output_type": "stream",
     "text": [
      "Scores above the threshold: [82 90 88 92 85]\n"
     ]
    }
   ],
   "source": [
    "# TODO: Define the threshold\n",
    "threshold = 80\n",
    "\n",
    "# TODO: Generate an example 2-dimensional array of student scores\n",
    "scores = np.array([[75, 82, 90],\n",
    "                   [88, 65, 72],\n",
    "                   [92, 78, 85]])\n",
    "\n",
    "# TODO: Use boolean indexing to extract scores above the threshold\n",
    "above_threshold = scores[scores > threshold]\n",
    "\n",
    "# Print the scores above the threshold\n",
    "print(\"Scores above the threshold:\", above_threshold)"
   ]
  },
  {
   "cell_type": "markdown",
   "id": "96416362",
   "metadata": {},
   "source": [
    "## Broadcasting and vectorized operations"
   ]
  },
  {
   "cell_type": "markdown",
   "id": "8d365dd1",
   "metadata": {},
   "source": [
    "### Exercise 10: Array Reshaping\n",
    "\n",
    "You have a 1-dimensional array of size 12 and need to reshape it into a 2-dimensional array of shape (3, 4). Reshape the array accordingly."
   ]
  },
  {
   "cell_type": "code",
   "execution_count": 10,
   "id": "1f6265d5",
   "metadata": {},
   "outputs": [
    {
     "name": "stdout",
     "output_type": "stream",
     "text": [
      "Reshaped array:\n",
      "[[ 1  2  3  4]\n",
      " [ 5  6  7  8]\n",
      " [ 9 10 11 12]]\n"
     ]
    }
   ],
   "source": [
    "# TODO: Reshape the 1-dimensional array into a 2-dimensional array of shape (3, 4)\n",
    "array_1d = np.array([1, 2, 3, 4, 5, 6, 7, 8, 9, 10, 11, 12])\n",
    "array_2d = array_1d.reshape((3, 4))\n",
    "\n",
    "# Print the reshaped array\n",
    "print(\"Reshaped array:\")\n",
    "print(array_2d)"
   ]
  },
  {
   "cell_type": "markdown",
   "id": "a48385cd",
   "metadata": {},
   "source": [
    "### Exercise 11: Vectorized Functions\n",
    "\n",
    "You are working on an image processing task and need to apply a vectorized function to each pixel of an image. Apply a vectorized grayscale conversion function to a given RGB image."
   ]
  },
  {
   "cell_type": "code",
   "execution_count": 11,
   "id": "be4d2152",
   "metadata": {},
   "outputs": [
    {
     "name": "stdout",
     "output_type": "stream",
     "text": [
      "Grayscale image:\n",
      "[[201.9481 145.5224 156.9765 ...  76.5214  76.6208  44.1357]\n",
      " [ 59.1968  36.6311  85.9633 ... 172.3922  36.4789 156.6165]\n",
      " [ 52.4058  97.894  141.3725 ... 112.4501  99.6884 188.5847]\n",
      " ...\n",
      " [222.0502  83.9309  18.194  ... 105.4558 177.9141 152.9141]\n",
      " [127.2286 134.1173 130.1673 ...  55.7529  86.0802 131.1872]\n",
      " [ 68.8283 175.2872  56.6774 ... 122.5711 114.0728 170.1206]]\n"
     ]
    }
   ],
   "source": [
    "import numpy as np\n",
    "\n",
    "# TODO: Define the RGB image (example dimensions: height=32, width=32, channels=3)\n",
    "image = np.random.randint(0, 256, size=(32, 32, 3), dtype=np.uint8)\n",
    "\n",
    "# Define the relative luminance weights for the RGB channels, respectively, in the grayscale conversion formula\n",
    "grayscale_filter = np.array([0.2989, 0.5870, 0.1140])\n",
    "\n",
    "# TODO: Apply vectorized grayscale conversion using the np.dot() function with the image[..., :3] and grayscale_filter\n",
    "grayscale_image = np.dot(image[..., :3], grayscale_filter)\n",
    "\n",
    "# Print the grayscale image\n",
    "print(\"Grayscale image:\")\n",
    "print(grayscale_image)"
   ]
  },
  {
   "cell_type": "markdown",
   "id": "dbca12a5",
   "metadata": {},
   "source": [
    "### Exercise 12: Vectorized Arithmetic Operations\n",
    "\n",
    "You have two arrays representing sensor measurements and need to perform element-wise arithmetic operations. Perform addition, subtraction, multiplication, and division between the two arrays."
   ]
  },
  {
   "cell_type": "code",
   "execution_count": 12,
   "id": "8643ee3d",
   "metadata": {},
   "outputs": [
    {
     "name": "stdout",
     "output_type": "stream",
     "text": [
      "Addition: [ 6  8 10 12]\n",
      "Subtraction: [-4 -4 -4 -4]\n",
      "Multiplication: [ 5 12 21 32]\n",
      "Division: [0.2        0.33333333 0.42857143 0.5       ]\n"
     ]
    }
   ],
   "source": [
    "import numpy as np\n",
    "\n",
    "# TODO: Define two arrays, A and B, representing sensor measurements\n",
    "A = np.array([1, 2, 3, 4])\n",
    "B = np.array([5, 6, 7, 8])\n",
    "\n",
    "# TODO: Compute element-wise addition\n",
    "addition = A + B\n",
    "\n",
    "# TODO: Compute element-wise subtraction\n",
    "subtraction = A - B\n",
    "\n",
    "# TODO: Compute element-wise multiplication\n",
    "multiplication = A * B\n",
    "\n",
    "# TODO: Compute element-wise division\n",
    "division = A / B\n",
    "\n",
    "# TODO: Print the results\n",
    "print(\"Addition:\", addition)\n",
    "print(\"Subtraction:\", subtraction)\n",
    "print(\"Multiplication:\", multiplication)\n",
    "print(\"Division:\", division)"
   ]
  },
  {
   "cell_type": "markdown",
   "id": "241cea9b",
   "metadata": {},
   "source": [
    "## Array manipulation techniques"
   ]
  },
  {
   "cell_type": "markdown",
   "id": "c0a10d0c",
   "metadata": {},
   "source": [
    "### Exercise 13: Array Concatenation\n",
    "\n",
    "You have two arrays and need to concatenate them along a specified axis. Concatenate a 1-dimensional array of shape (4,) and a 2-dimensional array of shape (2, 4) along the row axis."
   ]
  },
  {
   "cell_type": "code",
   "execution_count": 13,
   "id": "bbca7df8",
   "metadata": {},
   "outputs": [
    {
     "name": "stdout",
     "output_type": "stream",
     "text": [
      "Concatenated array:\n",
      "[[ 1  2  3  4]\n",
      " [ 5  6  7  8]\n",
      " [ 9 10 11 12]]\n"
     ]
    }
   ],
   "source": [
    "import numpy as np\n",
    "\n",
    "# TODO: Define a 1-dimensional (4,) array and a 2-dimensional array (2, 4)\n",
    "arr1 = np.array([1, 2, 3, 4])\n",
    "arr2 = np.array([[5, 6, 7, 8], [9, 10, 11, 12]])\n",
    "\n",
    "# TODO: Concatenate along the column axis (axis=0)\n",
    "concatenated = np.vstack((arr1, arr2))\n",
    "\n",
    "# TODO: Print the result\n",
    "print(\"Concatenated array:\")\n",
    "print(concatenated)\n",
    "\n",
    "# The new dimensions are (3, 4)\n",
    "\n",
    "# TODO: Try to concatenate along the row axis (axis=0)\n",
    "# This will raise a ValueError because the shapes of the arrays don't match along the concatenation/stacking axis."
   ]
  },
  {
   "cell_type": "markdown",
   "id": "084f0905",
   "metadata": {},
   "source": [
    "### Exercise 14: Array Splitting\n",
    "\n",
    "You have an array and need to split it into multiple smaller arrays of equal size. Split a given 1-dimensional array of size 10 into two arrays of size 5."
   ]
  },
  {
   "cell_type": "code",
   "execution_count": 14,
   "id": "87aebc11",
   "metadata": {},
   "outputs": [
    {
     "name": "stdout",
     "output_type": "stream",
     "text": [
      "Split arrays: [array([0, 1, 2, 3, 4]), array([5, 6, 7, 8, 9])]\n"
     ]
    }
   ],
   "source": [
    "import numpy as np\n",
    "\n",
    "# TODO: Define a 1-dimensional array of size 10\n",
    "arr = np.arange(10)\n",
    "\n",
    "# TODO: Split the array into two arrays of size 5\n",
    "split_arrays = np.split(arr, 2)\n",
    "\n",
    "# TODO: Print the split arrays\n",
    "print(\"Split arrays:\", split_arrays)"
   ]
  },
  {
   "cell_type": "markdown",
   "id": "cc1c246e",
   "metadata": {},
   "source": [
    "### Exercise 15: Array Transposition\n",
    "\n",
    "You have a 2-dimensional array and need to transpose it, swapping the rows and columns. Transpose a given 2-dimensional array of shape (3, 4)."
   ]
  },
  {
   "cell_type": "code",
   "execution_count": 15,
   "id": "c3aff388",
   "metadata": {},
   "outputs": [
    {
     "name": "stdout",
     "output_type": "stream",
     "text": [
      "Original array:\n",
      "[[ 1  2  3  4]\n",
      " [ 5  6  7  8]\n",
      " [ 9 10 11 12]]\n",
      "\n",
      "Transposed array using .T method:\n",
      "[[ 1  5  9]\n",
      " [ 2  6 10]\n",
      " [ 3  7 11]\n",
      " [ 4  8 12]]\n",
      "\n",
      "Transposed array using .transpose() method:\n",
      "[[ 1  5  9]\n",
      " [ 2  6 10]\n",
      " [ 3  7 11]\n",
      " [ 4  8 12]]\n"
     ]
    }
   ],
   "source": [
    "# TODO: Define a 2-dimensional array of shape (3, 4)\n",
    "arr = np.array([[1, 2, 3, 4],\n",
    "                [5, 6, 7, 8],\n",
    "                [9, 10, 11, 12]])\n",
    "\n",
    "# TODO: Transpose the array using .T method\n",
    "transposed_T = arr.T\n",
    "\n",
    "# TODO: Transpose the array using .transpose() method\n",
    "transposed_transpose = arr.transpose()\n",
    "\n",
    "# Print the original array and the transposed arrays\n",
    "print(\"Original array:\")\n",
    "print(arr)\n",
    "print(\"\\nTransposed array using .T method:\")\n",
    "print(transposed_T)\n",
    "print(\"\\nTransposed array using .transpose() method:\")\n",
    "print(transposed_transpose)"
   ]
  },
  {
   "cell_type": "markdown",
   "id": "d5cacfdb",
   "metadata": {},
   "source": [
    "### Exercise 16: Array Transposition\n",
    "\n",
    "You have a 4-dimensional array and need to transpose it, swapping the last two dimensions or the middle two dimensions. Transpose a given 4-dimensional array of shape (2, 3, 4, 5) along the specified dimensions."
   ]
  },
  {
   "cell_type": "code",
   "execution_count": 16,
   "id": "54475160",
   "metadata": {},
   "outputs": [
    {
     "name": "stdout",
     "output_type": "stream",
     "text": [
      "Transposed array along the last two dimensions:\n",
      "[[[[8 8 6 8]\n",
      "   [0 6 5 7]\n",
      "   [7 6 9 3]\n",
      "   [0 4 1 6]\n",
      "   [1 2 1 4]]\n",
      "\n",
      "  [[1 1 2 1]\n",
      "   [7 9 9 5]\n",
      "   [8 8 0 5]\n",
      "   [2 9 9 9]\n",
      "   [2 8 6 3]]\n",
      "\n",
      "  [[7 3 3 9]\n",
      "   [1 2 0 6]\n",
      "   [3 6 7 9]\n",
      "   [5 3 7 5]\n",
      "   [4 4 2 2]]]\n",
      "\n",
      "\n",
      " [[[5 5 0 1]\n",
      "   [3 1 5 5]\n",
      "   [1 3 1 4]\n",
      "   [4 1 0 5]\n",
      "   [6 6 0 7]]\n",
      "\n",
      "  [[0 7 6 9]\n",
      "   [6 8 5 9]\n",
      "   [0 6 6 2]\n",
      "   [1 4 5 3]\n",
      "   [5 6 7 2]]\n",
      "\n",
      "  [[7 4 8 7]\n",
      "   [2 3 0 0]\n",
      "   [4 5 2 3]\n",
      "   [3 7 4 1]\n",
      "   [2 4 3 4]]]]\n",
      "\n",
      "Transposed array along the middle two dimensions:\n",
      "[[[[8 0 7 0 1]\n",
      "   [1 7 8 2 2]\n",
      "   [7 1 3 5 4]]\n",
      "\n",
      "  [[8 6 6 4 2]\n",
      "   [1 9 8 9 8]\n",
      "   [3 2 6 3 4]]\n",
      "\n",
      "  [[6 5 9 1 1]\n",
      "   [2 9 0 9 6]\n",
      "   [3 0 7 7 2]]\n",
      "\n",
      "  [[8 7 3 6 4]\n",
      "   [1 5 5 9 3]\n",
      "   [9 6 9 5 2]]]\n",
      "\n",
      "\n",
      " [[[5 3 1 4 6]\n",
      "   [0 6 0 1 5]\n",
      "   [7 2 4 3 2]]\n",
      "\n",
      "  [[5 1 3 1 6]\n",
      "   [7 8 6 4 6]\n",
      "   [4 3 5 7 4]]\n",
      "\n",
      "  [[0 5 1 0 0]\n",
      "   [6 5 6 5 7]\n",
      "   [8 0 2 4 3]]\n",
      "\n",
      "  [[1 5 4 5 7]\n",
      "   [9 9 2 3 2]\n",
      "   [7 0 3 1 4]]]]\n"
     ]
    }
   ],
   "source": [
    "# TODO: Define a 4-dimensional random array of shape (2, 3, 4, 5) using np.random.randint()\n",
    "arr = np.random.randint(0, 10, size=(2, 3, 4, 5))\n",
    "\n",
    "# TODO: Transpose the array along the last two dimensions\n",
    "transposed_last_two = np.transpose(arr, axes=(0, 1, 3, 2))\n",
    "\n",
    "# TODO: Print the transposed array along the last two dimensions\n",
    "print(\"Transposed array along the last two dimensions:\")\n",
    "print(transposed_last_two)\n",
    "\n",
    "# TODO: Transpose the array along the middle two dimensions\n",
    "transposed_middle_two = np.transpose(arr, axes=(0, 2, 1, 3))\n",
    "\n",
    "# TODO: Print the transposed array along the middle two dimensions\n",
    "print(\"\\nTransposed array along the middle two dimensions:\")\n",
    "print(transposed_middle_two)"
   ]
  },
  {
   "cell_type": "markdown",
   "id": "7a1eb9e8",
   "metadata": {},
   "source": [
    "## File I/O with NumPy"
   ]
  },
  {
   "cell_type": "markdown",
   "id": "32e29c37",
   "metadata": {},
   "source": [
    "### Exercise 17: Writing to CSV\n",
    "\n",
    "You have a NumPy array and need to save it as a CSV file. Save a given NumPy array to a CSV file."
   ]
  },
  {
   "cell_type": "code",
   "execution_count": 17,
   "id": "6ebd49bc",
   "metadata": {},
   "outputs": [
    {
     "name": "stdout",
     "output_type": "stream",
     "text": [
      "CSV file saved successfully!\n"
     ]
    }
   ],
   "source": [
    "# Given a NumPy array of data\n",
    "data = np.array([[1, 2, 3], [4, 5, 6], [7, 8, 9]])\n",
    "\n",
    "# Given CSV file path\n",
    "csv_file_path = 'data.csv'\n",
    "\n",
    "# TODO: Save the NumPy array to a CSV file using np.savetxt()\n",
    "np.savetxt(csv_file_path, data, delimiter=',')\n",
    "\n",
    "print(\"CSV file saved successfully!\")"
   ]
  },
  {
   "cell_type": "markdown",
   "id": "0db97018",
   "metadata": {},
   "source": [
    "### Exercise 18: Reading from CSV\n",
    "\n",
    "You have a CSV file containing a dataset and need to read it into a NumPy array. Read the contents of a given CSV file into a NumPy array."
   ]
  },
  {
   "cell_type": "code",
   "execution_count": 18,
   "id": "ad5ad11f",
   "metadata": {},
   "outputs": [
    {
     "name": "stdout",
     "output_type": "stream",
     "text": [
      "[[1. 2. 3.]\n",
      " [4. 5. 6.]\n",
      " [7. 8. 9.]]\n"
     ]
    }
   ],
   "source": [
    "# Given CSV file path\n",
    "csv_file_path = 'data.csv'\n",
    "\n",
    "# TODO: Read the CSV file into a NumPy array using np.loadtxt()\n",
    "data = np.loadtxt(csv_file_path, delimiter=',')\n",
    "\n",
    "# Print the data array\n",
    "print(data)"
   ]
  },
  {
   "cell_type": "markdown",
   "id": "4a624d9c",
   "metadata": {},
   "source": [
    "### Exercise 19: Loading and Saving NumPy Arrays using .npy files\n",
    "\n",
    "You have a NumPy array and need to save it to a .npy file and then load it back into memory."
   ]
  },
  {
   "cell_type": "code",
   "execution_count": 19,
   "id": "be52103c",
   "metadata": {},
   "outputs": [
    {
     "name": "stdout",
     "output_type": "stream",
     "text": [
      "Original data: [1 2 3 4 5]\n",
      "Loaded data: [1 2 3 4 5]\n"
     ]
    }
   ],
   "source": [
    "# Given NumPy array\n",
    "data = np.array([1, 2, 3, 4, 5])\n",
    "\n",
    "# Given .npy file path\n",
    "npy_file = 'output.npy'\n",
    "\n",
    "# TODO: Save the NumPy array to a .npy file using np.save()\n",
    "np.save(npy_file, data)\n",
    "\n",
    "# TODO: Load the .npy file back into memory using np.load()\n",
    "loaded_data = np.load(npy_file)\n",
    "\n",
    "# Print the original data and the loaded data\n",
    "print(\"Original data:\", data)\n",
    "print(\"Loaded data:\", loaded_data)"
   ]
  }
 ],
 "metadata": {
  "kernelspec": {
   "display_name": "Python 3 (ipykernel)",
   "language": "python",
   "name": "python3"
  },
  "language_info": {
   "codemirror_mode": {
    "name": "ipython",
    "version": 3
   },
   "file_extension": ".py",
   "mimetype": "text/x-python",
   "name": "python",
   "nbconvert_exporter": "python",
   "pygments_lexer": "ipython3",
   "version": "3.10.9"
  }
 },
 "nbformat": 4,
 "nbformat_minor": 5
}
