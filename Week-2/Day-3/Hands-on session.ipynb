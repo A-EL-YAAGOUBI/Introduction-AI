{
 "cells": [
  {
   "cell_type": "markdown",
   "id": "cfe06f03",
   "metadata": {},
   "source": [
    "## Handling missing data and imputation techniques"
   ]
  },
  {
   "cell_type": "markdown",
   "id": "53d0eaf1",
   "metadata": {},
   "source": [
    "### Exercise 1: Handling Missing Data - Dropping Rows\n",
    "\n",
    "You are working on a machine learning project where you have collected data about customers, including their age, income, and purchase behavior. However, some rows have missing values for the purchase behavior column. Your task is to handle the missing data by dropping the rows with missing purchase behavior values."
   ]
  },
  {
   "cell_type": "code",
   "execution_count": null,
   "id": "2796f695",
   "metadata": {},
   "outputs": [],
   "source": [
    "import pandas as pd\n",
    "\n",
    "# Define the DataFrame\n",
    "df = pd.DataFrame({\n",
    "    'Age': [32, 28, 45, 35],\n",
    "    'Income': [50000, 60000, 75000, 80000],\n",
    "    'Purchase': [1, None, 0, None]\n",
    "})\n",
    "\n",
    "# TODO: Drop rows with missing purchase feature values. Use the dropna() method\n",
    "\n",
    "# Display the updated DataFrame\n",
    "print(df)\n",
    "\n",
    "# What are the advantages and limitations of such approach?"
   ]
  },
  {
   "cell_type": "markdown",
   "id": "8c00fdaa",
   "metadata": {},
   "source": [
    "### Exercise 2: Handling Missing Data - Imputing with Mean Value\n",
    "\n",
    "You are analyzing a dataset of student performance in various subjects. However, some scores are missing, represented as `NaN`. Your task is to handle the missing data by imputing the missing scores with the mean score of the available scores for each subject."
   ]
  },
  {
   "cell_type": "code",
   "execution_count": null,
   "id": "4e68003b",
   "metadata": {},
   "outputs": [],
   "source": [
    "import pandas as pd\n",
    "import numpy as np\n",
    "\n",
    "# Define the DataFrame\n",
    "df = pd.DataFrame({\n",
    "    'Subject': ['Math', 'Science', 'English', 'Math', 'History']*6,\n",
    "    'Score': [80, 90, np.nan, 70, np.nan, 95]*5\n",
    "})\n",
    "\n",
    "# TODO: Calculate the mean score for each subject\n",
    "\n",
    "# TODO: Impute missing scores with the mean score for each subject. Use the transform() method and a lambda expression\n",
    "\n",
    "# Display the updated DataFrame\n",
    "print(df)\n",
    "\n",
    "# What are the advantages and limitations of such approach?"
   ]
  },
  {
   "cell_type": "markdown",
   "id": "3acb29d4",
   "metadata": {},
   "source": [
    "## Merging DataFrames"
   ]
  },
  {
   "cell_type": "markdown",
   "id": "73c63884",
   "metadata": {},
   "source": [
    "### Exercise 3: Merging options\n",
    "\n",
    "In this exercise, you will work with two DataFrames containing information about authors and their citation counts. Your task is to merge the DataFrames based on the \"Author\" column and explore different merge types (left, right, inner, and outer) to understand the relationship between authors and their citation counts."
   ]
  },
  {
   "cell_type": "code",
   "execution_count": null,
   "id": "a2b5c328",
   "metadata": {},
   "outputs": [],
   "source": [
    "# Define the first DataFrame with paper titles and authors' names\n",
    "df1 = pd.DataFrame({\n",
    "    'Paper Title': ['AI in Healthcare', 'Machine Learning Algorithms', 'Natural Language Processing'],\n",
    "    'Author': ['Youssef Saeed', 'Fatima Ali', 'Ahmed Hassan']\n",
    "})\n",
    "\n",
    "# Define the second DataFrame with paper titles and citation counts\n",
    "df2 = pd.DataFrame({\n",
    "    'Paper Title': ['AI in Healthcare', 'Machine Learning Algorithms', 'Deep Learning for Image Recognition'],\n",
    "    'Citations': [50, 100, 75]\n",
    "})\n",
    "\n",
    "# TODO: Perform left merge. Use merge() method\n",
    "\n",
    "# Print result\n",
    "print(\"\\nLeft Merge:\")\n",
    "print(left_merge)\n",
    "\n",
    "# TODO: Perform right merge. Use merge() method\n",
    "\n",
    "# Print result\n",
    "print(\"\\nRight Merge:\")\n",
    "print(right_merge)\n",
    "\n",
    "# TODO: Perform inner merge. Use merge() method\n",
    "\n",
    "# Print result\n",
    "print(\"\\nInner Merge:\")\n",
    "print(inner_merge)\n",
    "\n",
    "# TODO: Perform outer merge. Use merge() method\n",
    "\n",
    "# Print result\n",
    "print(\"\\nOuter Merge:\")\n",
    "print(outer_merge)"
   ]
  },
  {
   "cell_type": "markdown",
   "id": "5528b7ba",
   "metadata": {},
   "source": [
    "## Concatenating DataFrames"
   ]
  },
  {
   "cell_type": "markdown",
   "id": "3960e63f",
   "metadata": {},
   "source": [
    "### Exercise 4: Concatenate DataFrames horizontally and vertically\n",
    "\n",
    "You have two DataFrames containing information about authors and their publications in the field of artificial intelligence. Your task is to concatenate these DataFrames horizontally and vertically to combine the data. Display the concatenated DataFrame."
   ]
  },
  {
   "cell_type": "code",
   "execution_count": null,
   "id": "24b2b575",
   "metadata": {},
   "outputs": [],
   "source": [
    "# Define AI-papers data\n",
    "df_papers_1 = pd.DataFrame({\n",
    "    'Author': ['Saud Al-Mutairi', 'Aisha Al-Harbi', 'Fahad Al-Dosari'],\n",
    "    'Publication': ['AI Review', 'AI Journal', 'AI Insights']\n",
    "})\n",
    "\n",
    "# Define additional AI-papers data\n",
    "df_papers_2 = pd.DataFrame({\n",
    "    'Author': ['Nora Al-Subai', 'Abdulaziz Al-Sulaiman', 'Hala Al-Mutlaq'],\n",
    "    'Publication': ['AI Trends', 'AI Today', 'AI Innovations']\n",
    "})\n",
    "\n",
    "# TODO: Concatenate horizontally. Use concat() method\n",
    "\n",
    "# TODO: Concatenate vertically. Use concat() method\n",
    "\n",
    "# TODO: Display the concatenated DataFrames"
   ]
  },
  {
   "cell_type": "markdown",
   "id": "0a91cf6f",
   "metadata": {},
   "source": [
    "## Reshaping and Transforming Data"
   ]
  },
  {
   "cell_type": "markdown",
   "id": "69d520bf",
   "metadata": {},
   "source": [
    "### Exercise 5: More practice with Pandas\n",
    "\n",
    "You are given a DataFrame containing sales data for an AI company. The DataFrame has the following columns: \"Month\", \"Product\", \"Region\", \"Revenue\".\n",
    "\n",
    "Your task is to perform the following operations:\n",
    "\n",
    "- Pivot the DataFrame to transform it into a wide format, where each unique product becomes a separate column, and the revenue values are filled in the corresponding cells.\n",
    "- Group the data by region and calculate the total revenue for each region.\n",
    "- Normalize the revenue values by dividing them by the maximum revenue in each region.\n",
    "- Create a new column called \"Quarter\" by extracting the quarter information from the \"Month\" column.\n",
    "- Sort the DataFrame by region in ascending order and then by quarter in descending order."
   ]
  },
  {
   "cell_type": "code",
   "execution_count": null,
   "id": "00e258ad",
   "metadata": {},
   "outputs": [],
   "source": [
    "df = pd.DataFrame({\n",
    "    \"Month\": [\"Jan\", \"Jan\", \"Feb\", \"Feb\", \"Mar\", \"Mar\"],\n",
    "    \"Product\": [\"Product A\", \"Product B\", \"Product A\", \"Product B\", \"Product A\", \"Product B\"],\n",
    "    \"Region\": [\"North\", \"South\", \"North\", \"South\", \"North\", \"South\"],\n",
    "    \"Revenue\": [1000, 1500, 1200, 1800, 900, 1350]\n",
    "})\n",
    "\n",
    "# TODO: Pivot the DataFrame to transform it into a wide format. Use index=\"Region\", columns=\"Month\", and values=\"Revenue\"\n",
    "\n",
    "# TODO: Group the data by region and calculate the total revenue\n",
    "\n",
    "# TODO: Normalize the revenue values\n",
    "\n",
    "# TODO: Extract the quarter information from the \"Month\" column\n",
    "\n",
    "# TODO: Sort the DataFrame by region and quarter\n",
    "\n",
    "# Print the results and observe the differences"
   ]
  }
 ],
 "metadata": {
  "kernelspec": {
   "display_name": "Python 3 (ipykernel)",
   "language": "python",
   "name": "python3"
  },
  "language_info": {
   "codemirror_mode": {
    "name": "ipython",
    "version": 3
   },
   "file_extension": ".py",
   "mimetype": "text/x-python",
   "name": "python",
   "nbconvert_exporter": "python",
   "pygments_lexer": "ipython3",
   "version": "3.10.9"
  }
 },
 "nbformat": 4,
 "nbformat_minor": 5
}
