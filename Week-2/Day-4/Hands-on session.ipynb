{
 "cells": [
  {
   "cell_type": "markdown",
   "id": "fdcab497",
   "metadata": {},
   "source": [
    "### Exercise 1: Basic plot\n",
    "\n",
    "Create a basic plot using Matplotlib to visualize a list of numbers"
   ]
  },
  {
   "cell_type": "code",
   "execution_count": null,
   "id": "848cc925",
   "metadata": {},
   "outputs": [],
   "source": [
    "import numpy as np\n",
    "\n",
    "# TODO: Import pyplot as plt from the matplotlib library\n",
    "\n",
    "# Define the data\n",
    "numbers = np.array([2, 4, 7, 5, 9, 8, 6, 3, 5, 2])\n",
    "\n",
    "# TODO: Create a figure and plot the numbers\n",
    "\n",
    "# TODO: Add labels and title to the plot\n",
    "\n",
    "# TODO: Display the plot"
   ]
  },
  {
   "cell_type": "markdown",
   "id": "ba154c9c",
   "metadata": {},
   "source": [
    "### Exercise 2: Plotting two functions in the same plot\n",
    "\n",
    "In this exercise, you will create a figure using Matplotlib and plot two mathematical functions on the same graph. You will apply basic styling to the plot, including adding a title, axis labels, and setting limits for the x and y axes. Additionally, you will explore customizing the style of the plot using different colors, line styles, and markers."
   ]
  },
  {
   "cell_type": "code",
   "execution_count": null,
   "id": "1e0c19bc",
   "metadata": {},
   "outputs": [],
   "source": [
    "import numpy as np\n",
    "# TODO: Import pyplot as plt from the matplotlib library\n",
    "\n",
    "# Define the functions of interest (feel free to modify these)\n",
    "def f(x):return - x ** 3 / 30\n",
    "def g(x):return np.sin(x)\n",
    "\n",
    "# TODO: Define a linspace from -3 to 3, with 20 points\n",
    "\n",
    "# TODO: Calculate the corresponding y values for each function\n",
    "\n",
    "# TODO: Create a new figure. Set size to 10 by 3\n",
    "\n",
    "# TODO: Plot the functions f(x) and g(x) with basic style. Use label param to add a label.\n",
    "\n",
    "# TODO: Set some limits for the x and y axes\n",
    "\n",
    "# TODO: Add a title to the plot\n",
    "\n",
    "# TODO: Add labels for the x and y axes\n",
    "\n",
    "# TODO: Customize the style of the plot. Try different colors, linestyles, and markers\n",
    "\n",
    "# TODO: Display the plot"
   ]
  },
  {
   "cell_type": "markdown",
   "id": "9281fce6",
   "metadata": {},
   "source": [
    "### Exercise 3: Creating a Scatter Plot\n",
    "\n",
    "Create an artificial dataset with two distinct clusters and visualize it using a scatter plot. Assign different markers and colors to distinguish between the two classes."
   ]
  },
  {
   "cell_type": "code",
   "execution_count": null,
   "id": "54809e45",
   "metadata": {},
   "outputs": [],
   "source": [
    "# Define the 2D points for two classes\n",
    "class1_points = np.array([[2, 3], [3, 2], [4, 3], [3, 4], [2.5, 2.5]])\n",
    "class2_points = np.array([[8, 7], [9, 6], [10, 8], [9, 9], [8.5, 7.5]])\n",
    "\n",
    "# Define the labels for each class\n",
    "class1_labels = np.zeros(len(class1_points))  # Class 1 labeled as 0\n",
    "class2_labels = np.ones(len(class2_points))   # Class 2 labeled as 1\n",
    "\n",
    "# Combine the points and labels together\n",
    "points = np.vstack((class1_points, class2_points))\n",
    "labels = np.concatenate((class1_labels, class2_labels))\n",
    "\n",
    "# TODO: Define different markers and colors for each class: ['o', 's'], ['blue', 'red']\n",
    "\n",
    "for label in [0, 1]:\n",
    "    # TODO: Make scatter plot of the points corresponding to labels == label with appropriate marker and color\n",
    "\n",
    "# TODO: Set x limits and y limits\n",
    "\n",
    "# TODO: Set x ticks and y ticks\n",
    "\n",
    "# TODO: Set labels for the axes\n",
    "\n",
    "# TODO: Set a title for the plot\n",
    "\n",
    "# Display the plot\n",
    "plt.show()\n"
   ]
  },
  {
   "cell_type": "markdown",
   "id": "033744f2",
   "metadata": {},
   "source": [
    "### Exercise 4: Exploratory Data Analysis with Histogram\n",
    "\n",
    "Perform exploratory data analysis by creating a histogram with various customization options and informative details."
   ]
  },
  {
   "cell_type": "code",
   "execution_count": null,
   "id": "5724b613",
   "metadata": {},
   "outputs": [],
   "source": [
    "# Generate artificial data for demonstration\n",
    "# What is this np.random.seed(0) used for?\n",
    "np.random.seed(0)\n",
    "\n",
    "# You can try different distributions such as uniform, gamma, exponential etc.\n",
    "# What are the parameters (50, 10, 1000) standing for? \n",
    "data = np.random.normal(50, 10, 1000)\n",
    "\n",
    "# TODO: Set the desired number of bins and range for the histogram\n",
    "num_bins = # TODO\n",
    "range_min = # TODO\n",
    "range_max = # TODO\n",
    "\n",
    "# TODO: Customize the appearance of the histogram\n",
    "alpha = 0.7\n",
    "edge_width = 1.5\n",
    "edge_color = 'black'\n",
    "color = 'skyblue'\n",
    "\n",
    "# TODO: Create the histogram with the parameters above\n",
    "\n",
    "# TODO: Add informative details\n",
    "title = 'Histogram of the data'\n",
    "x_label = 'data'\n",
    "y_label = 'Frequency or counts'\n",
    "\n",
    "# TODO: Set additional plot details\n",
    "\n",
    "# Show the plot\n",
    "plt.show()"
   ]
  }
 ],
 "metadata": {
  "kernelspec": {
   "display_name": "Python 3 (ipykernel)",
   "language": "python",
   "name": "python3"
  },
  "language_info": {
   "codemirror_mode": {
    "name": "ipython",
    "version": 3
   },
   "file_extension": ".py",
   "mimetype": "text/x-python",
   "name": "python",
   "nbconvert_exporter": "python",
   "pygments_lexer": "ipython3",
   "version": "3.10.9"
  }
 },
 "nbformat": 4,
 "nbformat_minor": 5
}
