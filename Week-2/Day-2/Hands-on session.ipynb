{
 "cells": [
  {
   "cell_type": "markdown",
   "id": "667ad415",
   "metadata": {},
   "source": [
    "##  Series and DataFrame: Understand the fundamental data structures in Pandas"
   ]
  },
  {
   "cell_type": "markdown",
   "id": "53d0eaf1",
   "metadata": {},
   "source": [
    "### Exercise 1: Series\n",
    "\n",
    "Create a Pandas Series to represent the accuracy scores of a machine learning model for different iterations. Find the maximum and minimum accuracy scores."
   ]
  },
  {
   "cell_type": "code",
   "execution_count": null,
   "id": "2796f695",
   "metadata": {},
   "outputs": [],
   "source": [
    "import pandas as pd\n",
    "\n",
    "# Data represents accuracy scores\n",
    "data = [0.82, 0.76, 0.89, 0.93, 0.81]\n",
    "\n",
    "# TODO: Create a Series to represent accuracy scores from data\n",
    "\n",
    "# TODO: Find the maximum accuracy score\n",
    "\n",
    "# TODO: Find the minimum accuracy score\n",
    "\n",
    "# Print the maximum and minimum accuracy scores\n",
    "print(\"Maximum Accuracy:\", max_accuracy)\n",
    "print(\"Minimum Accuracy:\", min_accuracy)"
   ]
  },
  {
   "cell_type": "markdown",
   "id": "8c00fdaa",
   "metadata": {},
   "source": [
    "### Exercise 2: DataFrame\n",
    "\n",
    "Create a Pandas DataFrame to store information about the performance metrics (precision, recall, and F1-score) of a classification model for different classes. Calculate the average precision across all classes."
   ]
  },
  {
   "cell_type": "code",
   "execution_count": null,
   "id": "4e68003b",
   "metadata": {},
   "outputs": [],
   "source": [
    "# The data represents performance metrics\n",
    "data = {'Class': ['Class A', 'Class B', 'Class C'],\n",
    "        'Precision': [0.82, 0.76, 0.89],\n",
    "        'Recall': [0.72, 0.84, 0.91],\n",
    "        'F1-score': [0.76, 0.80, 0.87]}\n",
    "\n",
    "# TODO: Create a DataFrame to represent performance metrics\n",
    "\n",
    "# TODO: Calculate the average precision across all classes using the .groupby() and .mean() methods\n",
    "\n",
    "# Print the average precision\n",
    "print(\"Average Precision:\", average_precision)"
   ]
  },
  {
   "cell_type": "markdown",
   "id": "7d918659",
   "metadata": {},
   "source": [
    "### Exercise 3: DataFrame\n",
    "\n",
    "Create a Pandas DataFrame to represent the sales data of different products for different regions. Calculate the total sales for each region and find the region with the highest total sales."
   ]
  },
  {
   "cell_type": "code",
   "execution_count": null,
   "id": "0b99f0b9",
   "metadata": {},
   "outputs": [],
   "source": [
    "# The data represents some sales information\n",
    "data = {'Region': ['Region A', 'Region B', 'Region C', 'Region A', 'Region C'],\n",
    "        'Product': ['Product 1', 'Product 2', 'Product 1', 'Product 2', 'Product 3'],\n",
    "        'Sales': [100, 200, 150, 120, 180]}\n",
    "\n",
    "# TODO: Create a DataFrame to represent sales data\n",
    "\n",
    "# TODO: Calculate the total sales for each region by using the .groupby() and .sum() methods\n",
    "\n",
    "# TODO: Find the region with the highest total sales using .idmax() method\n",
    "\n",
    "# Print the total sales for each region and the region with the highest sales\n",
    "print(\"Total Sales by Region:\")\n",
    "print(total_sales)\n",
    "print(\"Region with Highest Sales:\", highest_sales_region)"
   ]
  },
  {
   "cell_type": "markdown",
   "id": "c0455366",
   "metadata": {},
   "source": [
    "### Exercise 4: Exploring Data\n",
    "\n",
    "Given a synthetic DataFrame `data`, explore the data by displaying the first few rows, summary statistics, and column information."
   ]
  },
  {
   "cell_type": "code",
   "execution_count": null,
   "id": "207b13cc",
   "metadata": {},
   "outputs": [],
   "source": [
    "# Synthetic DataFrame\n",
    "data = pd.DataFrame({\n",
    "    'Feature1': [5, 7, 6, 3, 1, 2, 8, 6, 7, 5, 5, 8, 1, 2, 3, 4, 5, 9, 1, 3],\n",
    "    'Feature2': ['E', 'A', 'C', 'G', 'K', 'E', 'A', 'E', 'G', 'L', 'E', 'A', 'D', 'G', 'K', 'F', 'A', 'D', 'E', 'K'],\n",
    "    'Feature3': [True, False, True, True, False, True, False, True, False, True, False, True, True, False, True, True, False, True, False, True]\n",
    "})\n",
    "\n",
    "# TODO: Display the first few rows of the data. Use the head() method\n",
    "\n",
    "# TODO: Display the 11th and 12th rows of the data \n",
    "\n",
    "# TODO: Display summary statistics of the data. Use the describe() method\n",
    "\n",
    "# TODO: Display column information. Use the info() method"
   ]
  },
  {
   "cell_type": "markdown",
   "id": "f1411931",
   "metadata": {},
   "source": [
    "### Exercise 5: Sorting Data\n",
    "\n",
    "Given a synthetic DataFrame `data`, sort the data based on a specific column in ascending order."
   ]
  },
  {
   "cell_type": "code",
   "execution_count": null,
   "id": "3b647d01",
   "metadata": {},
   "outputs": [],
   "source": [
    "# TODO: Sort the data based on 'Feature1' column in ascending order. Use the sort_values() method\n",
    "\n",
    "# TODO: Sort the data based on 'Feature2' column in descending order. Use the sort_values() method\n",
    "\n",
    "# Display the sorted data\n",
    "print(\"Sorted Data:\")\n",
    "print(sorted_data)"
   ]
  },
  {
   "cell_type": "markdown",
   "id": "46f92514",
   "metadata": {},
   "source": [
    "## Data Manipulation: Learn how to manipulate and transform data using Pandas functions"
   ]
  },
  {
   "cell_type": "markdown",
   "id": "73c63884",
   "metadata": {},
   "source": [
    "### Exercise 6: Filtering data\n",
    "\n",
    "Create a synthetic DataFrame `research_data` containing information about AI research articles. Filter the data to select articles published in a specific year."
   ]
  },
  {
   "cell_type": "code",
   "execution_count": null,
   "id": "a2b5c328",
   "metadata": {},
   "outputs": [],
   "source": [
    "# Synthetic DataFrame with AI research data\n",
    "research_data = pd.DataFrame({\n",
    "    'Title': ['AI in Healthcare', 'Deep Learning Techniques', 'Natural Language Processing', 'Computer Vision', 'Robots Taking Over the World', 'The Quantum Computing Revolution'],\n",
    "    'Year': [2020, 2021, 2019, 2022, 2018, 2023],\n",
    "    'Authors': ['Ahmed Al-Farabi', 'Fatima Khalid', 'Mohammed Ali', 'Noura Abdullah', 'Abdul Rahman', 'Sara Ahmed']\n",
    "})\n",
    "\n",
    "# TODO: Filter the data to select articles published before 2021\n",
    "\n",
    "# TODO: Filter the data to select articles published by 'Mohammed Ali'\n",
    "\n",
    "# Print the filtered data"
   ]
  },
  {
   "cell_type": "markdown",
   "id": "3960e63f",
   "metadata": {},
   "source": [
    "### Exercise 7: Transforming AI Survey Data\n",
    "\n",
    "Create a synthetic DataFrame `survey_data` containing survey responses on AI adoption. Calculate the average rating for each AI application category and create a new DataFrame to store the calculated values."
   ]
  },
  {
   "cell_type": "code",
   "execution_count": null,
   "id": "24b2b575",
   "metadata": {},
   "outputs": [],
   "source": [
    "# Synthetic DataFrame with AI survey data\n",
    "survey_data = pd.DataFrame({\n",
    "    'AI Application': ['Image Recognition', \n",
    "                       'Natural Language Processing', \n",
    "                       'Speech Recognition', \n",
    "                       'Autonomous Vehicles', \n",
    "                       'Recommendation Systems', \n",
    "                       'Virtual Assistants'],\n",
    "    'Rating': [4.2, 3.8, 4.5, 4.1, 4.3, 3.9]\n",
    "})\n",
    "\n",
    "\n",
    "# TODO: Calculate the average rating for each AI application category. Use the .groupby() and .mean() methods\n",
    "\n",
    "# TODO: Create a new DataFrame to store the calculated average ratings. Use .index and .values attributes"
   ]
  },
  {
   "cell_type": "markdown",
   "id": "99441c5a",
   "metadata": {},
   "source": [
    "### Exercise 8: Aggregating AI Sales Data\n",
    "\n",
    "Create a synthetic DataFrame `sales_data` containing information about AI product sales. Calculate the total sales amount for each product category and display the results."
   ]
  },
  {
   "cell_type": "code",
   "execution_count": null,
   "id": "731b493b",
   "metadata": {},
   "outputs": [],
   "source": [
    "# Synthetic DataFrame with AI sales data\n",
    "sales_data = pd.DataFrame({\n",
    "    'Product Category': ['Hardware', 'Software', 'Services', 'Hardware', 'Software'] * 200,\n",
    "    'Sales Amount': [2500, 2100, 3900, 200, 2300] * 200\n",
    "})\n",
    "\n",
    "# TODO: Calculate the total sales amount for each product category\n",
    "\n",
    "# TODO: Calculate the average sales amount for each product category\n",
    "\n",
    "# Print the sales totals\n",
    "print(sales_totals)"
   ]
  },
  {
   "cell_type": "markdown",
   "id": "8a587ab9",
   "metadata": {},
   "source": [
    "## Data Input and Output: Learn how to read/write data from/to different file formats"
   ]
  },
  {
   "cell_type": "markdown",
   "id": "69d520bf",
   "metadata": {},
   "source": [
    "### Exercise 9: Writing Data to CSV File\n",
    "\n",
    "Create a synthetic DataFrame `predictions` with IDs and boolean labels, and write it to a CSV file named \"predictions.csv\" using the default approach and with index column."
   ]
  },
  {
   "cell_type": "code",
   "execution_count": null,
   "id": "00e258ad",
   "metadata": {},
   "outputs": [],
   "source": [
    "# Synthetic DataFrame with predictions\n",
    "predictions = pd.DataFrame({\n",
    "    'ID': [1, 2, 3, 4, 5],\n",
    "    'Label': [True, False, True, True, False]\n",
    "})\n",
    "\n",
    "# TODO: Write the predictions to a CSV file (default approach)\n",
    "\n",
    "# TODO: Write the predictions to a CSV file (including index)\n",
    "\n",
    "# Open saved files in Excel, what difference do you see?"
   ]
  },
  {
   "cell_type": "markdown",
   "id": "d1025e8e",
   "metadata": {},
   "source": [
    "### Exercise 10: Writing and Reading Data from JSON File\n",
    "\n",
    "Using the synthetic DataFrame `predictions` with IDs and boolean labels, save the data to a JSON file named \"predictions.json\", and then load the same data from the JSON file."
   ]
  },
  {
   "cell_type": "code",
   "execution_count": null,
   "id": "22d58be7",
   "metadata": {},
   "outputs": [],
   "source": [
    "# TODO: Save the predictions to a JSON file\n",
    "\n",
    "# TODO: Load the data from the JSON file\n",
    "\n",
    "# Display the data\n",
    "print(data)"
   ]
  }
 ],
 "metadata": {
  "kernelspec": {
   "display_name": "Python 3 (ipykernel)",
   "language": "python",
   "name": "python3"
  },
  "language_info": {
   "codemirror_mode": {
    "name": "ipython",
    "version": 3
   },
   "file_extension": ".py",
   "mimetype": "text/x-python",
   "name": "python",
   "nbconvert_exporter": "python",
   "pygments_lexer": "ipython3",
   "version": "3.10.9"
  }
 },
 "nbformat": 4,
 "nbformat_minor": 5
}
