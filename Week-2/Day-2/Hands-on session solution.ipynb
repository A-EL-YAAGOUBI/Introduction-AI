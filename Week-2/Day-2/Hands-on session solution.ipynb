{
 "cells": [
  {
   "cell_type": "markdown",
   "id": "667ad415",
   "metadata": {},
   "source": [
    "##  Series and DataFrame: Understand the fundamental data structures in Pandas"
   ]
  },
  {
   "cell_type": "markdown",
   "id": "53d0eaf1",
   "metadata": {},
   "source": [
    "### Exercise 1: Series\n",
    "\n",
    "Create a Pandas Series to represent the accuracy scores of a machine learning model for different iterations. Find the maximum and minimum accuracy scores."
   ]
  },
  {
   "cell_type": "code",
   "execution_count": 1,
   "id": "2796f695",
   "metadata": {},
   "outputs": [
    {
     "name": "stdout",
     "output_type": "stream",
     "text": [
      "Maximum Accuracy: 0.93\n",
      "Minimum Accuracy: 0.76\n"
     ]
    }
   ],
   "source": [
    "import pandas as pd\n",
    "\n",
    "# Data represents accuracy scores\n",
    "data = [0.82, 0.76, 0.89, 0.93, 0.81]\n",
    "\n",
    "# TODO: Create a Series to represent accuracy scores from data\n",
    "accuracy_scores = pd.Series(data)\n",
    "\n",
    "# TODO: Find the maximum accuracy score\n",
    "max_accuracy = accuracy_scores.max()\n",
    "\n",
    "# TODO: Find the minimum accuracy score\n",
    "min_accuracy = accuracy_scores.min()\n",
    "\n",
    "# Print the maximum and minimum accuracy scores\n",
    "print(\"Maximum Accuracy:\", max_accuracy)\n",
    "print(\"Minimum Accuracy:\", min_accuracy)"
   ]
  },
  {
   "cell_type": "markdown",
   "id": "8c00fdaa",
   "metadata": {},
   "source": [
    "### Exercise 2: DataFrame\n",
    "\n",
    "Create a Pandas DataFrame to store information about the performance metrics (precision, recall, and F1-score) of a classification model for different classes. Calculate the average precision across all classes."
   ]
  },
  {
   "cell_type": "code",
   "execution_count": 2,
   "id": "4e68003b",
   "metadata": {},
   "outputs": [
    {
     "name": "stdout",
     "output_type": "stream",
     "text": [
      "Average Precision: Class\n",
      "Class A    0.82\n",
      "Class B    0.76\n",
      "Class C    0.89\n",
      "Name: Precision, dtype: float64\n"
     ]
    }
   ],
   "source": [
    "# The data represents performance metrics\n",
    "data = {'Class': ['Class A', 'Class B', 'Class C'],\n",
    "        'Precision': [0.82, 0.76, 0.89],\n",
    "        'Recall': [0.72, 0.84, 0.91],\n",
    "        'F1-score': [0.76, 0.80, 0.87]}\n",
    "\n",
    "# TODO: Create a DataFrame to represent performance metrics\n",
    "performance_df = pd.DataFrame(data)\n",
    "\n",
    "# TODO: Calculate the average precision across all classes using the .groupby() and .mean() methods\n",
    "average_precision = performance_df.groupby('Class')['Precision'].mean()\n",
    "\n",
    "# Print the average precision\n",
    "print(\"Average Precision:\", average_precision)"
   ]
  },
  {
   "cell_type": "markdown",
   "id": "7d918659",
   "metadata": {},
   "source": [
    "### Exercise 3: DataFrame\n",
    "\n",
    "Create a Pandas DataFrame to represent the sales data of different products for different regions. Calculate the total sales for each region and find the region with the highest total sales."
   ]
  },
  {
   "cell_type": "code",
   "execution_count": 3,
   "id": "0b99f0b9",
   "metadata": {},
   "outputs": [
    {
     "name": "stdout",
     "output_type": "stream",
     "text": [
      "Total Sales by Region:\n",
      "Region\n",
      "Region A    220\n",
      "Region B    200\n",
      "Region C    330\n",
      "Name: Sales, dtype: int64\n",
      "Region with Highest Sales: Region C\n"
     ]
    }
   ],
   "source": [
    "# The data represents some sales information\n",
    "data = {'Region': ['Region A', 'Region B', 'Region C', 'Region A', 'Region C'],\n",
    "        'Product': ['Product 1', 'Product 2', 'Product 1', 'Product 2', 'Product 3'],\n",
    "        'Sales': [100, 200, 150, 120, 180]}\n",
    "\n",
    "# TODO: Create a DataFrame to represent sales data\n",
    "sales_df = pd.DataFrame(data)\n",
    "\n",
    "# TODO: Calculate the total sales for each region by using the .groupby() and .sum() methods\n",
    "total_sales = sales_df.groupby('Region')['Sales'].sum()\n",
    "\n",
    "# TODO: Find the region with the highest total sales using .idmax() method\n",
    "highest_sales_region = total_sales.idxmax()\n",
    "\n",
    "# Print the total sales for each region and the region with the highest sales\n",
    "print(\"Total Sales by Region:\")\n",
    "print(total_sales)\n",
    "print(\"Region with Highest Sales:\", highest_sales_region)"
   ]
  },
  {
   "cell_type": "markdown",
   "id": "c0455366",
   "metadata": {},
   "source": [
    "### Exercise 4: Exploring Data\n",
    "\n",
    "Given a synthetic DataFrame `data`, explore the data by displaying the first few rows, summary statistics, and column information."
   ]
  },
  {
   "cell_type": "code",
   "execution_count": 4,
   "id": "207b13cc",
   "metadata": {},
   "outputs": [
    {
     "name": "stdout",
     "output_type": "stream",
     "text": [
      "First few rows of the data:\n",
      "   Feature1 Feature2  Feature3\n",
      "0         5        E      True\n",
      "1         7        A     False\n",
      "2         6        C      True\n",
      "3         3        G      True\n",
      "4         1        K     False\n",
      "11th and 12th rows of the data:\n",
      "    Feature1 Feature2  Feature3\n",
      "10         5        E     False\n",
      "11         8        A      True\n",
      "Summary statistics of the data:\n",
      "        Feature1\n",
      "count  20.000000\n",
      "mean    4.550000\n",
      "std     2.502104\n",
      "min     1.000000\n",
      "25%     2.750000\n",
      "50%     5.000000\n",
      "75%     6.250000\n",
      "max     9.000000\n",
      "Column information:\n",
      "<class 'pandas.core.frame.DataFrame'>\n",
      "RangeIndex: 20 entries, 0 to 19\n",
      "Data columns (total 3 columns):\n",
      " #   Column    Non-Null Count  Dtype \n",
      "---  ------    --------------  ----- \n",
      " 0   Feature1  20 non-null     int64 \n",
      " 1   Feature2  20 non-null     object\n",
      " 2   Feature3  20 non-null     bool  \n",
      "dtypes: bool(1), int64(1), object(1)\n",
      "memory usage: 468.0+ bytes\n",
      "None\n"
     ]
    }
   ],
   "source": [
    "# Synthetic DataFrame\n",
    "data = pd.DataFrame({\n",
    "    'Feature1': [5, 7, 6, 3, 1, 2, 8, 6, 7, 5, 5, 8, 1, 2, 3, 4, 5, 9, 1, 3],\n",
    "    'Feature2': ['E', 'A', 'C', 'G', 'K', 'E', 'A', 'E', 'G', 'L', 'E', 'A', 'D', 'G', 'K', 'F', 'A', 'D', 'E', 'K'],\n",
    "    'Feature3': [True, False, True, True, False, True, False, True, False, True, False, True, True, False, True, True, False, True, False, True]\n",
    "})\n",
    "\n",
    "# TODO: Display the first few rows of the data. Use the head() method\n",
    "print(\"First few rows of the data:\")\n",
    "print(data.head())\n",
    "\n",
    "# TODO: Display the 11th and 12th rows of the data\n",
    "print(\"11th and 12th rows of the data:\")\n",
    "print(data.iloc[10:12])\n",
    "\n",
    "# TODO: Display summary statistics of the data. Use the describe() method\n",
    "print(\"Summary statistics of the data:\")\n",
    "print(data.describe())\n",
    "\n",
    "# TODO: Display column information. Use the info() method\n",
    "print(\"Column information:\")\n",
    "print(data.info())"
   ]
  },
  {
   "cell_type": "markdown",
   "id": "f1411931",
   "metadata": {},
   "source": [
    "### Exercise 5: Sorting Data\n",
    "\n",
    "Given a synthetic DataFrame `data`, sort the data based on a specific column in ascending order."
   ]
  },
  {
   "cell_type": "code",
   "execution_count": 5,
   "id": "3b647d01",
   "metadata": {},
   "outputs": [
    {
     "name": "stdout",
     "output_type": "stream",
     "text": [
      "Sorted Data based on 'Feature1':\n",
      "    Feature1 Feature2  Feature3\n",
      "4          1        K     False\n",
      "12         1        D      True\n",
      "18         1        E     False\n",
      "5          2        E      True\n",
      "13         2        G     False\n",
      "19         3        K      True\n",
      "3          3        G      True\n",
      "14         3        K      True\n",
      "15         4        F      True\n",
      "16         5        A     False\n",
      "0          5        E      True\n",
      "10         5        E     False\n",
      "9          5        L      True\n",
      "7          6        E      True\n",
      "2          6        C      True\n",
      "8          7        G     False\n",
      "1          7        A     False\n",
      "11         8        A      True\n",
      "6          8        A     False\n",
      "17         9        D      True\n",
      "Sorted Data based on 'Feature2':\n",
      "    Feature1 Feature2  Feature3\n",
      "9          5        L      True\n",
      "19         3        K      True\n",
      "4          1        K     False\n",
      "14         3        K      True\n",
      "3          3        G      True\n",
      "13         2        G     False\n",
      "8          7        G     False\n",
      "15         4        F      True\n",
      "18         1        E     False\n",
      "0          5        E      True\n",
      "7          6        E      True\n",
      "5          2        E      True\n",
      "10         5        E     False\n",
      "12         1        D      True\n",
      "17         9        D      True\n",
      "2          6        C      True\n",
      "1          7        A     False\n",
      "11         8        A      True\n",
      "6          8        A     False\n",
      "16         5        A     False\n"
     ]
    }
   ],
   "source": [
    "# TODO: Sort the data based on 'Feature1' column in ascending order. Use the sort_values() method\n",
    "sorted_data1 = data.sort_values(by='Feature1', ascending=True)\n",
    "\n",
    "# TODO: Sort the data based on 'Feature2' column in descending order. Use the sort_values() method\n",
    "sorted_data2 = data.sort_values(by='Feature2', ascending=False)\n",
    "\n",
    "# Display the sorted data\n",
    "print(\"Sorted Data based on 'Feature1':\")\n",
    "print(sorted_data1)\n",
    "\n",
    "print(\"Sorted Data based on 'Feature2':\")\n",
    "print(sorted_data2)"
   ]
  },
  {
   "cell_type": "markdown",
   "id": "46f92514",
   "metadata": {},
   "source": [
    "## Data Manipulation: Learn how to manipulate and transform data using Pandas functions"
   ]
  },
  {
   "cell_type": "markdown",
   "id": "73c63884",
   "metadata": {},
   "source": [
    "### Exercise 6: Filtering data\n",
    "\n",
    "Create a synthetic DataFrame `research_data` containing information about AI research articles. Filter the data to select articles published in a specific year."
   ]
  },
  {
   "cell_type": "code",
   "execution_count": 6,
   "id": "a2b5c328",
   "metadata": {},
   "outputs": [
    {
     "name": "stdout",
     "output_type": "stream",
     "text": [
      "Filtered Data (Articles published before 2021):\n",
      "                          Title  Year          Authors\n",
      "0              AI in Healthcare  2020  Ahmed Al-Farabi\n",
      "2   Natural Language Processing  2019     Mohammed Ali\n",
      "4  Robots Taking Over the World  2018     Abdul Rahman\n",
      "Filtered Data (Articles published by 'Mohammed Ali'):\n",
      "                         Title  Year       Authors\n",
      "2  Natural Language Processing  2019  Mohammed Ali\n"
     ]
    }
   ],
   "source": [
    "# Synthetic DataFrame with AI research data\n",
    "research_data = pd.DataFrame({\n",
    "    'Title': ['AI in Healthcare', 'Deep Learning Techniques', 'Natural Language Processing', 'Computer Vision', 'Robots Taking Over the World', 'The Quantum Computing Revolution'],\n",
    "    'Year': [2020, 2021, 2019, 2022, 2018, 2023],\n",
    "    'Authors': ['Ahmed Al-Farabi', 'Fatima Khalid', 'Mohammed Ali', 'Noura Abdullah', 'Abdul Rahman', 'Sara Ahmed']\n",
    "})\n",
    "\n",
    "# TODO: Filter the data to select articles published before 2021\n",
    "filtered_data1 = research_data[research_data['Year'] < 2021]\n",
    "\n",
    "# TODO: Filter the data to select articles published by 'Mohammed Ali'\n",
    "filtered_data2 = research_data[research_data['Authors'] == 'Mohammed Ali']\n",
    "\n",
    "# Print the filtered data\n",
    "print(\"Filtered Data (Articles published before 2021):\")\n",
    "print(filtered_data1)\n",
    "\n",
    "print(\"Filtered Data (Articles published by 'Mohammed Ali'):\")\n",
    "print(filtered_data2)"
   ]
  },
  {
   "cell_type": "markdown",
   "id": "3960e63f",
   "metadata": {},
   "source": [
    "### Exercise 7: Transforming AI Survey Data\n",
    "\n",
    "Create a synthetic DataFrame `survey_data` containing survey responses on AI adoption. Calculate the average rating for each AI application category and create a new DataFrame to store the calculated values."
   ]
  },
  {
   "cell_type": "code",
   "execution_count": 7,
   "id": "24b2b575",
   "metadata": {},
   "outputs": [
    {
     "name": "stdout",
     "output_type": "stream",
     "text": [
      "Average Ratings:\n",
      "                AI Application  Average Rating\n",
      "0          Autonomous Vehicles             4.1\n",
      "1            Image Recognition             4.2\n",
      "2  Natural Language Processing             3.8\n",
      "3       Recommendation Systems             4.3\n",
      "4           Speech Recognition             4.5\n",
      "5           Virtual Assistants             3.9\n"
     ]
    }
   ],
   "source": [
    "# Synthetic DataFrame with AI survey data\n",
    "survey_data = pd.DataFrame({\n",
    "    'AI Application': ['Image Recognition', \n",
    "                       'Natural Language Processing', \n",
    "                       'Speech Recognition', \n",
    "                       'Autonomous Vehicles', \n",
    "                       'Recommendation Systems', \n",
    "                       'Virtual Assistants'],\n",
    "    'Rating': [4.2, 3.8, 4.5, 4.1, 4.3, 3.9]\n",
    "})\n",
    "\n",
    "\n",
    "# TODO: Calculate the average rating for each AI application category\n",
    "average_ratings = survey_data.groupby('AI Application')['Rating'].mean()\n",
    "\n",
    "# TODO: Create a new DataFrame to store the calculated average ratings\n",
    "average_ratings_df = pd.DataFrame({\n",
    "    'AI Application': average_ratings.index,\n",
    "    'Average Rating': average_ratings.values\n",
    "})\n",
    "\n",
    "# Print the new DataFrame\n",
    "print(\"Average Ratings:\")\n",
    "print(average_ratings_df)"
   ]
  },
  {
   "cell_type": "markdown",
   "id": "99441c5a",
   "metadata": {},
   "source": [
    "### Exercise 8: Aggregating AI Sales Data\n",
    "\n",
    "Create a synthetic DataFrame `sales_data` containing information about AI product sales. Calculate the total sales amount for each product category and display the results."
   ]
  },
  {
   "cell_type": "code",
   "execution_count": 8,
   "id": "731b493b",
   "metadata": {},
   "outputs": [
    {
     "name": "stdout",
     "output_type": "stream",
     "text": [
      "Sales Totals:\n",
      "Product Category\n",
      "Hardware    540000\n",
      "Services    780000\n",
      "Software    880000\n",
      "Name: Sales Amount, dtype: int64\n",
      "Average Sales Amounts:\n",
      "Product Category\n",
      "Hardware    1350.0\n",
      "Services    3900.0\n",
      "Software    2200.0\n",
      "Name: Sales Amount, dtype: float64\n"
     ]
    }
   ],
   "source": [
    "# Synthetic DataFrame with AI sales data\n",
    "sales_data = pd.DataFrame({\n",
    "    'Product Category': ['Hardware', 'Software', 'Services', 'Hardware', 'Software'] * 200,\n",
    "    'Sales Amount': [2500, 2100, 3900, 200, 2300] * 200\n",
    "})\n",
    "\n",
    "# Calculate the total sales amount for each product category\n",
    "sales_totals = sales_data.groupby('Product Category')['Sales Amount'].sum()\n",
    "\n",
    "# Calculate the average sales amount for each product category\n",
    "sales_average = sales_data.groupby('Product Category')['Sales Amount'].mean()\n",
    "\n",
    "# Print the sales totals\n",
    "print(\"Sales Totals:\")\n",
    "print(sales_totals)\n",
    "\n",
    "# Print the average sales amounts\n",
    "print(\"Average Sales Amounts:\")\n",
    "print(sales_average)"
   ]
  },
  {
   "cell_type": "markdown",
   "id": "8a587ab9",
   "metadata": {},
   "source": [
    "## Data Input and Output: Learn how to read/write data from/to different file formats"
   ]
  },
  {
   "cell_type": "markdown",
   "id": "69d520bf",
   "metadata": {},
   "source": [
    "### Exercise 9: Writing Data to CSV File\n",
    "\n",
    "Create a synthetic DataFrame `predictions` with IDs and boolean labels, and write it to a CSV file named \"predictions.csv\" using the default approach and with index column."
   ]
  },
  {
   "cell_type": "code",
   "execution_count": 9,
   "id": "00e258ad",
   "metadata": {},
   "outputs": [],
   "source": [
    "# Synthetic DataFrame with predictions\n",
    "predictions = pd.DataFrame({\n",
    "    'ID': [1, 2, 3, 4, 5],\n",
    "    'Label': [True, False, True, True, False]\n",
    "})\n",
    "\n",
    "# Write the predictions to a CSV file (default approach)\n",
    "predictions.to_csv('predictions_default.csv')\n",
    "\n",
    "# Write the predictions to a CSV file (including index)\n",
    "predictions.to_csv('predictions_with_index.csv', index=False)"
   ]
  },
  {
   "cell_type": "markdown",
   "id": "d1025e8e",
   "metadata": {},
   "source": [
    "### Exercise 10: Writing and Reading Data from JSON File\n",
    "\n",
    "Using the synthetic DataFrame `predictions` with IDs and boolean labels, save the data to a JSON file named \"predictions.json\", and then load the same data from the JSON file."
   ]
  },
  {
   "cell_type": "code",
   "execution_count": 10,
   "id": "22d58be7",
   "metadata": {},
   "outputs": [
    {
     "name": "stdout",
     "output_type": "stream",
     "text": [
      "   ID  Label\n",
      "0   1   True\n",
      "1   2  False\n",
      "2   3   True\n",
      "3   4   True\n",
      "4   5  False\n"
     ]
    }
   ],
   "source": [
    "# TODO: Save the predictions to a JSON file\n",
    "predictions.to_json('predictions.json')\n",
    "\n",
    "# TODO: Load the data from the JSON file\n",
    "data = pd.read_json('predictions.json')\n",
    "\n",
    "# Display the data\n",
    "print(data)"
   ]
  }
 ],
 "metadata": {
  "kernelspec": {
   "display_name": "Python 3 (ipykernel)",
   "language": "python",
   "name": "python3"
  },
  "language_info": {
   "codemirror_mode": {
    "name": "ipython",
    "version": 3
   },
   "file_extension": ".py",
   "mimetype": "text/x-python",
   "name": "python",
   "nbconvert_exporter": "python",
   "pygments_lexer": "ipython3",
   "version": "3.10.9"
  }
 },
 "nbformat": 4,
 "nbformat_minor": 5
}
